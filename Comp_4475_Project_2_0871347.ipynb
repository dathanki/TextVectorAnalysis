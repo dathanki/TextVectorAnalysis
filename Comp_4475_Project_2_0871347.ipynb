{
 "cells": [
  {
   "cell_type": "markdown",
   "metadata": {
    "id": "tQ1r1bbb0yBv"
   },
   "source": [
    "# <img src=\"https://github.com/JuliaLang/julia-logo-graphics/raw/master/images/julia-logo-color.png\" height=\"100\" /> _Colab Notebook Template_\n",
    "\n",
    "## Instructions\n",
    "1. Work on a copy of this notebook: _File_ > _Save a copy in Drive_ (you will need a Google account). Alternatively, you can download the notebook using _File_ > _Download .ipynb_, then upload it to [Colab](https://colab.research.google.com/).\n",
    "2. If you need a GPU: _Runtime_ > _Change runtime type_ > _Harware accelerator_ = _GPU_.\n",
    "3. Execute the following cell (click on it and press Ctrl+Enter) to install Julia, IJulia and other packages (if needed, update `JULIA_VERSION` and the other parameters). This takes a couple of minutes.\n",
    "4. Reload this page (press Ctrl+R, or ⌘+R, or the F5 key) and continue to the next section.\n",
    "\n",
    "_Notes_:\n",
    "* If your Colab Runtime gets reset (e.g., due to inactivity), repeat steps 2, 3 and 4.\n",
    "* After installation, if you want to change the Julia version or activate/deactivate the GPU, you will need to reset the Runtime: _Runtime_ > _Factory reset runtime_ and repeat steps 3 and 4."
   ]
  },
  {
   "cell_type": "code",
   "execution_count": null,
   "metadata": {
    "colab": {
     "base_uri": "https://localhost:8080/",
     "height": 86
    },
    "id": "GIeFXS0F0zww",
    "outputId": "97426712-ec50-4abf-b689-75f4312f4eac"
   },
   "outputs": [
    {
     "data": {
      "text/latex": [
       "Unrecognized magic \\texttt{\\%\\%shell}.\n",
       "\n",
       "Julia does not use the IPython \\texttt{\\%magic} syntax.   To interact with the IJulia kernel, use \\texttt{IJulia.somefunction(...)}, for example.  Julia macros, string macros, and functions can be used to accomplish most of the other functionalities of IPython magics.\n",
       "\n"
      ],
      "text/markdown": [
       "Unrecognized magic `%%shell`.\n",
       "\n",
       "Julia does not use the IPython `%magic` syntax.   To interact with the IJulia kernel, use `IJulia.somefunction(...)`, for example.  Julia macros, string macros, and functions can be used to accomplish most of the other functionalities of IPython magics.\n"
      ],
      "text/plain": [
       "  Unrecognized magic \u001b[36m%%shell\u001b[39m.\n",
       "\n",
       "  Julia does not use the IPython \u001b[36m%magic\u001b[39m syntax. To interact with the IJulia\n",
       "  kernel, use \u001b[36mIJulia.somefunction(...)\u001b[39m, for example. Julia macros, string\n",
       "  macros, and functions can be used to accomplish most of the other\n",
       "  functionalities of IPython magics."
      ]
     },
     "metadata": {
      "tags": []
     },
     "output_type": "display_data"
    }
   ],
   "source": [
    "%%shell\n",
    "set -e\n",
    "\n",
    "#---------------------------------------------------#\n",
    "JULIA_VERSION=\"1.5.3\" # any version ≥ 0.7.0\n",
    "JULIA_PACKAGES=\"IJulia BenchmarkTools Plots\"\n",
    "JULIA_PACKAGES_IF_GPU=\"CuArrays\"\n",
    "JULIA_NUM_THREADS=2\n",
    "#---------------------------------------------------#\n",
    "\n",
    "if [ -n \"$COLAB_GPU\" ] && [ -z `which julia` ]; then\n",
    "  # Install Julia\n",
    "  JULIA_VER=`cut -d '.' -f -2 <<< \"$JULIA_VERSION\"`\n",
    "  echo \"Installing Julia $JULIA_VERSION on the current Colab Runtime...\"\n",
    "  BASE_URL=\"https://julialang-s3.julialang.org/bin/linux/x64\"\n",
    "  URL=\"$BASE_URL/$JULIA_VER/julia-$JULIA_VERSION-linux-x86_64.tar.gz\"\n",
    "  wget -nv $URL -O /tmp/julia.tar.gz # -nv means \"not verbose\"\n",
    "  tar -x -f /tmp/julia.tar.gz -C /usr/local --strip-components 1\n",
    "  rm /tmp/julia.tar.gz\n",
    "\n",
    "  # Install Packages\n",
    "  if [ \"$COLAB_GPU\" = \"1\" ]; then\n",
    "      JULIA_PACKAGES=\"$JULIA_PACKAGES $JULIA_PACKAGES_IF_GPU\"\n",
    "  fi\n",
    "  for PKG in `echo $JULIA_PACKAGES`; do\n",
    "    echo \"Installing Julia package $PKG...\"\n",
    "    julia -e 'using Pkg; pkg\"add '$PKG'; precompile;\"'\n",
    "  done\n",
    "\n",
    "  # Install kernel and rename it to \"julia\"\n",
    "  echo \"Installing IJulia kernel...\"\n",
    "  julia -e 'using IJulia; IJulia.installkernel(\"julia\", env=Dict(\n",
    "      \"JULIA_NUM_THREADS\"=>\"'\"$JULIA_NUM_THREADS\"'\"))'\n",
    "  KERNEL_DIR=`julia -e \"using IJulia; print(IJulia.kerneldir())\"`\n",
    "  KERNEL_NAME=`ls -d \"$KERNEL_DIR\"/julia*`\n",
    "  mv -f $KERNEL_NAME \"$KERNEL_DIR\"/julia  \n",
    "\n",
    "  echo ''\n",
    "  echo \"Success! Please reload this page and jump to the next section.\"\n",
    "fi"
   ]
  },
  {
   "cell_type": "markdown",
   "metadata": {
    "id": "-OS3Ac017T1i"
   },
   "source": [
    "# Checking the Installation\n",
    "The `versioninfo()` function should print your Julia version and some other info about the system:"
   ]
  },
  {
   "cell_type": "code",
   "execution_count": null,
   "metadata": {
    "colab": {
     "base_uri": "https://localhost:8080/"
    },
    "id": "EEzvvzCl1i0F",
    "outputId": "0db1d7a8-0530-436a-e5af-e13c2c090be4"
   },
   "outputs": [
    {
     "name": "stdout",
     "output_type": "stream",
     "text": [
      "Julia Version 1.5.3\n",
      "Commit 788b2c77c1 (2020-11-09 13:37 UTC)\n",
      "Platform Info:\n",
      "  OS: Linux (x86_64-pc-linux-gnu)\n",
      "  CPU: Intel(R) Xeon(R) CPU @ 2.20GHz\n",
      "  WORD_SIZE: 64\n",
      "  LIBM: libopenlibm\n",
      "  LLVM: libLLVM-9.0.1 (ORCJIT, broadwell)\n",
      "Environment:\n",
      "  JULIA_NUM_THREADS = 2\n"
     ]
    }
   ],
   "source": [
    "versioninfo()"
   ]
  },
  {
   "cell_type": "markdown",
   "metadata": {
    "id": "0ReqiSPqP7g_"
   },
   "source": [
    "# Adding packages utilised\n",
    "\n"
   ]
  },
  {
   "cell_type": "code",
   "execution_count": null,
   "metadata": {
    "id": "nww33aCPDMUW"
   },
   "outputs": [],
   "source": [
    "import Pkg"
   ]
  },
  {
   "cell_type": "code",
   "execution_count": null,
   "metadata": {
    "colab": {
     "base_uri": "https://localhost:8080/"
    },
    "id": "AMrikYTYDP5_",
    "outputId": "275a7452-5751-44e9-eecb-17f54f4168e1"
   },
   "outputs": [
    {
     "name": "stderr",
     "output_type": "stream",
     "text": [
      "\u001b[32m\u001b[1m  Resolving\u001b[22m\u001b[39m package versions...\n",
      "\u001b[32m\u001b[1mNo Changes\u001b[22m\u001b[39m to `~/.julia/environments/v1.5/Project.toml`\n",
      "\u001b[32m\u001b[1mNo Changes\u001b[22m\u001b[39m to `~/.julia/environments/v1.5/Manifest.toml`\n",
      "\u001b[32m\u001b[1m  Resolving\u001b[22m\u001b[39m package versions...\n",
      "\u001b[32m\u001b[1mNo Changes\u001b[22m\u001b[39m to `~/.julia/environments/v1.5/Project.toml`\n",
      "\u001b[32m\u001b[1mNo Changes\u001b[22m\u001b[39m to `~/.julia/environments/v1.5/Manifest.toml`\n",
      "\u001b[32m\u001b[1m  Resolving\u001b[22m\u001b[39m package versions...\n",
      "\u001b[32m\u001b[1mNo Changes\u001b[22m\u001b[39m to `~/.julia/environments/v1.5/Project.toml`\n",
      "\u001b[32m\u001b[1mNo Changes\u001b[22m\u001b[39m to `~/.julia/environments/v1.5/Manifest.toml`\n",
      "\u001b[32m\u001b[1m  Resolving\u001b[22m\u001b[39m package versions...\n",
      "\u001b[32m\u001b[1mNo Changes\u001b[22m\u001b[39m to `~/.julia/environments/v1.5/Project.toml`\n",
      "\u001b[32m\u001b[1mNo Changes\u001b[22m\u001b[39m to `~/.julia/environments/v1.5/Manifest.toml`\n",
      "\u001b[32m\u001b[1m  Resolving\u001b[22m\u001b[39m package versions...\n",
      "\u001b[32m\u001b[1mNo Changes\u001b[22m\u001b[39m to `~/.julia/environments/v1.5/Project.toml`\n",
      "\u001b[32m\u001b[1mNo Changes\u001b[22m\u001b[39m to `~/.julia/environments/v1.5/Manifest.toml`\n",
      "\u001b[32m\u001b[1m  Resolving\u001b[22m\u001b[39m package versions...\n",
      "\u001b[32m\u001b[1mNo Changes\u001b[22m\u001b[39m to `~/.julia/environments/v1.5/Project.toml`\n",
      "\u001b[32m\u001b[1mNo Changes\u001b[22m\u001b[39m to `~/.julia/environments/v1.5/Manifest.toml`\n",
      "\u001b[32m\u001b[1m  Resolving\u001b[22m\u001b[39m package versions...\n",
      "\u001b[32m\u001b[1mNo Changes\u001b[22m\u001b[39m to `~/.julia/environments/v1.5/Project.toml`\n",
      "\u001b[32m\u001b[1mNo Changes\u001b[22m\u001b[39m to `~/.julia/environments/v1.5/Manifest.toml`\n",
      "\u001b[32m\u001b[1m  Resolving\u001b[22m\u001b[39m package versions...\n",
      "\u001b[32m\u001b[1mNo Changes\u001b[22m\u001b[39m to `~/.julia/environments/v1.5/Project.toml`\n",
      "\u001b[32m\u001b[1mNo Changes\u001b[22m\u001b[39m to `~/.julia/environments/v1.5/Manifest.toml`\n",
      "\u001b[32m\u001b[1m  Resolving\u001b[22m\u001b[39m package versions...\n",
      "\u001b[32m\u001b[1mNo Changes\u001b[22m\u001b[39m to `~/.julia/environments/v1.5/Project.toml`\n",
      "\u001b[32m\u001b[1mNo Changes\u001b[22m\u001b[39m to `~/.julia/environments/v1.5/Manifest.toml`\n",
      "\u001b[32m\u001b[1m  Resolving\u001b[22m\u001b[39m package versions...\n",
      "\u001b[32m\u001b[1mNo Changes\u001b[22m\u001b[39m to `~/.julia/environments/v1.5/Project.toml`\n",
      "\u001b[32m\u001b[1mNo Changes\u001b[22m\u001b[39m to `~/.julia/environments/v1.5/Manifest.toml`\n"
     ]
    }
   ],
   "source": [
    "Pkg.add(\"Word2Vec\")\n",
    "Pkg.add(\"Gadfly\")\n",
    "Pkg.add(\"TextAnalysis\")\n",
    "Pkg.add(\"Distances\")\n",
    "Pkg.add(\"Statistics\")\n",
    "Pkg.add(\"MultivariateStats\")\n",
    "Pkg.add(\"PyPlot\")\n",
    "Pkg.add(\"WordTokenizers\")\n",
    "Pkg.add(\"DelimitedFiles\")\n",
    "Pkg.add(\"Plots\")"
   ]
  },
  {
   "cell_type": "code",
   "execution_count": null,
   "metadata": {
    "colab": {
     "base_uri": "https://localhost:8080/"
    },
    "id": "v0XesA2xDP89",
    "outputId": "5b16d8d1-bc89-41d6-faa2-8c33ed36a83e"
   },
   "outputs": [
    {
     "name": "stderr",
     "output_type": "stream",
     "text": [
      "┌ Info: Precompiling Gadfly [c91e804a-d5a3-530f-b6f0-dfbca275c004]\n",
      "└ @ Base loading.jl:1278\n",
      "┌ Info: Precompiling WordTokenizers [796a5d58-b03d-544a-977e-18100b691f6e]\n",
      "└ @ Base loading.jl:1278\n",
      "┌ Info: Precompiling TextAnalysis [a2db99b7-8b79-58f8-94bf-bbc811eef33d]\n",
      "└ @ Base loading.jl:1278\n"
     ]
    }
   ],
   "source": [
    "using Word2Vec\n",
    "using Distances, Statistics\n",
    "using MultivariateStats\n",
    "using PyPlot\n",
    "using Gadfly\n",
    "using WordTokenizers\n",
    "using TextAnalysis\n",
    "using DelimitedFiles"
   ]
  },
  {
   "cell_type": "markdown",
   "metadata": {
    "id": "iqoOcsEQrZUt"
   },
   "source": [
    "**Function used to load the data from 'glove.6B.50d.txt'**"
   ]
  },
  {
   "cell_type": "code",
   "execution_count": null,
   "metadata": {
    "colab": {
     "base_uri": "https://localhost:8080/"
    },
    "id": "foFKj_iANh6x",
    "outputId": "70ffd1b0-e537-45e1-c481-2bb038128b1d"
   },
   "outputs": [
    {
     "data": {
      "text/plain": [
       "load_embeddings (generic function with 1 method)"
      ]
     },
     "execution_count": 130,
     "metadata": {
      "tags": []
     },
     "output_type": "execute_result"
    }
   ],
   "source": [
    "function load_embeddings(embedding_file)\n",
    "    local LL, indexed_words, index\n",
    "    indexed_words = Vector{String}()\n",
    "    LL = Vector{Vector{Float32}}()\n",
    "    open(embedding_file) do f\n",
    "        index = 1\n",
    "        for line in eachline(f)\n",
    "            xs = split(line)\n",
    "            word = xs[1]\n",
    "            push!(indexed_words, word)\n",
    "            push!(LL, parse.(Float32, xs[2:end]))\n",
    "            index += 1\n",
    "        end\n",
    "    end\n",
    "    return reduce(hcat, LL), indexed_words\n",
    "end"
   ]
  },
  {
   "cell_type": "markdown",
   "metadata": {
    "id": "c1ydqHpkrme3"
   },
   "source": [
    "**Function used to quantify the vector value of a given word**"
   ]
  },
  {
   "cell_type": "code",
   "execution_count": null,
   "metadata": {
    "colab": {
     "base_uri": "https://localhost:8080/"
    },
    "id": "AwV1kUnTDQGn",
    "outputId": "d299ea2c-1032-4a2e-c16c-9e3583dd10cd"
   },
   "outputs": [
    {
     "data": {
      "text/plain": [
       "vec (generic function with 1 method)"
      ]
     },
     "execution_count": 131,
     "metadata": {
      "tags": []
     },
     "output_type": "execute_result"
    }
   ],
   "source": [
    "function vec(s) \n",
    "    if glove_vec_idx(s) != nothing\n",
    "        embeddings[:, glove_vec_idx(s)]\n",
    "    end    \n",
    "end"
   ]
  },
  {
   "cell_type": "markdown",
   "metadata": {
    "id": "IWTxKSAevXCB"
   },
   "source": [
    "**Function used to check the closest n number of words in contrast to a given word**"
   ]
  },
  {
   "cell_type": "code",
   "execution_count": null,
   "metadata": {
    "colab": {
     "base_uri": "https://localhost:8080/"
    },
    "id": "38OBg62mDQB-",
    "outputId": "f00d509e-48a6-4fee-9fe6-c455f404c6a5"
   },
   "outputs": [
    {
     "data": {
      "text/plain": [
       "closest (generic function with 2 methods)"
      ]
     },
     "execution_count": 132,
     "metadata": {
      "tags": []
     },
     "output_type": "execute_result"
    }
   ],
   "source": [
    "function closest(v, n=11)\n",
    "    list=[(x,cosine(embeddings'[x,:], v)) for x in 1:size(embeddings)[2]]\n",
    "    topn_idx = sort(list, by = x -> x[2], rev = true)[1:n]\n",
    "    return [vocab[a] for (a,_) in topn_idx]\n",
    "end"
   ]
  },
  {
   "cell_type": "markdown",
   "metadata": {
    "id": "zRL8cdzr44Mk"
   },
   "source": [
    "**Function used to find the mean vector of each sentence by taking the vectors of each word**"
   ]
  },
  {
   "cell_type": "code",
   "execution_count": null,
   "metadata": {
    "colab": {
     "base_uri": "https://localhost:8080/"
    },
    "id": "1Lb7aRku4tnV",
    "outputId": "d372dea2-4e95-4519-c9e5-a980e576f4de"
   },
   "outputs": [
    {
     "data": {
      "text/plain": [
       "sentvec (generic function with 1 method)"
      ]
     },
     "execution_count": 133,
     "metadata": {
      "tags": []
     },
     "output_type": "execute_result"
    }
   ],
   "source": [
    "function sentvec(s) \n",
    "    local arr=[]\n",
    "    for w in split(sentences[s])\n",
    "        if vec(w)!=nothing\n",
    "            push!(arr, vec(w))\n",
    "        end\n",
    "    end\n",
    "    if length(arr)==0\n",
    "        ones(Float32, (50,1))*999\n",
    "    else\n",
    "        mean(arr)\n",
    "    end\n",
    "end"
   ]
  },
  {
   "cell_type": "markdown",
   "metadata": {
    "id": "THTVrXY55buI"
   },
   "source": [
    "**Function used return nearest n neightbours with respect to sentence string given as input**"
   ]
  },
  {
   "cell_type": "code",
   "execution_count": null,
   "metadata": {
    "colab": {
     "base_uri": "https://localhost:8080/"
    },
    "id": "LWRn-wXy5b4F",
    "outputId": "e94bceb1-246c-4704-cf5d-bab825f3e464"
   },
   "outputs": [
    {
     "data": {
      "text/plain": [
       "closest_sent (generic function with 2 methods)"
      ]
     },
     "execution_count": 134,
     "metadata": {
      "tags": []
     },
     "output_type": "execute_result"
    }
   ],
   "source": [
    "function closest_sent(input_str, n=20)\n",
    "    mean_vec_input=mean([vec(w) for w in split(input_str)])\n",
    "    list=[(x,cosine(mean_vec_input, sentvec(x))) for x in 1:length(sentences)]\n",
    "    topn_idx=sort(list, by = x -> x[2], rev=true)[1:n]\n",
    "    return [sentences[a] for (a,_) in topn_idx]\n",
    "end"
   ]
  },
  {
   "cell_type": "markdown",
   "metadata": {
    "id": "NSs90v0L7vvB"
   },
   "source": [
    "**Same function as above except this one uses pretrained data as input for a faster ouput for a given sentence**"
   ]
  },
  {
   "cell_type": "code",
   "execution_count": null,
   "metadata": {
    "colab": {
     "base_uri": "https://localhost:8080/"
    },
    "id": "6ltAu2l07uv7",
    "outputId": "c3ad59d9-1f93-4a64-fa5f-ce1769b85e3a"
   },
   "outputs": [
    {
     "data": {
      "text/plain": [
       "closest_sent_pretrained (generic function with 2 methods)"
      ]
     },
     "execution_count": 135,
     "metadata": {
      "tags": []
     },
     "output_type": "execute_result"
    }
   ],
   "source": [
    "function closest_sent_pretrained(pretrained_arr, input_str, n=20)\n",
    "    mean_vec_input=mean([vec(w) for w in split(input_str)])\n",
    "    list=[(x,cosine(mean_vec_input, pretrained_arr[x,:])) for x in 1:length(sentences)]\n",
    "    topn_idx=sort(list, by = x -> x[2], rev=true)[1:n]\n",
    "    return [sentences[a] for (a,_) in topn_idx]\n",
    "end"
   ]
  },
  {
   "cell_type": "markdown",
   "metadata": {
    "id": "Cawe3ablOUCA"
   },
   "source": [
    "## Using Word2Vec to quantify data\n",
    "\n"
   ]
  },
  {
   "cell_type": "markdown",
   "metadata": {
    "id": "J-mlnikVs_pk"
   },
   "source": [
    "**Create files and models for text8 data**"
   ]
  },
  {
   "cell_type": "markdown",
   "metadata": {
    "id": "JGS6lKEtukIh"
   },
   "source": [
    "**Text8 vector**"
   ]
  },
  {
   "cell_type": "code",
   "execution_count": null,
   "metadata": {
    "colab": {
     "base_uri": "https://localhost:8080/"
    },
    "id": "DLl9sKVEDQLH",
    "outputId": "87bfb734-8e84-4877-ff44-ea89fa883fc7"
   },
   "outputs": [
    {
     "name": "stdout",
     "output_type": "stream",
     "text": [
      "Starting training using file text8\n",
      "Vocab size: 71291\n",
      "Words in train file: 16718843\n",
      "Alpha: 0.000002  Progress: 100.03%  Words/thread/sec: 385.84k  "
     ]
    },
    {
     "data": {
      "text/plain": [
       "Process(`\u001b[4m/root/.julia/artifacts/0c86f7feb8f6b4ab5f9fb793f1fde1278e3a6021/bin/word2vec\u001b[24m \u001b[4m-train\u001b[24m \u001b[4mtext8\u001b[24m \u001b[4m-output\u001b[24m \u001b[4mtext8-vector.txt\u001b[24m \u001b[4m-size\u001b[24m \u001b[4m100\u001b[24m \u001b[4m-window\u001b[24m \u001b[4m5\u001b[24m \u001b[4m-sample\u001b[24m \u001b[4m0.001\u001b[24m \u001b[4m-hs\u001b[24m \u001b[4m0\u001b[24m \u001b[4m-negative\u001b[24m \u001b[4m5\u001b[24m \u001b[4m-threads\u001b[24m \u001b[4m12\u001b[24m \u001b[4m-iter\u001b[24m \u001b[4m5\u001b[24m \u001b[4m-min-count\u001b[24m \u001b[4m5\u001b[24m \u001b[4m-alpha\u001b[24m \u001b[4m0.025\u001b[24m \u001b[4m-debug\u001b[24m \u001b[4m2\u001b[24m \u001b[4m-binary\u001b[24m \u001b[4m0\u001b[24m \u001b[4m-cbow\u001b[24m \u001b[4m1\u001b[24m`, ProcessExited(0))"
      ]
     },
     "execution_count": 136,
     "metadata": {
      "tags": []
     },
     "output_type": "execute_result"
    }
   ],
   "source": [
    "# create a vectorized txt file\n",
    "word2vec(\"text8\", \"text8-vector.txt\", verbose=true)"
   ]
  },
  {
   "cell_type": "code",
   "execution_count": null,
   "metadata": {
    "colab": {
     "base_uri": "https://localhost:8080/"
    },
    "id": "c0AZLiEVDQO0",
    "outputId": "637d1716-e3e8-4c75-cb6e-d8e04df130d5"
   },
   "outputs": [
    {
     "data": {
      "text/plain": [
       "WordVectors 71291 words, 100-element Float64 vectors"
      ]
     },
     "execution_count": 137,
     "metadata": {
      "tags": []
     },
     "output_type": "execute_result"
    }
   ],
   "source": [
    "# create a model for text8\n",
    "text8_model = wordvectors(\"text8-vector.txt\")"
   ]
  },
  {
   "cell_type": "code",
   "execution_count": null,
   "metadata": {
    "colab": {
     "base_uri": "https://localhost:8080/"
    },
    "id": "7jLfkrAAOSBG",
    "outputId": "aef8fac2-e7bf-429b-810c-deb626a60ba2"
   },
   "outputs": [
    {
     "name": "stdout",
     "output_type": "stream",
     "text": [
      "Loaded embeddings for text8-vector file, each word is represented by a vector with 100 features. The vocab size is 71291\n"
     ]
    }
   ],
   "source": [
    "# describe the model\n",
    "text8_vec_size, text8_vocab_size = size(text8_model)\n",
    "println(\"Loaded embeddings for text8-vector file, each word is represented by a vector with $text8_vec_size features. The vocab size is $text8_vocab_size\")"
   ]
  },
  {
   "cell_type": "markdown",
   "metadata": {
    "id": "E8V-AY1ouqcA"
   },
   "source": [
    "**Text8-phrases vector**"
   ]
  },
  {
   "cell_type": "code",
   "execution_count": null,
   "metadata": {
    "colab": {
     "base_uri": "https://localhost:8080/"
    },
    "id": "dMYsJp9IDQUH",
    "outputId": "639046e2-0067-4cd0-8110-272512d072eb"
   },
   "outputs": [
    {
     "name": "stderr",
     "output_type": "stream",
     "text": [
      "tcmalloc: large alloc 2000003072 bytes == 0x26e2000 @  0x7f6dd020a001 0x400b68 0x7f6dcf848bf7 0x400c43\n"
     ]
    },
    {
     "name": "stdout",
     "output_type": "stream",
     "text": [
      "Starting training using file text8\n",
      "\n",
      "Vocab size (unigrams + bigrams): 2419827\n",
      "Words in train file: 17005206\n",
      "Starting training using file text8phrase\n",
      "Vocab size: 98331\n",
      "Words in train file: 15857306\n",
      "Alpha: 0.000002  Progress: 100.03%  Words/thread/sec: 379.39k  "
     ]
    },
    {
     "data": {
      "text/plain": [
       "Process(`\u001b[4m/root/.julia/artifacts/0c86f7feb8f6b4ab5f9fb793f1fde1278e3a6021/bin/word2vec\u001b[24m \u001b[4m-train\u001b[24m \u001b[4mtext8phrase\u001b[24m \u001b[4m-output\u001b[24m \u001b[4mtext8phrase-vector.txt\u001b[24m \u001b[4m-size\u001b[24m \u001b[4m100\u001b[24m \u001b[4m-window\u001b[24m \u001b[4m5\u001b[24m \u001b[4m-sample\u001b[24m \u001b[4m0.001\u001b[24m \u001b[4m-hs\u001b[24m \u001b[4m0\u001b[24m \u001b[4m-negative\u001b[24m \u001b[4m5\u001b[24m \u001b[4m-threads\u001b[24m \u001b[4m12\u001b[24m \u001b[4m-iter\u001b[24m \u001b[4m5\u001b[24m \u001b[4m-min-count\u001b[24m \u001b[4m5\u001b[24m \u001b[4m-alpha\u001b[24m \u001b[4m0.025\u001b[24m \u001b[4m-debug\u001b[24m \u001b[4m2\u001b[24m \u001b[4m-binary\u001b[24m \u001b[4m0\u001b[24m \u001b[4m-cbow\u001b[24m \u001b[4m1\u001b[24m`, ProcessExited(0))"
      ]
     },
     "execution_count": 139,
     "metadata": {
      "tags": []
     },
     "output_type": "execute_result"
    }
   ],
   "source": [
    "# create a vectorized txt file that houses the phrases\n",
    "word2phrase(\"text8\", \"text8phrase\")\n",
    "word2vec(\"text8phrase\", \"text8phrase-vector.txt\", verbose=true)"
   ]
  },
  {
   "cell_type": "code",
   "execution_count": null,
   "metadata": {
    "colab": {
     "base_uri": "https://localhost:8080/"
    },
    "id": "nmBSCHRlgKOZ",
    "outputId": "163a77b4-42fd-465f-9c66-2e125e4fc42b"
   },
   "outputs": [
    {
     "data": {
      "text/plain": [
       "WordVectors 98331 words, 100-element Float64 vectors"
      ]
     },
     "execution_count": 140,
     "metadata": {
      "tags": []
     },
     "output_type": "execute_result"
    }
   ],
   "source": [
    "# create a model based on text8phrase data\n",
    "text8_model_phrases = wordvectors(\"text8phrase-vector.txt\")"
   ]
  },
  {
   "cell_type": "code",
   "execution_count": null,
   "metadata": {
    "colab": {
     "base_uri": "https://localhost:8080/"
    },
    "id": "5yynhVAagbZX",
    "outputId": "7230a406-016b-4d11-9891-7f5bda0549d8"
   },
   "outputs": [
    {
     "name": "stdout",
     "output_type": "stream",
     "text": [
      "Loaded embeddings for text8 phrase-vector file, each word is represented by a vector with 100 features. The vocab size is 98331\n"
     ]
    }
   ],
   "source": [
    "# describe the model based on text8phrase data\n",
    "text8_phrases_vec_size, text8_phrases_vocab_size = size(text8_model_phrases)\n",
    "println(\"Loaded embeddings for text8 phrase-vector file, each word is represented by a vector with $text8_phrases_vec_size features. The vocab size is $text8_phrases_vocab_size\")"
   ]
  },
  {
   "cell_type": "markdown",
   "metadata": {
    "id": "rc6x2fZpuwwj"
   },
   "source": [
    "**Text8-cluster**"
   ]
  },
  {
   "cell_type": "code",
   "execution_count": null,
   "metadata": {
    "colab": {
     "base_uri": "https://localhost:8080/"
    },
    "id": "sGFOpqMgDQSx",
    "outputId": "c0566a21-8294-468c-c820-a6784d00e835"
   },
   "outputs": [
    {
     "name": "stdout",
     "output_type": "stream",
     "text": [
      "Starting training using file text8\n",
      "Vocab size: 71291\n",
      "Words in train file: 16718843\n",
      "Alpha: 0.020006  Progress: 19.99%  Words/thread/sec: 377.40k  "
     ]
    },
    {
     "data": {
      "text/plain": [
       "Process(`\u001b[4m/root/.julia/artifacts/0c86f7feb8f6b4ab5f9fb793f1fde1278e3a6021/bin/word2vec\u001b[24m \u001b[4m-train\u001b[24m \u001b[4mtext8\u001b[24m \u001b[4m-output\u001b[24m \u001b[4mtext8-cluster.txt\u001b[24m \u001b[4m-size\u001b[24m \u001b[4m100\u001b[24m \u001b[4m-window\u001b[24m \u001b[4m5\u001b[24m \u001b[4m-sample\u001b[24m \u001b[4m0.0\u001b[24m \u001b[4m-hs\u001b[24m \u001b[4m0\u001b[24m \u001b[4m-negative\u001b[24m \u001b[4m5\u001b[24m \u001b[4m-threads\u001b[24m \u001b[4m1\u001b[24m \u001b[4m-iter\u001b[24m \u001b[4m5\u001b[24m \u001b[4m-min-count\u001b[24m \u001b[4m5\u001b[24m \u001b[4m-alpha\u001b[24m \u001b[4m0.025\u001b[24m \u001b[4m-debug\u001b[24m \u001b[4m2\u001b[24m \u001b[4m-binary\u001b[24m \u001b[4m0\u001b[24m \u001b[4m-cbow\u001b[24m \u001b[4m1\u001b[24m \u001b[4m-classes\u001b[24m \u001b[4m100\u001b[24m`, ProcessExited(0))"
      ]
     },
     "execution_count": 142,
     "metadata": {
      "tags": []
     },
     "output_type": "execute_result"
    }
   ],
   "source": [
    "# create an indexed cluster file using the text8 data\n",
    "word2clusters(\"text8\", \"text8-cluster.txt\", 100)"
   ]
  },
  {
   "cell_type": "code",
   "execution_count": null,
   "metadata": {
    "colab": {
     "base_uri": "https://localhost:8080/"
    },
    "id": "z7OTaurMgbtP",
    "outputId": "bf7f0490-d837-4a2e-b0b1-042e48b79376"
   },
   "outputs": [
    {
     "data": {
      "text/plain": [
       "WordClusters 71291 words, 100 clusters"
      ]
     },
     "execution_count": 143,
     "metadata": {
      "tags": []
     },
     "output_type": "execute_result"
    }
   ],
   "source": [
    "text8_model_cluster = wordclusters(\"text8-cluster.txt\")"
   ]
  },
  {
   "cell_type": "code",
   "execution_count": null,
   "metadata": {
    "colab": {
     "base_uri": "https://localhost:8080/"
    },
    "id": "krrqsjl4hNru",
    "outputId": "c66a1731-db2e-4233-aa6a-fd4f948eeedf"
   },
   "outputs": [
    {
     "name": "stdout",
     "output_type": "stream",
     "text": [
      "Loaded embeddings for text8 clusters file, each word is represented by a vector with 0 features. The vocab size is 1\n"
     ]
    }
   ],
   "source": [
    "# describe the model\n",
    "text8_clusters_vec_size, text8_clusters_vocab_size = clusters(text8_model_cluster)\n",
    "println(\"Loaded embeddings for text8 clusters file, each word is represented by a vector with $text8_clusters_vec_size features. The vocab size is $text8_clusters_vocab_size\")"
   ]
  },
  {
   "cell_type": "markdown",
   "metadata": {
    "id": "SVorw9Lwu7h-"
   },
   "source": [
    "**For data in glove.6B.50d.txt**"
   ]
  },
  {
   "cell_type": "code",
   "execution_count": null,
   "metadata": {
    "colab": {
     "base_uri": "https://localhost:8080/"
    },
    "id": "PLuXaNDbNpgb",
    "outputId": "b012d4ee-9ef8-4bd2-893e-eff61ddd5c74"
   },
   "outputs": [
    {
     "name": "stdout",
     "output_type": "stream",
     "text": [
      "Loaded embeddings for Glove.6B.50d file, each word is represented by a vector with 50 features. The vocab size is 400001\n"
     ]
    }
   ],
   "source": [
    "embeddings, vocab = load_embeddings(\"glove.6B.50d.txt\")\n",
    "glove_vec_size, glove_vocab_size = size(embeddings)\n",
    "println(\"Loaded embeddings for Glove.6B.50d file, each word is represented by a vector with $glove_vec_size features. The vocab size is $glove_vocab_size\")"
   ]
  },
  {
   "cell_type": "markdown",
   "metadata": {
    "id": "5U2khUgnvFfE"
   },
   "source": [
    "**Look for index of word \"X\" in glove data**"
   ]
  },
  {
   "cell_type": "code",
   "execution_count": null,
   "metadata": {
    "colab": {
     "base_uri": "https://localhost:8080/"
    },
    "id": "CnZyqc91DQI0",
    "outputId": "a12206f7-dc60-4ef9-8766-4131b576d2ea"
   },
   "outputs": [
    {
     "name": "stdout",
     "output_type": "stream",
     "text": [
      "The index number for 'cheese' is: 5796\n"
     ]
    }
   ],
   "source": [
    "# check index number of given word, in this case \"cheese\"\n",
    "glove_vec_idx(s) = findfirst(x -> x==s, vocab)\n",
    "println(\"The index number for 'cheese' is: \", glove_vec_idx(\"cheese\"))"
   ]
  },
  {
   "cell_type": "code",
   "execution_count": null,
   "metadata": {
    "colab": {
     "base_uri": "https://localhost:8080/"
    },
    "id": "l8_c2Nvhd0Wc",
    "outputId": "bed4b8f6-cbe1-4314-f1a8-3204d5a2d678"
   },
   "outputs": [
    {
     "data": {
      "text/plain": [
       "71291-element Array{String,1}:\n",
       " \"</s>\"\n",
       " \"the\"\n",
       " \"of\"\n",
       " \"and\"\n",
       " \"one\"\n",
       " \"in\"\n",
       " \"a\"\n",
       " \"to\"\n",
       " \"zero\"\n",
       " \"nine\"\n",
       " \"two\"\n",
       " \"is\"\n",
       " \"as\"\n",
       " ⋮\n",
       " \"raam\"\n",
       " \"barad\"\n",
       " \"baume\"\n",
       " \"mothmen\"\n",
       " \"gallopin\"\n",
       " \"horsecollar\"\n",
       " \"mojitos\"\n",
       " \"snaggletooth\"\n",
       " \"introvigne\"\n",
       " \"denishawn\"\n",
       " \"tamiris\"\n",
       " \"dolophine\""
      ]
     },
     "execution_count": 147,
     "metadata": {
      "tags": []
     },
     "output_type": "execute_result"
    }
   ],
   "source": [
    "text8_words = vocabulary(text8_model)"
   ]
  },
  {
   "cell_type": "code",
   "execution_count": null,
   "metadata": {
    "colab": {
     "base_uri": "https://localhost:8080/"
    },
    "id": "wSl1jAgJOSOf",
    "outputId": "26302f0d-13fd-4345-c6ac-7fb3bd423242"
   },
   "outputs": [
    {
     "name": "stdout",
     "output_type": "stream",
     "text": [
      "The index number for 'hungary' is: 1711\n"
     ]
    }
   ],
   "source": [
    "# check index number of given word, in this case \"hungary\"\n",
    "test8_vec_idx(s) = findfirst(x -> x==s, text8_words)\n",
    "println(\"The index number for 'hungary' is: \", test8_vec_idx(\"hungary\"))"
   ]
  },
  {
   "cell_type": "markdown",
   "metadata": {
    "id": "gQdpzCNSwSxH"
   },
   "source": [
    "**Check the vector value for a few words as tests**"
   ]
  },
  {
   "cell_type": "code",
   "execution_count": null,
   "metadata": {
    "colab": {
     "base_uri": "https://localhost:8080/"
    },
    "id": "OT2MpRqeryIz",
    "outputId": "d6cbf8db-762c-4078-da5d-5236aaa75491"
   },
   "outputs": [
    {
     "data": {
      "text/plain": [
       "50-element Array{Float32,1}:\n",
       " -0.053903\n",
       " -0.30871\n",
       " -1.3285\n",
       " -0.43342\n",
       "  0.31779\n",
       "  1.5224\n",
       " -0.6965\n",
       " -0.037086\n",
       " -0.83784\n",
       "  0.074107\n",
       " -0.30532\n",
       " -0.1783\n",
       "  1.2337\n",
       "  ⋮\n",
       "  1.9502\n",
       " -0.53274\n",
       "  1.1359\n",
       "  0.20027\n",
       "  0.02245\n",
       " -0.39379\n",
       "  1.0609\n",
       "  1.585\n",
       "  0.17889\n",
       "  0.43556\n",
       "  0.68161\n",
       "  0.066202"
      ]
     },
     "execution_count": 149,
     "metadata": {
      "tags": []
     },
     "output_type": "execute_result"
    }
   ],
   "source": [
    "vec(\"cheese\")"
   ]
  },
  {
   "cell_type": "code",
   "execution_count": null,
   "metadata": {
    "colab": {
     "base_uri": "https://localhost:8080/"
    },
    "id": "BOe8iskRw3YF",
    "outputId": "22f76d09-5f02-462a-f54b-2ec998054bed"
   },
   "outputs": [
    {
     "data": {
      "text/plain": [
       "50-element Array{Float32,1}:\n",
       "  0.37854\n",
       "  1.8233\n",
       " -1.2648\n",
       " -0.1043\n",
       "  0.35829\n",
       "  0.60029\n",
       " -0.17538\n",
       "  0.83767\n",
       " -0.056798\n",
       " -0.75795\n",
       "  0.22681\n",
       "  0.98587\n",
       "  0.60587\n",
       "  ⋮\n",
       " -0.83744\n",
       " -1.0326\n",
       "  0.45946\n",
       "  0.25302\n",
       " -0.17837\n",
       " -0.73398\n",
       " -0.20025\n",
       "  0.2347\n",
       " -0.56095\n",
       " -2.2839\n",
       "  0.0092753\n",
       " -0.60284"
      ]
     },
     "execution_count": 150,
     "metadata": {
      "tags": []
     },
     "output_type": "execute_result"
    }
   ],
   "source": [
    "vec(\"queen\")"
   ]
  },
  {
   "cell_type": "markdown",
   "metadata": {
    "id": "GMKm0HVHRieh"
   },
   "source": [
    "**Testing similarity scores**\n"
   ]
  },
  {
   "cell_type": "code",
   "execution_count": null,
   "metadata": {
    "colab": {
     "base_uri": "https://localhost:8080/"
    },
    "id": "bnsEeYobOSd4",
    "outputId": "002a6eed-9b3a-45ac-a99c-815191b5343b"
   },
   "outputs": [
    {
     "data": {
      "text/plain": [
       "0.8612812966302152"
      ]
     },
     "execution_count": 151,
     "metadata": {
      "tags": []
     },
     "output_type": "execute_result"
    }
   ],
   "source": [
    "similarity(text8_model, \"jupiter\", \"neptune\")"
   ]
  },
  {
   "cell_type": "code",
   "execution_count": null,
   "metadata": {
    "colab": {
     "base_uri": "https://localhost:8080/"
    },
    "id": "KBM-oPbjOSmJ",
    "outputId": "9b8e81ad-2589-47e3-dc44-df7c2e81c411"
   },
   "outputs": [
    {
     "data": {
      "text/plain": [
       "0.3004533050683777"
      ]
     },
     "execution_count": 152,
     "metadata": {
      "tags": []
     },
     "output_type": "execute_result"
    }
   ],
   "source": [
    "similarity(text8_model, \"santa\", \"snow\")\n"
   ]
  },
  {
   "cell_type": "code",
   "execution_count": null,
   "metadata": {
    "colab": {
     "base_uri": "https://localhost:8080/"
    },
    "id": "lVwPvmGIOSkl",
    "outputId": "e0bed17c-6d35-42af-e42a-f11b5c67759f"
   },
   "outputs": [
    {
     "data": {
      "text/plain": [
       "0.0508136713940071"
      ]
     },
     "execution_count": 153,
     "metadata": {
      "tags": []
     },
     "output_type": "execute_result"
    }
   ],
   "source": [
    "similarity(text8_model, \"hungary\", \"neptune\")\n"
   ]
  },
  {
   "cell_type": "code",
   "execution_count": null,
   "metadata": {
    "colab": {
     "base_uri": "https://localhost:8080/"
    },
    "id": "GszfCD85OSiK",
    "outputId": "94a98669-cc1e-4c40-8779-9cb24a2b5f56"
   },
   "outputs": [
    {
     "data": {
      "text/plain": [
       "0.8521430589591775"
      ]
     },
     "execution_count": 154,
     "metadata": {
      "tags": []
     },
     "output_type": "execute_result"
    }
   ],
   "source": [
    "similarity(text8_model, \"milk\", \"cheese\")"
   ]
  },
  {
   "cell_type": "markdown",
   "metadata": {
    "id": "NZozVelURuf6"
   },
   "source": [
    "**Testing dissimilarity scores**"
   ]
  },
  {
   "cell_type": "code",
   "execution_count": null,
   "metadata": {
    "colab": {
     "base_uri": "https://localhost:8080/"
    },
    "id": "D_3nnNFoOScX",
    "outputId": "980fd9f3-0290-4118-ddda-4568022474eb"
   },
   "outputs": [
    {
     "data": {
      "text/plain": [
       "-0.1207981274737589"
      ]
     },
     "execution_count": 155,
     "metadata": {
      "tags": []
     },
     "output_type": "execute_result"
    }
   ],
   "source": [
    "similarity(text8_model, \"nutmeg\", \"football\")"
   ]
  },
  {
   "cell_type": "code",
   "execution_count": null,
   "metadata": {
    "colab": {
     "base_uri": "https://localhost:8080/"
    },
    "id": "6-1PgfsUOSad",
    "outputId": "6f2ce9ca-56ab-436c-e27f-002a316b40a2"
   },
   "outputs": [
    {
     "data": {
      "text/plain": [
       "-0.11597841830958602"
      ]
     },
     "execution_count": 156,
     "metadata": {
      "tags": []
     },
     "output_type": "execute_result"
    }
   ],
   "source": [
    "similarity(text8_model, \"book\", \"sugar\")"
   ]
  },
  {
   "cell_type": "code",
   "execution_count": null,
   "metadata": {
    "colab": {
     "base_uri": "https://localhost:8080/"
    },
    "id": "YMhI7G0iOSUR",
    "outputId": "7d888d43-b9f7-4c08-d75f-97d59ea3e2a4"
   },
   "outputs": [
    {
     "data": {
      "text/plain": [
       "-0.13767248709709898"
      ]
     },
     "execution_count": 157,
     "metadata": {
      "tags": []
     },
     "output_type": "execute_result"
    }
   ],
   "source": [
    "similarity(text8_model, \"maroon\", \"messages\")"
   ]
  },
  {
   "cell_type": "code",
   "execution_count": null,
   "metadata": {
    "id": "31Jbz4LMd_Pa"
   },
   "outputs": [],
   "source": [
    "Word2Vec.cosine(x,y)=1-cosine_dist(x, y)"
   ]
  },
  {
   "cell_type": "code",
   "execution_count": null,
   "metadata": {
    "colab": {
     "base_uri": "https://localhost:8080/"
    },
    "id": "WsXqiAieDQEO",
    "outputId": "27e3c60d-3898-4c38-bcf5-dd7461a11efc"
   },
   "outputs": [
    {
     "name": "stdout",
     "output_type": "stream",
     "text": [
      "is the similarity between 'dog' and 'cat' greater than the similarity between 'moon' and 'man'?\n",
      "----> true\n"
     ]
    }
   ],
   "source": [
    "println(\"is the similarity between 'dog' and 'cat' greater than the similarity between 'moon' and 'man'?\\n\", \n",
    "\"----> \", cosine(vec(\"dog\"), vec(\"cat\")) > cosine(vec(\"moon\"), vec(\"man\")))"
   ]
  },
  {
   "cell_type": "markdown",
   "metadata": {
    "id": "fJPqydba4Qsf"
   },
   "source": [
    "**Similar word check in relation to 'hungary' & graph to show data visually**"
   ]
  },
  {
   "cell_type": "code",
   "execution_count": null,
   "metadata": {
    "colab": {
     "base_uri": "https://localhost:8080/"
    },
    "id": "9k7UJna_OSSA",
    "outputId": "b58aa9a3-1094-42dc-b03e-521cd1349d34"
   },
   "outputs": [
    {
     "data": {
      "text/plain": [
       "([1711, 1465, 1294, 3006, 3680, 2067, 6255, 4023, 3174, 3967  …  750, 4138, 7553, 2559, 4383, 3742, 4344, 6258, 4435, 6687], [1.0, 0.8944348552305843, 0.8588689077477858, 0.8418338263993157, 0.8243089722879713, 0.8223834757420273, 0.8217938427905108, 0.8191628615267543, 0.8176203548781392, 0.806641833025856  …  0.7901767437045633, 0.7828015510157531, 0.7736189560677966, 0.7675659110430186, 0.766358410502749, 0.7624761213862503, 0.7606688210894433, 0.7562732055051318, 0.7495012902742589, 0.7441245596505028])"
      ]
     },
     "execution_count": 188,
     "metadata": {
      "tags": []
     },
     "output_type": "execute_result"
    }
   ],
   "source": [
    "# find similar words to 'hungary', limit to 22 words\n",
    "text8_vec_idx_1, text8_dists = cosine(text8_model, \"hungary\", 22)"
   ]
  },
  {
   "cell_type": "code",
   "execution_count": null,
   "metadata": {
    "colab": {
     "base_uri": "https://localhost:8080/",
     "height": 399
    },
    "id": "Mm70jyCAOSMR",
    "outputId": "5cd58ab0-bd83-4ee7-ac78-bd517271d8d6"
   },
   "outputs": [
    {
     "data": {
      "image/svg+xml": [
       "<?xml version=\"1.0\" encoding=\"UTF-8\"?>\n",
       "<svg xmlns=\"http://www.w3.org/2000/svg\"\n",
       "     xmlns:xlink=\"http://www.w3.org/1999/xlink\"\n",
       "     xmlns:gadfly=\"http://www.gadflyjl.org/ns\"\n",
       "     version=\"1.2\"\n",
       "     width=\"141.42mm\" height=\"100mm\" viewBox=\"0 0 141.42 100\"\n",
       "     stroke=\"none\"\n",
       "     fill=\"#000000\"\n",
       "     stroke-width=\"0.3\"\n",
       "     font-size=\"3.88\"\n",
       ">\n",
       "<defs>\n",
       "  <marker id=\"arrow\" markerWidth=\"15\" markerHeight=\"7\" refX=\"5\" refY=\"3.5\" orient=\"auto\" markerUnits=\"strokeWidth\">\n",
       "    <path d=\"M0,0 L15,3.5 L0,7 z\" stroke=\"context-stroke\" fill=\"context-stroke\"/>\n",
       "  </marker>\n",
       "</defs>\n",
       "<g class=\"plotroot yscalable\" id=\"img-dda81ff2-1\">\n",
       "  <g font-size=\"3.88\" font-family=\"'PT Sans','Helvetica Neue','Helvetica',sans-serif\" fill=\"#564A55\" stroke=\"#000000\" stroke-opacity=\"0.000\" id=\"img-dda81ff2-2\">\n",
       "    <g transform=\"translate(76.62,88.39)\">\n",
       "      <g class=\"primitive\">\n",
       "        <text text-anchor=\"middle\" dy=\"0.6em\">x</text>\n",
       "      </g>\n",
       "    </g>\n",
       "  </g>\n",
       "  <g class=\"guide xlabels\" font-size=\"2.82\" font-family=\"'PT Sans Caption','Helvetica Neue','Helvetica',sans-serif\" fill=\"#6C606B\" id=\"img-dda81ff2-3\">\n",
       "    <g transform=\"translate(19.54,63.28)\">\n",
       "      <g class=\"primitive\">\n",
       "        <text text-anchor=\"end\" dy=\"0.35em\" transform=\"rotate(-90,0, 0)\">hungary</text>\n",
       "      </g>\n",
       "    </g>\n",
       "    <g transform=\"translate(24.98,63.28)\">\n",
       "      <g class=\"primitive\">\n",
       "        <text text-anchor=\"end\" dy=\"0.35em\" transform=\"rotate(-90,0, 0)\">austria</text>\n",
       "      </g>\n",
       "    </g>\n",
       "    <g transform=\"translate(30.42,63.28)\">\n",
       "      <g class=\"primitive\">\n",
       "        <text text-anchor=\"end\" dy=\"0.35em\" transform=\"rotate(-90,0, 0)\">poland</text>\n",
       "      </g>\n",
       "    </g>\n",
       "    <g transform=\"translate(35.85,63.28)\">\n",
       "      <g class=\"primitive\">\n",
       "        <text text-anchor=\"end\" dy=\"0.35em\" transform=\"rotate(-90,0, 0)\">lithuania</text>\n",
       "      </g>\n",
       "    </g>\n",
       "    <g transform=\"translate(41.29,63.28)\">\n",
       "      <g class=\"primitive\">\n",
       "        <text text-anchor=\"end\" dy=\"0.35em\" transform=\"rotate(-90,0, 0)\">romania</text>\n",
       "      </g>\n",
       "    </g>\n",
       "    <g transform=\"translate(46.72,63.28)\">\n",
       "      <g class=\"primitive\">\n",
       "        <text text-anchor=\"end\" dy=\"0.35em\" transform=\"rotate(-90,0, 0)\">denmark</text>\n",
       "      </g>\n",
       "    </g>\n",
       "    <g transform=\"translate(52.16,63.28)\">\n",
       "      <g class=\"primitive\">\n",
       "        <text text-anchor=\"end\" dy=\"0.35em\" transform=\"rotate(-90,0, 0)\">czechoslovakia</text>\n",
       "      </g>\n",
       "    </g>\n",
       "    <g transform=\"translate(57.6,63.28)\">\n",
       "      <g class=\"primitive\">\n",
       "        <text text-anchor=\"end\" dy=\"0.35em\" transform=\"rotate(-90,0, 0)\">serbia</text>\n",
       "      </g>\n",
       "    </g>\n",
       "    <g transform=\"translate(63.03,63.28)\">\n",
       "      <g class=\"primitive\">\n",
       "        <text text-anchor=\"end\" dy=\"0.35em\" transform=\"rotate(-90,0, 0)\">bulgaria</text>\n",
       "      </g>\n",
       "    </g>\n",
       "    <g transform=\"translate(68.47,63.28)\">\n",
       "      <g class=\"primitive\">\n",
       "        <text text-anchor=\"end\" dy=\"0.35em\" transform=\"rotate(-90,0, 0)\">croatia</text>\n",
       "      </g>\n",
       "    </g>\n",
       "    <g transform=\"translate(73.91,63.28)\">\n",
       "      <g class=\"primitive\">\n",
       "        <text text-anchor=\"end\" dy=\"0.35em\" transform=\"rotate(-90,0, 0)\">bohemia</text>\n",
       "      </g>\n",
       "    </g>\n",
       "    <g transform=\"translate(79.34,63.28)\">\n",
       "      <g class=\"primitive\">\n",
       "        <text text-anchor=\"end\" dy=\"0.35em\" transform=\"rotate(-90,0, 0)\">portugal</text>\n",
       "      </g>\n",
       "    </g>\n",
       "    <g transform=\"translate(84.78,63.28)\">\n",
       "      <g class=\"primitive\">\n",
       "        <text text-anchor=\"end\" dy=\"0.35em\" transform=\"rotate(-90,0, 0)\">russia</text>\n",
       "      </g>\n",
       "    </g>\n",
       "    <g transform=\"translate(90.21,63.28)\">\n",
       "      <g class=\"primitive\">\n",
       "        <text text-anchor=\"end\" dy=\"0.35em\" transform=\"rotate(-90,0, 0)\">albania</text>\n",
       "      </g>\n",
       "    </g>\n",
       "    <g transform=\"translate(95.65,63.28)\">\n",
       "      <g class=\"primitive\">\n",
       "        <text text-anchor=\"end\" dy=\"0.35em\" transform=\"rotate(-90,0, 0)\">slovakia</text>\n",
       "      </g>\n",
       "    </g>\n",
       "    <g transform=\"translate(101.09,63.28)\">\n",
       "      <g class=\"primitive\">\n",
       "        <text text-anchor=\"end\" dy=\"0.35em\" transform=\"rotate(-90,0, 0)\">norway</text>\n",
       "      </g>\n",
       "    </g>\n",
       "    <g transform=\"translate(106.52,63.28)\">\n",
       "      <g class=\"primitive\">\n",
       "        <text text-anchor=\"end\" dy=\"0.35em\" transform=\"rotate(-90,0, 0)\">estonia</text>\n",
       "      </g>\n",
       "    </g>\n",
       "    <g transform=\"translate(111.96,63.28)\">\n",
       "      <g class=\"primitive\">\n",
       "        <text text-anchor=\"end\" dy=\"0.35em\" transform=\"rotate(-90,0, 0)\">prussia</text>\n",
       "      </g>\n",
       "    </g>\n",
       "    <g transform=\"translate(117.39,63.28)\">\n",
       "      <g class=\"primitive\">\n",
       "        <text text-anchor=\"end\" dy=\"0.35em\" transform=\"rotate(-90,0, 0)\">bosnia</text>\n",
       "      </g>\n",
       "    </g>\n",
       "    <g transform=\"translate(122.83,63.28)\">\n",
       "      <g class=\"primitive\">\n",
       "        <text text-anchor=\"end\" dy=\"0.35em\" transform=\"rotate(-90,0, 0)\">montenegro</text>\n",
       "      </g>\n",
       "    </g>\n",
       "    <g transform=\"translate(128.27,63.28)\">\n",
       "      <g class=\"primitive\">\n",
       "        <text text-anchor=\"end\" dy=\"0.35em\" transform=\"rotate(-90,0, 0)\">yugoslavia</text>\n",
       "      </g>\n",
       "    </g>\n",
       "    <g transform=\"translate(133.7,63.28)\">\n",
       "      <g class=\"primitive\">\n",
       "        <text text-anchor=\"end\" dy=\"0.35em\" transform=\"rotate(-90,0, 0)\">armenia</text>\n",
       "      </g>\n",
       "    </g>\n",
       "  </g>\n",
       "  <g clip-path=\"url(#img-dda81ff2-4)\">\n",
       "    <g id=\"img-dda81ff2-5\">\n",
       "      <g pointer-events=\"visible\" stroke-width=\"0.3\" fill=\"#000000\" fill-opacity=\"0.000\" stroke=\"#000000\" stroke-opacity=\"0.000\" class=\"guide background\" id=\"img-dda81ff2-6\">\n",
       "        <g transform=\"translate(76.62,33.64)\" id=\"img-dda81ff2-7\">\n",
       "          <path d=\"M-59.8,-28.64 L59.8,-28.64 59.8,28.64 -59.8,28.64  z\" class=\"primitive\"/>\n",
       "        </g>\n",
       "      </g>\n",
       "      <g class=\"guide ygridlines xfixed\" stroke-dasharray=\"0.5,0.5\" stroke-width=\"0.2\" stroke=\"#D0D0E0\" id=\"img-dda81ff2-8\">\n",
       "        <g transform=\"translate(76.62,60.28)\" id=\"img-dda81ff2-9\">\n",
       "          <path fill=\"none\" d=\"M-59.8,0 L59.8,0 \" class=\"primitive\"/>\n",
       "        </g>\n",
       "        <g transform=\"translate(76.62,42.52)\" id=\"img-dda81ff2-10\">\n",
       "          <path fill=\"none\" d=\"M-59.8,0 L59.8,0 \" class=\"primitive\"/>\n",
       "        </g>\n",
       "        <g transform=\"translate(76.62,24.76)\" id=\"img-dda81ff2-11\">\n",
       "          <path fill=\"none\" d=\"M-59.8,0 L59.8,0 \" class=\"primitive\"/>\n",
       "        </g>\n",
       "        <g transform=\"translate(76.62,7)\" id=\"img-dda81ff2-12\">\n",
       "          <path fill=\"none\" d=\"M-59.8,0 L59.8,0 \" class=\"primitive\"/>\n",
       "        </g>\n",
       "      </g>\n",
       "      <g class=\"guide xgridlines yfixed\" stroke-dasharray=\"0.5,0.5\" stroke-width=\"0.2\" stroke=\"#D0D0E0\" id=\"img-dda81ff2-13\">\n",
       "        <g transform=\"translate(22.26,33.64)\" id=\"img-dda81ff2-14\">\n",
       "          <path fill=\"none\" d=\"M0,-28.64 L0,28.64 \" class=\"primitive\"/>\n",
       "        </g>\n",
       "        <g transform=\"translate(27.7,33.64)\" id=\"img-dda81ff2-15\">\n",
       "          <path fill=\"none\" d=\"M0,-28.64 L0,28.64 \" class=\"primitive\"/>\n",
       "        </g>\n",
       "        <g transform=\"translate(33.13,33.64)\" id=\"img-dda81ff2-16\">\n",
       "          <path fill=\"none\" d=\"M0,-28.64 L0,28.64 \" class=\"primitive\"/>\n",
       "        </g>\n",
       "        <g transform=\"translate(38.57,33.64)\" id=\"img-dda81ff2-17\">\n",
       "          <path fill=\"none\" d=\"M0,-28.64 L0,28.64 \" class=\"primitive\"/>\n",
       "        </g>\n",
       "        <g transform=\"translate(44.01,33.64)\" id=\"img-dda81ff2-18\">\n",
       "          <path fill=\"none\" d=\"M0,-28.64 L0,28.64 \" class=\"primitive\"/>\n",
       "        </g>\n",
       "        <g transform=\"translate(49.44,33.64)\" id=\"img-dda81ff2-19\">\n",
       "          <path fill=\"none\" d=\"M0,-28.64 L0,28.64 \" class=\"primitive\"/>\n",
       "        </g>\n",
       "        <g transform=\"translate(54.88,33.64)\" id=\"img-dda81ff2-20\">\n",
       "          <path fill=\"none\" d=\"M0,-28.64 L0,28.64 \" class=\"primitive\"/>\n",
       "        </g>\n",
       "        <g transform=\"translate(60.32,33.64)\" id=\"img-dda81ff2-21\">\n",
       "          <path fill=\"none\" d=\"M0,-28.64 L0,28.64 \" class=\"primitive\"/>\n",
       "        </g>\n",
       "        <g transform=\"translate(65.75,33.64)\" id=\"img-dda81ff2-22\">\n",
       "          <path fill=\"none\" d=\"M0,-28.64 L0,28.64 \" class=\"primitive\"/>\n",
       "        </g>\n",
       "        <g transform=\"translate(71.19,33.64)\" id=\"img-dda81ff2-23\">\n",
       "          <path fill=\"none\" d=\"M0,-28.64 L0,28.64 \" class=\"primitive\"/>\n",
       "        </g>\n",
       "        <g transform=\"translate(76.62,33.64)\" id=\"img-dda81ff2-24\">\n",
       "          <path fill=\"none\" d=\"M0,-28.64 L0,28.64 \" class=\"primitive\"/>\n",
       "        </g>\n",
       "        <g transform=\"translate(82.06,33.64)\" id=\"img-dda81ff2-25\">\n",
       "          <path fill=\"none\" d=\"M0,-28.64 L0,28.64 \" class=\"primitive\"/>\n",
       "        </g>\n",
       "        <g transform=\"translate(87.5,33.64)\" id=\"img-dda81ff2-26\">\n",
       "          <path fill=\"none\" d=\"M0,-28.64 L0,28.64 \" class=\"primitive\"/>\n",
       "        </g>\n",
       "        <g transform=\"translate(92.93,33.64)\" id=\"img-dda81ff2-27\">\n",
       "          <path fill=\"none\" d=\"M0,-28.64 L0,28.64 \" class=\"primitive\"/>\n",
       "        </g>\n",
       "        <g transform=\"translate(98.37,33.64)\" id=\"img-dda81ff2-28\">\n",
       "          <path fill=\"none\" d=\"M0,-28.64 L0,28.64 \" class=\"primitive\"/>\n",
       "        </g>\n",
       "        <g transform=\"translate(103.8,33.64)\" id=\"img-dda81ff2-29\">\n",
       "          <path fill=\"none\" d=\"M0,-28.64 L0,28.64 \" class=\"primitive\"/>\n",
       "        </g>\n",
       "        <g transform=\"translate(109.24,33.64)\" id=\"img-dda81ff2-30\">\n",
       "          <path fill=\"none\" d=\"M0,-28.64 L0,28.64 \" class=\"primitive\"/>\n",
       "        </g>\n",
       "        <g transform=\"translate(114.68,33.64)\" id=\"img-dda81ff2-31\">\n",
       "          <path fill=\"none\" d=\"M0,-28.64 L0,28.64 \" class=\"primitive\"/>\n",
       "        </g>\n",
       "        <g transform=\"translate(120.11,33.64)\" id=\"img-dda81ff2-32\">\n",
       "          <path fill=\"none\" d=\"M0,-28.64 L0,28.64 \" class=\"primitive\"/>\n",
       "        </g>\n",
       "        <g transform=\"translate(125.55,33.64)\" id=\"img-dda81ff2-33\">\n",
       "          <path fill=\"none\" d=\"M0,-28.64 L0,28.64 \" class=\"primitive\"/>\n",
       "        </g>\n",
       "        <g transform=\"translate(130.99,33.64)\" id=\"img-dda81ff2-34\">\n",
       "          <path fill=\"none\" d=\"M0,-28.64 L0,28.64 \" class=\"primitive\"/>\n",
       "        </g>\n",
       "      </g>\n",
       "      <g class=\"plotpanel\" id=\"img-dda81ff2-35\">\n",
       "        <metadata>\n",
       "          <boundingbox value=\"16.82583333333332mm 5.0mm 119.59552290397619mm 57.281666666666666mm\"/>\n",
       "          <unitbox value=\"0.5 1.011260909005599 22.0 -0.3225218180111983\"/>\n",
       "        </metadata>\n",
       "        <g class=\"geometry\" id=\"img-dda81ff2-36\">\n",
       "          <g stroke-width=\"0.3\" id=\"img-dda81ff2-37\">\n",
       "            <g class=\"color_RGBA{Float32}(0.0f0,0.74736935f0,1.0f0,1.0f0)\" fill-opacity=\"1\" stroke=\"#FFFFFF\" fill=\"#00BFFF\" id=\"img-dda81ff2-38\">\n",
       "              <g class=\"marker\" id=\"img-dda81ff2-39\">\n",
       "                <g transform=\"translate(133.7,52.44)\" id=\"img-dda81ff2-40\">\n",
       "                  <circle cx=\"0\" cy=\"0\" r=\"0.9\" class=\"primitive\"/>\n",
       "                </g>\n",
       "              </g>\n",
       "            </g>\n",
       "            <g class=\"color_RGBA{Float32}(0.0f0,0.74736935f0,1.0f0,1.0f0)\" fill-opacity=\"1\" stroke=\"#FFFFFF\" fill=\"#00BFFF\" id=\"img-dda81ff2-41\">\n",
       "              <g class=\"marker\" id=\"img-dda81ff2-42\">\n",
       "                <g transform=\"translate(128.27,51.49)\" id=\"img-dda81ff2-43\">\n",
       "                  <circle cx=\"0\" cy=\"0\" r=\"0.9\" class=\"primitive\"/>\n",
       "                </g>\n",
       "              </g>\n",
       "            </g>\n",
       "            <g class=\"color_RGBA{Float32}(0.0f0,0.74736935f0,1.0f0,1.0f0)\" fill-opacity=\"1\" stroke=\"#FFFFFF\" fill=\"#00BFFF\" id=\"img-dda81ff2-44\">\n",
       "              <g class=\"marker\" id=\"img-dda81ff2-45\">\n",
       "                <g transform=\"translate(122.83,50.29)\" id=\"img-dda81ff2-46\">\n",
       "                  <circle cx=\"0\" cy=\"0\" r=\"0.9\" class=\"primitive\"/>\n",
       "                </g>\n",
       "              </g>\n",
       "            </g>\n",
       "            <g class=\"color_RGBA{Float32}(0.0f0,0.74736935f0,1.0f0,1.0f0)\" fill-opacity=\"1\" stroke=\"#FFFFFF\" fill=\"#00BFFF\" id=\"img-dda81ff2-47\">\n",
       "              <g class=\"marker\" id=\"img-dda81ff2-48\">\n",
       "                <g transform=\"translate(117.39,49.51)\" id=\"img-dda81ff2-49\">\n",
       "                  <circle cx=\"0\" cy=\"0\" r=\"0.9\" class=\"primitive\"/>\n",
       "                </g>\n",
       "              </g>\n",
       "            </g>\n",
       "            <g class=\"color_RGBA{Float32}(0.0f0,0.74736935f0,1.0f0,1.0f0)\" fill-opacity=\"1\" stroke=\"#FFFFFF\" fill=\"#00BFFF\" id=\"img-dda81ff2-50\">\n",
       "              <g class=\"marker\" id=\"img-dda81ff2-51\">\n",
       "                <g transform=\"translate(111.96,49.19)\" id=\"img-dda81ff2-52\">\n",
       "                  <circle cx=\"0\" cy=\"0\" r=\"0.9\" class=\"primitive\"/>\n",
       "                </g>\n",
       "              </g>\n",
       "            </g>\n",
       "            <g class=\"color_RGBA{Float32}(0.0f0,0.74736935f0,1.0f0,1.0f0)\" fill-opacity=\"1\" stroke=\"#FFFFFF\" fill=\"#00BFFF\" id=\"img-dda81ff2-53\">\n",
       "              <g class=\"marker\" id=\"img-dda81ff2-54\">\n",
       "                <g transform=\"translate(106.52,48.5)\" id=\"img-dda81ff2-55\">\n",
       "                  <circle cx=\"0\" cy=\"0\" r=\"0.9\" class=\"primitive\"/>\n",
       "                </g>\n",
       "              </g>\n",
       "            </g>\n",
       "            <g class=\"color_RGBA{Float32}(0.0f0,0.74736935f0,1.0f0,1.0f0)\" fill-opacity=\"1\" stroke=\"#FFFFFF\" fill=\"#00BFFF\" id=\"img-dda81ff2-56\">\n",
       "              <g class=\"marker\" id=\"img-dda81ff2-57\">\n",
       "                <g transform=\"translate(101.09,48.28)\" id=\"img-dda81ff2-58\">\n",
       "                  <circle cx=\"0\" cy=\"0\" r=\"0.9\" class=\"primitive\"/>\n",
       "                </g>\n",
       "              </g>\n",
       "            </g>\n",
       "            <g class=\"color_RGBA{Float32}(0.0f0,0.74736935f0,1.0f0,1.0f0)\" fill-opacity=\"1\" stroke=\"#FFFFFF\" fill=\"#00BFFF\" id=\"img-dda81ff2-59\">\n",
       "              <g class=\"marker\" id=\"img-dda81ff2-60\">\n",
       "                <g transform=\"translate(95.65,47.21)\" id=\"img-dda81ff2-61\">\n",
       "                  <circle cx=\"0\" cy=\"0\" r=\"0.9\" class=\"primitive\"/>\n",
       "                </g>\n",
       "              </g>\n",
       "            </g>\n",
       "            <g class=\"color_RGBA{Float32}(0.0f0,0.74736935f0,1.0f0,1.0f0)\" fill-opacity=\"1\" stroke=\"#FFFFFF\" fill=\"#00BFFF\" id=\"img-dda81ff2-62\">\n",
       "              <g class=\"marker\" id=\"img-dda81ff2-63\">\n",
       "                <g transform=\"translate(90.21,45.58)\" id=\"img-dda81ff2-64\">\n",
       "                  <circle cx=\"0\" cy=\"0\" r=\"0.9\" class=\"primitive\"/>\n",
       "                </g>\n",
       "              </g>\n",
       "            </g>\n",
       "            <g class=\"color_RGBA{Float32}(0.0f0,0.74736935f0,1.0f0,1.0f0)\" fill-opacity=\"1\" stroke=\"#FFFFFF\" fill=\"#00BFFF\" id=\"img-dda81ff2-65\">\n",
       "              <g class=\"marker\" id=\"img-dda81ff2-66\">\n",
       "                <g transform=\"translate(84.78,44.27)\" id=\"img-dda81ff2-67\">\n",
       "                  <circle cx=\"0\" cy=\"0\" r=\"0.9\" class=\"primitive\"/>\n",
       "                </g>\n",
       "              </g>\n",
       "            </g>\n",
       "            <g class=\"color_RGBA{Float32}(0.0f0,0.74736935f0,1.0f0,1.0f0)\" fill-opacity=\"1\" stroke=\"#FFFFFF\" fill=\"#00BFFF\" id=\"img-dda81ff2-68\">\n",
       "              <g class=\"marker\" id=\"img-dda81ff2-69\">\n",
       "                <g transform=\"translate(79.34,43.19)\" id=\"img-dda81ff2-70\">\n",
       "                  <circle cx=\"0\" cy=\"0\" r=\"0.9\" class=\"primitive\"/>\n",
       "                </g>\n",
       "              </g>\n",
       "            </g>\n",
       "            <g class=\"color_RGBA{Float32}(0.0f0,0.74736935f0,1.0f0,1.0f0)\" fill-opacity=\"1\" stroke=\"#FFFFFF\" fill=\"#00BFFF\" id=\"img-dda81ff2-71\">\n",
       "              <g class=\"marker\" id=\"img-dda81ff2-72\">\n",
       "                <g transform=\"translate(73.91,41.49)\" id=\"img-dda81ff2-73\">\n",
       "                  <circle cx=\"0\" cy=\"0\" r=\"0.9\" class=\"primitive\"/>\n",
       "                </g>\n",
       "              </g>\n",
       "            </g>\n",
       "            <g class=\"color_RGBA{Float32}(0.0f0,0.74736935f0,1.0f0,1.0f0)\" fill-opacity=\"1\" stroke=\"#FFFFFF\" fill=\"#00BFFF\" id=\"img-dda81ff2-74\">\n",
       "              <g class=\"marker\" id=\"img-dda81ff2-75\">\n",
       "                <g transform=\"translate(68.47,41.34)\" id=\"img-dda81ff2-76\">\n",
       "                  <circle cx=\"0\" cy=\"0\" r=\"0.9\" class=\"primitive\"/>\n",
       "                </g>\n",
       "              </g>\n",
       "            </g>\n",
       "            <g class=\"color_RGBA{Float32}(0.0f0,0.74736935f0,1.0f0,1.0f0)\" fill-opacity=\"1\" stroke=\"#FFFFFF\" fill=\"#00BFFF\" id=\"img-dda81ff2-77\">\n",
       "              <g class=\"marker\" id=\"img-dda81ff2-78\">\n",
       "                <g transform=\"translate(63.03,39.39)\" id=\"img-dda81ff2-79\">\n",
       "                  <circle cx=\"0\" cy=\"0\" r=\"0.9\" class=\"primitive\"/>\n",
       "                </g>\n",
       "              </g>\n",
       "            </g>\n",
       "            <g class=\"color_RGBA{Float32}(0.0f0,0.74736935f0,1.0f0,1.0f0)\" fill-opacity=\"1\" stroke=\"#FFFFFF\" fill=\"#00BFFF\" id=\"img-dda81ff2-80\">\n",
       "              <g class=\"marker\" id=\"img-dda81ff2-81\">\n",
       "                <g transform=\"translate(57.6,39.12)\" id=\"img-dda81ff2-82\">\n",
       "                  <circle cx=\"0\" cy=\"0\" r=\"0.9\" class=\"primitive\"/>\n",
       "                </g>\n",
       "              </g>\n",
       "            </g>\n",
       "            <g class=\"color_RGBA{Float32}(0.0f0,0.74736935f0,1.0f0,1.0f0)\" fill-opacity=\"1\" stroke=\"#FFFFFF\" fill=\"#00BFFF\" id=\"img-dda81ff2-83\">\n",
       "              <g class=\"marker\" id=\"img-dda81ff2-84\">\n",
       "                <g transform=\"translate(52.16,38.65)\" id=\"img-dda81ff2-85\">\n",
       "                  <circle cx=\"0\" cy=\"0\" r=\"0.9\" class=\"primitive\"/>\n",
       "                </g>\n",
       "              </g>\n",
       "            </g>\n",
       "            <g class=\"color_RGBA{Float32}(0.0f0,0.74736935f0,1.0f0,1.0f0)\" fill-opacity=\"1\" stroke=\"#FFFFFF\" fill=\"#00BFFF\" id=\"img-dda81ff2-86\">\n",
       "              <g class=\"marker\" id=\"img-dda81ff2-87\">\n",
       "                <g transform=\"translate(46.72,38.55)\" id=\"img-dda81ff2-88\">\n",
       "                  <circle cx=\"0\" cy=\"0\" r=\"0.9\" class=\"primitive\"/>\n",
       "                </g>\n",
       "              </g>\n",
       "            </g>\n",
       "            <g class=\"color_RGBA{Float32}(0.0f0,0.74736935f0,1.0f0,1.0f0)\" fill-opacity=\"1\" stroke=\"#FFFFFF\" fill=\"#00BFFF\" id=\"img-dda81ff2-89\">\n",
       "              <g class=\"marker\" id=\"img-dda81ff2-90\">\n",
       "                <g transform=\"translate(41.29,38.2)\" id=\"img-dda81ff2-91\">\n",
       "                  <circle cx=\"0\" cy=\"0\" r=\"0.9\" class=\"primitive\"/>\n",
       "                </g>\n",
       "              </g>\n",
       "            </g>\n",
       "            <g class=\"color_RGBA{Float32}(0.0f0,0.74736935f0,1.0f0,1.0f0)\" fill-opacity=\"1\" stroke=\"#FFFFFF\" fill=\"#00BFFF\" id=\"img-dda81ff2-92\">\n",
       "              <g class=\"marker\" id=\"img-dda81ff2-93\">\n",
       "                <g transform=\"translate(35.85,35.09)\" id=\"img-dda81ff2-94\">\n",
       "                  <circle cx=\"0\" cy=\"0\" r=\"0.9\" class=\"primitive\"/>\n",
       "                </g>\n",
       "              </g>\n",
       "            </g>\n",
       "            <g class=\"color_RGBA{Float32}(0.0f0,0.74736935f0,1.0f0,1.0f0)\" fill-opacity=\"1\" stroke=\"#FFFFFF\" fill=\"#00BFFF\" id=\"img-dda81ff2-95\">\n",
       "              <g class=\"marker\" id=\"img-dda81ff2-96\">\n",
       "                <g transform=\"translate(30.42,32.07)\" id=\"img-dda81ff2-97\">\n",
       "                  <circle cx=\"0\" cy=\"0\" r=\"0.9\" class=\"primitive\"/>\n",
       "                </g>\n",
       "              </g>\n",
       "            </g>\n",
       "            <g class=\"color_RGBA{Float32}(0.0f0,0.74736935f0,1.0f0,1.0f0)\" fill-opacity=\"1\" stroke=\"#FFFFFF\" fill=\"#00BFFF\" id=\"img-dda81ff2-98\">\n",
       "              <g class=\"marker\" id=\"img-dda81ff2-99\">\n",
       "                <g transform=\"translate(24.98,25.75)\" id=\"img-dda81ff2-100\">\n",
       "                  <circle cx=\"0\" cy=\"0\" r=\"0.9\" class=\"primitive\"/>\n",
       "                </g>\n",
       "              </g>\n",
       "            </g>\n",
       "            <g class=\"color_RGBA{Float32}(0.0f0,0.74736935f0,1.0f0,1.0f0)\" fill-opacity=\"1\" stroke=\"#FFFFFF\" fill=\"#00BFFF\" id=\"img-dda81ff2-101\">\n",
       "              <g class=\"marker\" id=\"img-dda81ff2-102\">\n",
       "                <g transform=\"translate(19.54,7)\" id=\"img-dda81ff2-103\">\n",
       "                  <circle cx=\"0\" cy=\"0\" r=\"0.9\" class=\"primitive\"/>\n",
       "                </g>\n",
       "              </g>\n",
       "            </g>\n",
       "          </g>\n",
       "        </g>\n",
       "      </g>\n",
       "    </g>\n",
       "  </g>\n",
       "  <g class=\"guide ylabels\" font-size=\"2.82\" font-family=\"'PT Sans Caption','Helvetica Neue','Helvetica',sans-serif\" fill=\"#6C606B\" id=\"img-dda81ff2-104\">\n",
       "    <g transform=\"translate(15.83,60.28)\" id=\"img-dda81ff2-105\">\n",
       "      <g class=\"primitive\">\n",
       "        <text text-anchor=\"end\" dy=\"0.35em\">0.7</text>\n",
       "      </g>\n",
       "    </g>\n",
       "    <g transform=\"translate(15.83,42.52)\" id=\"img-dda81ff2-106\">\n",
       "      <g class=\"primitive\">\n",
       "        <text text-anchor=\"end\" dy=\"0.35em\">0.8</text>\n",
       "      </g>\n",
       "    </g>\n",
       "    <g transform=\"translate(15.83,24.76)\" id=\"img-dda81ff2-107\">\n",
       "      <g class=\"primitive\">\n",
       "        <text text-anchor=\"end\" dy=\"0.35em\">0.9</text>\n",
       "      </g>\n",
       "    </g>\n",
       "    <g transform=\"translate(15.83,7)\" id=\"img-dda81ff2-108\">\n",
       "      <g class=\"primitive\">\n",
       "        <text text-anchor=\"end\" dy=\"0.35em\">1.0</text>\n",
       "      </g>\n",
       "    </g>\n",
       "  </g>\n",
       "  <g font-size=\"3.88\" font-family=\"'PT Sans','Helvetica Neue','Helvetica',sans-serif\" fill=\"#564A55\" stroke=\"#000000\" stroke-opacity=\"0.000\" id=\"img-dda81ff2-109\">\n",
       "    <g transform=\"translate(8.81,33.64)\" id=\"img-dda81ff2-110\">\n",
       "      <g class=\"primitive\">\n",
       "        <text text-anchor=\"end\" dy=\"0.35em\">y</text>\n",
       "      </g>\n",
       "    </g>\n",
       "  </g>\n",
       "</g>\n",
       "<defs>\n",
       "  <clipPath id=\"img-dda81ff2-4\">\n",
       "    <path d=\"M16.83,5 L136.42,5 136.42,62.28 16.83,62.28 \" />\n",
       "  </clipPath>\n",
       "</defs>\n",
       "</svg>\n"
      ],
      "text/html": [
       "<?xml version=\"1.0\" encoding=\"UTF-8\"?>\n",
       "<svg xmlns=\"http://www.w3.org/2000/svg\"\n",
       "     xmlns:xlink=\"http://www.w3.org/1999/xlink\"\n",
       "     xmlns:gadfly=\"http://www.gadflyjl.org/ns\"\n",
       "     version=\"1.2\"\n",
       "     width=\"141.42mm\" height=\"100mm\" viewBox=\"0 0 141.42 100\"\n",
       "     stroke=\"none\"\n",
       "     fill=\"#000000\"\n",
       "     stroke-width=\"0.3\"\n",
       "     font-size=\"3.88\"\n",
       "\n",
       "     id=\"img-2f6089ae\">\n",
       "<defs>\n",
       "  <marker id=\"arrow\" markerWidth=\"15\" markerHeight=\"7\" refX=\"5\" refY=\"3.5\" orient=\"auto\" markerUnits=\"strokeWidth\">\n",
       "    <path d=\"M0,0 L15,3.5 L0,7 z\" stroke=\"context-stroke\" fill=\"context-stroke\"/>\n",
       "  </marker>\n",
       "</defs>\n",
       "<g class=\"plotroot yscalable\" id=\"img-2f6089ae-1\">\n",
       "  <g font-size=\"3.88\" font-family=\"'PT Sans','Helvetica Neue','Helvetica',sans-serif\" fill=\"#564A55\" stroke=\"#000000\" stroke-opacity=\"0.000\" id=\"img-2f6089ae-2\">\n",
       "    <g transform=\"translate(76.62,88.39)\">\n",
       "      <g class=\"primitive\">\n",
       "        <text text-anchor=\"middle\" dy=\"0.6em\">x</text>\n",
       "      </g>\n",
       "    </g>\n",
       "  </g>\n",
       "  <g class=\"guide xlabels\" font-size=\"2.82\" font-family=\"'PT Sans Caption','Helvetica Neue','Helvetica',sans-serif\" fill=\"#6C606B\" id=\"img-2f6089ae-3\">\n",
       "    <g transform=\"translate(19.54,63.28)\" gadfly:scale=\"1.0\" visibility=\"visible\">\n",
       "      <g class=\"primitive\">\n",
       "        <text text-anchor=\"end\" dy=\"-0em\" transform=\"rotate(-90,0, 0)\">hungary</text>\n",
       "      </g>\n",
       "    </g>\n",
       "    <g transform=\"translate(24.98,63.28)\" gadfly:scale=\"1.0\" visibility=\"visible\">\n",
       "      <g class=\"primitive\">\n",
       "        <text text-anchor=\"end\" dy=\"-0em\" transform=\"rotate(-90,0, 0)\">austria</text>\n",
       "      </g>\n",
       "    </g>\n",
       "    <g transform=\"translate(30.42,63.28)\" gadfly:scale=\"1.0\" visibility=\"visible\">\n",
       "      <g class=\"primitive\">\n",
       "        <text text-anchor=\"end\" dy=\"-0em\" transform=\"rotate(-90,0, 0)\">poland</text>\n",
       "      </g>\n",
       "    </g>\n",
       "    <g transform=\"translate(35.85,63.28)\" gadfly:scale=\"1.0\" visibility=\"visible\">\n",
       "      <g class=\"primitive\">\n",
       "        <text text-anchor=\"end\" dy=\"-0em\" transform=\"rotate(-90,0, 0)\">lithuania</text>\n",
       "      </g>\n",
       "    </g>\n",
       "    <g transform=\"translate(41.29,63.28)\" gadfly:scale=\"1.0\" visibility=\"visible\">\n",
       "      <g class=\"primitive\">\n",
       "        <text text-anchor=\"end\" dy=\"-0em\" transform=\"rotate(-90,0, 0)\">romania</text>\n",
       "      </g>\n",
       "    </g>\n",
       "    <g transform=\"translate(46.72,63.28)\" gadfly:scale=\"1.0\" visibility=\"visible\">\n",
       "      <g class=\"primitive\">\n",
       "        <text text-anchor=\"end\" dy=\"-0em\" transform=\"rotate(-90,0, 0)\">denmark</text>\n",
       "      </g>\n",
       "    </g>\n",
       "    <g transform=\"translate(52.16,63.28)\" gadfly:scale=\"1.0\" visibility=\"visible\">\n",
       "      <g class=\"primitive\">\n",
       "        <text text-anchor=\"end\" dy=\"-0em\" transform=\"rotate(-90,0, 0)\">czechoslovakia</text>\n",
       "      </g>\n",
       "    </g>\n",
       "    <g transform=\"translate(57.6,63.28)\" gadfly:scale=\"1.0\" visibility=\"visible\">\n",
       "      <g class=\"primitive\">\n",
       "        <text text-anchor=\"end\" dy=\"-0em\" transform=\"rotate(-90,0, 0)\">serbia</text>\n",
       "      </g>\n",
       "    </g>\n",
       "    <g transform=\"translate(63.03,63.28)\" gadfly:scale=\"1.0\" visibility=\"visible\">\n",
       "      <g class=\"primitive\">\n",
       "        <text text-anchor=\"end\" dy=\"-0em\" transform=\"rotate(-90,0, 0)\">bulgaria</text>\n",
       "      </g>\n",
       "    </g>\n",
       "    <g transform=\"translate(68.47,63.28)\" gadfly:scale=\"1.0\" visibility=\"visible\">\n",
       "      <g class=\"primitive\">\n",
       "        <text text-anchor=\"end\" dy=\"-0em\" transform=\"rotate(-90,0, 0)\">croatia</text>\n",
       "      </g>\n",
       "    </g>\n",
       "    <g transform=\"translate(73.91,63.28)\" gadfly:scale=\"1.0\" visibility=\"visible\">\n",
       "      <g class=\"primitive\">\n",
       "        <text text-anchor=\"end\" dy=\"-0em\" transform=\"rotate(-90,0, 0)\">bohemia</text>\n",
       "      </g>\n",
       "    </g>\n",
       "    <g transform=\"translate(79.34,63.28)\" gadfly:scale=\"1.0\" visibility=\"visible\">\n",
       "      <g class=\"primitive\">\n",
       "        <text text-anchor=\"end\" dy=\"-0em\" transform=\"rotate(-90,0, 0)\">portugal</text>\n",
       "      </g>\n",
       "    </g>\n",
       "    <g transform=\"translate(84.78,63.28)\" gadfly:scale=\"1.0\" visibility=\"visible\">\n",
       "      <g class=\"primitive\">\n",
       "        <text text-anchor=\"end\" dy=\"-0em\" transform=\"rotate(-90,0, 0)\">russia</text>\n",
       "      </g>\n",
       "    </g>\n",
       "    <g transform=\"translate(90.21,63.28)\" gadfly:scale=\"1.0\" visibility=\"visible\">\n",
       "      <g class=\"primitive\">\n",
       "        <text text-anchor=\"end\" dy=\"-0em\" transform=\"rotate(-90,0, 0)\">albania</text>\n",
       "      </g>\n",
       "    </g>\n",
       "    <g transform=\"translate(95.65,63.28)\" gadfly:scale=\"1.0\" visibility=\"visible\">\n",
       "      <g class=\"primitive\">\n",
       "        <text text-anchor=\"end\" dy=\"-0em\" transform=\"rotate(-90,0, 0)\">slovakia</text>\n",
       "      </g>\n",
       "    </g>\n",
       "    <g transform=\"translate(101.09,63.28)\" gadfly:scale=\"1.0\" visibility=\"visible\">\n",
       "      <g class=\"primitive\">\n",
       "        <text text-anchor=\"end\" dy=\"-0em\" transform=\"rotate(-90,0, 0)\">norway</text>\n",
       "      </g>\n",
       "    </g>\n",
       "    <g transform=\"translate(106.52,63.28)\" gadfly:scale=\"1.0\" visibility=\"visible\">\n",
       "      <g class=\"primitive\">\n",
       "        <text text-anchor=\"end\" dy=\"-0em\" transform=\"rotate(-90,0, 0)\">estonia</text>\n",
       "      </g>\n",
       "    </g>\n",
       "    <g transform=\"translate(111.96,63.28)\" gadfly:scale=\"1.0\" visibility=\"visible\">\n",
       "      <g class=\"primitive\">\n",
       "        <text text-anchor=\"end\" dy=\"-0em\" transform=\"rotate(-90,0, 0)\">prussia</text>\n",
       "      </g>\n",
       "    </g>\n",
       "    <g transform=\"translate(117.39,63.28)\" gadfly:scale=\"1.0\" visibility=\"visible\">\n",
       "      <g class=\"primitive\">\n",
       "        <text text-anchor=\"end\" dy=\"-0em\" transform=\"rotate(-90,0, 0)\">bosnia</text>\n",
       "      </g>\n",
       "    </g>\n",
       "    <g transform=\"translate(122.83,63.28)\" gadfly:scale=\"1.0\" visibility=\"visible\">\n",
       "      <g class=\"primitive\">\n",
       "        <text text-anchor=\"end\" dy=\"-0em\" transform=\"rotate(-90,0, 0)\">montenegro</text>\n",
       "      </g>\n",
       "    </g>\n",
       "    <g transform=\"translate(128.27,63.28)\" gadfly:scale=\"1.0\" visibility=\"visible\">\n",
       "      <g class=\"primitive\">\n",
       "        <text text-anchor=\"end\" dy=\"-0em\" transform=\"rotate(-90,0, 0)\">yugoslavia</text>\n",
       "      </g>\n",
       "    </g>\n",
       "    <g transform=\"translate(133.7,63.28)\" gadfly:scale=\"1.0\" visibility=\"visible\">\n",
       "      <g class=\"primitive\">\n",
       "        <text text-anchor=\"end\" dy=\"-0em\" transform=\"rotate(-90,0, 0)\">armenia</text>\n",
       "      </g>\n",
       "    </g>\n",
       "  </g>\n",
       "  <g clip-path=\"url(#img-2f6089ae-4)\">\n",
       "    <g id=\"img-2f6089ae-5\">\n",
       "      <g pointer-events=\"visible\" stroke-width=\"0.3\" fill=\"#000000\" fill-opacity=\"0.000\" stroke=\"#000000\" stroke-opacity=\"0.000\" class=\"guide background\" id=\"img-2f6089ae-6\">\n",
       "        <g transform=\"translate(76.62,33.64)\" id=\"img-2f6089ae-7\">\n",
       "          <path d=\"M-59.8,-28.64 L59.8,-28.64 59.8,28.64 -59.8,28.64  z\" class=\"primitive\"/>\n",
       "        </g>\n",
       "      </g>\n",
       "      <g class=\"guide ygridlines xfixed\" stroke-dasharray=\"0.5,0.5\" stroke-width=\"0.2\" stroke=\"#D0D0E0\" id=\"img-2f6089ae-8\">\n",
       "        <g transform=\"translate(76.62,131.32)\" id=\"img-2f6089ae-9\" visibility=\"hidden\" gadfly:scale=\"1.0\">\n",
       "          <path fill=\"none\" d=\"M-59.8,0 L59.8,0 \" class=\"primitive\"/>\n",
       "        </g>\n",
       "        <g transform=\"translate(76.62,113.56)\" id=\"img-2f6089ae-10\" visibility=\"hidden\" gadfly:scale=\"1.0\">\n",
       "          <path fill=\"none\" d=\"M-59.8,0 L59.8,0 \" class=\"primitive\"/>\n",
       "        </g>\n",
       "        <g transform=\"translate(76.62,95.8)\" id=\"img-2f6089ae-11\" visibility=\"hidden\" gadfly:scale=\"1.0\">\n",
       "          <path fill=\"none\" d=\"M-59.8,0 L59.8,0 \" class=\"primitive\"/>\n",
       "        </g>\n",
       "        <g transform=\"translate(76.62,78.04)\" id=\"img-2f6089ae-12\" visibility=\"hidden\" gadfly:scale=\"1.0\">\n",
       "          <path fill=\"none\" d=\"M-59.8,0 L59.8,0 \" class=\"primitive\"/>\n",
       "        </g>\n",
       "        <g transform=\"translate(76.62,60.28)\" id=\"img-2f6089ae-13\" visibility=\"visible\" gadfly:scale=\"1.0\">\n",
       "          <path fill=\"none\" d=\"M-59.8,0 L59.8,0 \" class=\"primitive\"/>\n",
       "        </g>\n",
       "        <g transform=\"translate(76.62,42.52)\" id=\"img-2f6089ae-14\" visibility=\"visible\" gadfly:scale=\"1.0\">\n",
       "          <path fill=\"none\" d=\"M-59.8,0 L59.8,0 \" class=\"primitive\"/>\n",
       "        </g>\n",
       "        <g transform=\"translate(76.62,24.76)\" id=\"img-2f6089ae-15\" visibility=\"visible\" gadfly:scale=\"1.0\">\n",
       "          <path fill=\"none\" d=\"M-59.8,0 L59.8,0 \" class=\"primitive\"/>\n",
       "        </g>\n",
       "        <g transform=\"translate(76.62,7)\" id=\"img-2f6089ae-16\" visibility=\"visible\" gadfly:scale=\"1.0\">\n",
       "          <path fill=\"none\" d=\"M-59.8,0 L59.8,0 \" class=\"primitive\"/>\n",
       "        </g>\n",
       "        <g transform=\"translate(76.62,-10.76)\" id=\"img-2f6089ae-17\" visibility=\"hidden\" gadfly:scale=\"1.0\">\n",
       "          <path fill=\"none\" d=\"M-59.8,0 L59.8,0 \" class=\"primitive\"/>\n",
       "        </g>\n",
       "        <g transform=\"translate(76.62,-28.52)\" id=\"img-2f6089ae-18\" visibility=\"hidden\" gadfly:scale=\"1.0\">\n",
       "          <path fill=\"none\" d=\"M-59.8,0 L59.8,0 \" class=\"primitive\"/>\n",
       "        </g>\n",
       "        <g transform=\"translate(76.62,-46.28)\" id=\"img-2f6089ae-19\" visibility=\"hidden\" gadfly:scale=\"1.0\">\n",
       "          <path fill=\"none\" d=\"M-59.8,0 L59.8,0 \" class=\"primitive\"/>\n",
       "        </g>\n",
       "        <g transform=\"translate(76.62,-64.04)\" id=\"img-2f6089ae-20\" visibility=\"hidden\" gadfly:scale=\"1.0\">\n",
       "          <path fill=\"none\" d=\"M-59.8,0 L59.8,0 \" class=\"primitive\"/>\n",
       "        </g>\n",
       "        <g transform=\"translate(76.62,113.56)\" id=\"img-2f6089ae-21\" visibility=\"hidden\" gadfly:scale=\"10.0\">\n",
       "          <path fill=\"none\" d=\"M-59.8,0 L59.8,0 \" class=\"primitive\"/>\n",
       "        </g>\n",
       "        <g transform=\"translate(76.62,111.79)\" id=\"img-2f6089ae-22\" visibility=\"hidden\" gadfly:scale=\"10.0\">\n",
       "          <path fill=\"none\" d=\"M-59.8,0 L59.8,0 \" class=\"primitive\"/>\n",
       "        </g>\n",
       "        <g transform=\"translate(76.62,110.01)\" id=\"img-2f6089ae-23\" visibility=\"hidden\" gadfly:scale=\"10.0\">\n",
       "          <path fill=\"none\" d=\"M-59.8,0 L59.8,0 \" class=\"primitive\"/>\n",
       "        </g>\n",
       "        <g transform=\"translate(76.62,108.24)\" id=\"img-2f6089ae-24\" visibility=\"hidden\" gadfly:scale=\"10.0\">\n",
       "          <path fill=\"none\" d=\"M-59.8,0 L59.8,0 \" class=\"primitive\"/>\n",
       "        </g>\n",
       "        <g transform=\"translate(76.62,106.46)\" id=\"img-2f6089ae-25\" visibility=\"hidden\" gadfly:scale=\"10.0\">\n",
       "          <path fill=\"none\" d=\"M-59.8,0 L59.8,0 \" class=\"primitive\"/>\n",
       "        </g>\n",
       "        <g transform=\"translate(76.62,104.68)\" id=\"img-2f6089ae-26\" visibility=\"hidden\" gadfly:scale=\"10.0\">\n",
       "          <path fill=\"none\" d=\"M-59.8,0 L59.8,0 \" class=\"primitive\"/>\n",
       "        </g>\n",
       "        <g transform=\"translate(76.62,102.91)\" id=\"img-2f6089ae-27\" visibility=\"hidden\" gadfly:scale=\"10.0\">\n",
       "          <path fill=\"none\" d=\"M-59.8,0 L59.8,0 \" class=\"primitive\"/>\n",
       "        </g>\n",
       "        <g transform=\"translate(76.62,101.13)\" id=\"img-2f6089ae-28\" visibility=\"hidden\" gadfly:scale=\"10.0\">\n",
       "          <path fill=\"none\" d=\"M-59.8,0 L59.8,0 \" class=\"primitive\"/>\n",
       "        </g>\n",
       "        <g transform=\"translate(76.62,99.35)\" id=\"img-2f6089ae-29\" visibility=\"hidden\" gadfly:scale=\"10.0\">\n",
       "          <path fill=\"none\" d=\"M-59.8,0 L59.8,0 \" class=\"primitive\"/>\n",
       "        </g>\n",
       "        <g transform=\"translate(76.62,97.58)\" id=\"img-2f6089ae-30\" visibility=\"hidden\" gadfly:scale=\"10.0\">\n",
       "          <path fill=\"none\" d=\"M-59.8,0 L59.8,0 \" class=\"primitive\"/>\n",
       "        </g>\n",
       "        <g transform=\"translate(76.62,95.8)\" id=\"img-2f6089ae-31\" visibility=\"hidden\" gadfly:scale=\"10.0\">\n",
       "          <path fill=\"none\" d=\"M-59.8,0 L59.8,0 \" class=\"primitive\"/>\n",
       "        </g>\n",
       "        <g transform=\"translate(76.62,94.03)\" id=\"img-2f6089ae-32\" visibility=\"hidden\" gadfly:scale=\"10.0\">\n",
       "          <path fill=\"none\" d=\"M-59.8,0 L59.8,0 \" class=\"primitive\"/>\n",
       "        </g>\n",
       "        <g transform=\"translate(76.62,92.25)\" id=\"img-2f6089ae-33\" visibility=\"hidden\" gadfly:scale=\"10.0\">\n",
       "          <path fill=\"none\" d=\"M-59.8,0 L59.8,0 \" class=\"primitive\"/>\n",
       "        </g>\n",
       "        <g transform=\"translate(76.62,90.47)\" id=\"img-2f6089ae-34\" visibility=\"hidden\" gadfly:scale=\"10.0\">\n",
       "          <path fill=\"none\" d=\"M-59.8,0 L59.8,0 \" class=\"primitive\"/>\n",
       "        </g>\n",
       "        <g transform=\"translate(76.62,88.7)\" id=\"img-2f6089ae-35\" visibility=\"hidden\" gadfly:scale=\"10.0\">\n",
       "          <path fill=\"none\" d=\"M-59.8,0 L59.8,0 \" class=\"primitive\"/>\n",
       "        </g>\n",
       "        <g transform=\"translate(76.62,86.92)\" id=\"img-2f6089ae-36\" visibility=\"hidden\" gadfly:scale=\"10.0\">\n",
       "          <path fill=\"none\" d=\"M-59.8,0 L59.8,0 \" class=\"primitive\"/>\n",
       "        </g>\n",
       "        <g transform=\"translate(76.62,85.15)\" id=\"img-2f6089ae-37\" visibility=\"hidden\" gadfly:scale=\"10.0\">\n",
       "          <path fill=\"none\" d=\"M-59.8,0 L59.8,0 \" class=\"primitive\"/>\n",
       "        </g>\n",
       "        <g transform=\"translate(76.62,83.37)\" id=\"img-2f6089ae-38\" visibility=\"hidden\" gadfly:scale=\"10.0\">\n",
       "          <path fill=\"none\" d=\"M-59.8,0 L59.8,0 \" class=\"primitive\"/>\n",
       "        </g>\n",
       "        <g transform=\"translate(76.62,81.59)\" id=\"img-2f6089ae-39\" visibility=\"hidden\" gadfly:scale=\"10.0\">\n",
       "          <path fill=\"none\" d=\"M-59.8,0 L59.8,0 \" class=\"primitive\"/>\n",
       "        </g>\n",
       "        <g transform=\"translate(76.62,79.82)\" id=\"img-2f6089ae-40\" visibility=\"hidden\" gadfly:scale=\"10.0\">\n",
       "          <path fill=\"none\" d=\"M-59.8,0 L59.8,0 \" class=\"primitive\"/>\n",
       "        </g>\n",
       "        <g transform=\"translate(76.62,78.04)\" id=\"img-2f6089ae-41\" visibility=\"hidden\" gadfly:scale=\"10.0\">\n",
       "          <path fill=\"none\" d=\"M-59.8,0 L59.8,0 \" class=\"primitive\"/>\n",
       "        </g>\n",
       "        <g transform=\"translate(76.62,76.27)\" id=\"img-2f6089ae-42\" visibility=\"hidden\" gadfly:scale=\"10.0\">\n",
       "          <path fill=\"none\" d=\"M-59.8,0 L59.8,0 \" class=\"primitive\"/>\n",
       "        </g>\n",
       "        <g transform=\"translate(76.62,74.49)\" id=\"img-2f6089ae-43\" visibility=\"hidden\" gadfly:scale=\"10.0\">\n",
       "          <path fill=\"none\" d=\"M-59.8,0 L59.8,0 \" class=\"primitive\"/>\n",
       "        </g>\n",
       "        <g transform=\"translate(76.62,72.71)\" id=\"img-2f6089ae-44\" visibility=\"hidden\" gadfly:scale=\"10.0\">\n",
       "          <path fill=\"none\" d=\"M-59.8,0 L59.8,0 \" class=\"primitive\"/>\n",
       "        </g>\n",
       "        <g transform=\"translate(76.62,70.94)\" id=\"img-2f6089ae-45\" visibility=\"hidden\" gadfly:scale=\"10.0\">\n",
       "          <path fill=\"none\" d=\"M-59.8,0 L59.8,0 \" class=\"primitive\"/>\n",
       "        </g>\n",
       "        <g transform=\"translate(76.62,69.16)\" id=\"img-2f6089ae-46\" visibility=\"hidden\" gadfly:scale=\"10.0\">\n",
       "          <path fill=\"none\" d=\"M-59.8,0 L59.8,0 \" class=\"primitive\"/>\n",
       "        </g>\n",
       "        <g transform=\"translate(76.62,67.39)\" id=\"img-2f6089ae-47\" visibility=\"hidden\" gadfly:scale=\"10.0\">\n",
       "          <path fill=\"none\" d=\"M-59.8,0 L59.8,0 \" class=\"primitive\"/>\n",
       "        </g>\n",
       "        <g transform=\"translate(76.62,65.61)\" id=\"img-2f6089ae-48\" visibility=\"hidden\" gadfly:scale=\"10.0\">\n",
       "          <path fill=\"none\" d=\"M-59.8,0 L59.8,0 \" class=\"primitive\"/>\n",
       "        </g>\n",
       "        <g transform=\"translate(76.62,63.83)\" id=\"img-2f6089ae-49\" visibility=\"hidden\" gadfly:scale=\"10.0\">\n",
       "          <path fill=\"none\" d=\"M-59.8,0 L59.8,0 \" class=\"primitive\"/>\n",
       "        </g>\n",
       "        <g transform=\"translate(76.62,62.06)\" id=\"img-2f6089ae-50\" visibility=\"hidden\" gadfly:scale=\"10.0\">\n",
       "          <path fill=\"none\" d=\"M-59.8,0 L59.8,0 \" class=\"primitive\"/>\n",
       "        </g>\n",
       "        <g transform=\"translate(76.62,60.28)\" id=\"img-2f6089ae-51\" visibility=\"hidden\" gadfly:scale=\"10.0\">\n",
       "          <path fill=\"none\" d=\"M-59.8,0 L59.8,0 \" class=\"primitive\"/>\n",
       "        </g>\n",
       "        <g transform=\"translate(76.62,58.51)\" id=\"img-2f6089ae-52\" visibility=\"hidden\" gadfly:scale=\"10.0\">\n",
       "          <path fill=\"none\" d=\"M-59.8,0 L59.8,0 \" class=\"primitive\"/>\n",
       "        </g>\n",
       "        <g transform=\"translate(76.62,56.73)\" id=\"img-2f6089ae-53\" visibility=\"hidden\" gadfly:scale=\"10.0\">\n",
       "          <path fill=\"none\" d=\"M-59.8,0 L59.8,0 \" class=\"primitive\"/>\n",
       "        </g>\n",
       "        <g transform=\"translate(76.62,54.95)\" id=\"img-2f6089ae-54\" visibility=\"hidden\" gadfly:scale=\"10.0\">\n",
       "          <path fill=\"none\" d=\"M-59.8,0 L59.8,0 \" class=\"primitive\"/>\n",
       "        </g>\n",
       "        <g transform=\"translate(76.62,53.18)\" id=\"img-2f6089ae-55\" visibility=\"hidden\" gadfly:scale=\"10.0\">\n",
       "          <path fill=\"none\" d=\"M-59.8,0 L59.8,0 \" class=\"primitive\"/>\n",
       "        </g>\n",
       "        <g transform=\"translate(76.62,51.4)\" id=\"img-2f6089ae-56\" visibility=\"hidden\" gadfly:scale=\"10.0\">\n",
       "          <path fill=\"none\" d=\"M-59.8,0 L59.8,0 \" class=\"primitive\"/>\n",
       "        </g>\n",
       "        <g transform=\"translate(76.62,49.63)\" id=\"img-2f6089ae-57\" visibility=\"hidden\" gadfly:scale=\"10.0\">\n",
       "          <path fill=\"none\" d=\"M-59.8,0 L59.8,0 \" class=\"primitive\"/>\n",
       "        </g>\n",
       "        <g transform=\"translate(76.62,47.85)\" id=\"img-2f6089ae-58\" visibility=\"hidden\" gadfly:scale=\"10.0\">\n",
       "          <path fill=\"none\" d=\"M-59.8,0 L59.8,0 \" class=\"primitive\"/>\n",
       "        </g>\n",
       "        <g transform=\"translate(76.62,46.07)\" id=\"img-2f6089ae-59\" visibility=\"hidden\" gadfly:scale=\"10.0\">\n",
       "          <path fill=\"none\" d=\"M-59.8,0 L59.8,0 \" class=\"primitive\"/>\n",
       "        </g>\n",
       "        <g transform=\"translate(76.62,44.3)\" id=\"img-2f6089ae-60\" visibility=\"hidden\" gadfly:scale=\"10.0\">\n",
       "          <path fill=\"none\" d=\"M-59.8,0 L59.8,0 \" class=\"primitive\"/>\n",
       "        </g>\n",
       "        <g transform=\"translate(76.62,42.52)\" id=\"img-2f6089ae-61\" visibility=\"hidden\" gadfly:scale=\"10.0\">\n",
       "          <path fill=\"none\" d=\"M-59.8,0 L59.8,0 \" class=\"primitive\"/>\n",
       "        </g>\n",
       "        <g transform=\"translate(76.62,40.75)\" id=\"img-2f6089ae-62\" visibility=\"hidden\" gadfly:scale=\"10.0\">\n",
       "          <path fill=\"none\" d=\"M-59.8,0 L59.8,0 \" class=\"primitive\"/>\n",
       "        </g>\n",
       "        <g transform=\"translate(76.62,38.97)\" id=\"img-2f6089ae-63\" visibility=\"hidden\" gadfly:scale=\"10.0\">\n",
       "          <path fill=\"none\" d=\"M-59.8,0 L59.8,0 \" class=\"primitive\"/>\n",
       "        </g>\n",
       "        <g transform=\"translate(76.62,37.19)\" id=\"img-2f6089ae-64\" visibility=\"hidden\" gadfly:scale=\"10.0\">\n",
       "          <path fill=\"none\" d=\"M-59.8,0 L59.8,0 \" class=\"primitive\"/>\n",
       "        </g>\n",
       "        <g transform=\"translate(76.62,35.42)\" id=\"img-2f6089ae-65\" visibility=\"hidden\" gadfly:scale=\"10.0\">\n",
       "          <path fill=\"none\" d=\"M-59.8,0 L59.8,0 \" class=\"primitive\"/>\n",
       "        </g>\n",
       "        <g transform=\"translate(76.62,33.64)\" id=\"img-2f6089ae-66\" visibility=\"hidden\" gadfly:scale=\"10.0\">\n",
       "          <path fill=\"none\" d=\"M-59.8,0 L59.8,0 \" class=\"primitive\"/>\n",
       "        </g>\n",
       "        <g transform=\"translate(76.62,31.86)\" id=\"img-2f6089ae-67\" visibility=\"hidden\" gadfly:scale=\"10.0\">\n",
       "          <path fill=\"none\" d=\"M-59.8,0 L59.8,0 \" class=\"primitive\"/>\n",
       "        </g>\n",
       "        <g transform=\"translate(76.62,30.09)\" id=\"img-2f6089ae-68\" visibility=\"hidden\" gadfly:scale=\"10.0\">\n",
       "          <path fill=\"none\" d=\"M-59.8,0 L59.8,0 \" class=\"primitive\"/>\n",
       "        </g>\n",
       "        <g transform=\"translate(76.62,28.31)\" id=\"img-2f6089ae-69\" visibility=\"hidden\" gadfly:scale=\"10.0\">\n",
       "          <path fill=\"none\" d=\"M-59.8,0 L59.8,0 \" class=\"primitive\"/>\n",
       "        </g>\n",
       "        <g transform=\"translate(76.62,26.54)\" id=\"img-2f6089ae-70\" visibility=\"hidden\" gadfly:scale=\"10.0\">\n",
       "          <path fill=\"none\" d=\"M-59.8,0 L59.8,0 \" class=\"primitive\"/>\n",
       "        </g>\n",
       "        <g transform=\"translate(76.62,24.76)\" id=\"img-2f6089ae-71\" visibility=\"hidden\" gadfly:scale=\"10.0\">\n",
       "          <path fill=\"none\" d=\"M-59.8,0 L59.8,0 \" class=\"primitive\"/>\n",
       "        </g>\n",
       "        <g transform=\"translate(76.62,22.98)\" id=\"img-2f6089ae-72\" visibility=\"hidden\" gadfly:scale=\"10.0\">\n",
       "          <path fill=\"none\" d=\"M-59.8,0 L59.8,0 \" class=\"primitive\"/>\n",
       "        </g>\n",
       "        <g transform=\"translate(76.62,21.21)\" id=\"img-2f6089ae-73\" visibility=\"hidden\" gadfly:scale=\"10.0\">\n",
       "          <path fill=\"none\" d=\"M-59.8,0 L59.8,0 \" class=\"primitive\"/>\n",
       "        </g>\n",
       "        <g transform=\"translate(76.62,19.43)\" id=\"img-2f6089ae-74\" visibility=\"hidden\" gadfly:scale=\"10.0\">\n",
       "          <path fill=\"none\" d=\"M-59.8,0 L59.8,0 \" class=\"primitive\"/>\n",
       "        </g>\n",
       "        <g transform=\"translate(76.62,17.66)\" id=\"img-2f6089ae-75\" visibility=\"hidden\" gadfly:scale=\"10.0\">\n",
       "          <path fill=\"none\" d=\"M-59.8,0 L59.8,0 \" class=\"primitive\"/>\n",
       "        </g>\n",
       "        <g transform=\"translate(76.62,15.88)\" id=\"img-2f6089ae-76\" visibility=\"hidden\" gadfly:scale=\"10.0\">\n",
       "          <path fill=\"none\" d=\"M-59.8,0 L59.8,0 \" class=\"primitive\"/>\n",
       "        </g>\n",
       "        <g transform=\"translate(76.62,14.1)\" id=\"img-2f6089ae-77\" visibility=\"hidden\" gadfly:scale=\"10.0\">\n",
       "          <path fill=\"none\" d=\"M-59.8,0 L59.8,0 \" class=\"primitive\"/>\n",
       "        </g>\n",
       "        <g transform=\"translate(76.62,12.33)\" id=\"img-2f6089ae-78\" visibility=\"hidden\" gadfly:scale=\"10.0\">\n",
       "          <path fill=\"none\" d=\"M-59.8,0 L59.8,0 \" class=\"primitive\"/>\n",
       "        </g>\n",
       "        <g transform=\"translate(76.62,10.55)\" id=\"img-2f6089ae-79\" visibility=\"hidden\" gadfly:scale=\"10.0\">\n",
       "          <path fill=\"none\" d=\"M-59.8,0 L59.8,0 \" class=\"primitive\"/>\n",
       "        </g>\n",
       "        <g transform=\"translate(76.62,8.78)\" id=\"img-2f6089ae-80\" visibility=\"hidden\" gadfly:scale=\"10.0\">\n",
       "          <path fill=\"none\" d=\"M-59.8,0 L59.8,0 \" class=\"primitive\"/>\n",
       "        </g>\n",
       "        <g transform=\"translate(76.62,7)\" id=\"img-2f6089ae-81\" visibility=\"hidden\" gadfly:scale=\"10.0\">\n",
       "          <path fill=\"none\" d=\"M-59.8,0 L59.8,0 \" class=\"primitive\"/>\n",
       "        </g>\n",
       "        <g transform=\"translate(76.62,5.22)\" id=\"img-2f6089ae-82\" visibility=\"hidden\" gadfly:scale=\"10.0\">\n",
       "          <path fill=\"none\" d=\"M-59.8,0 L59.8,0 \" class=\"primitive\"/>\n",
       "        </g>\n",
       "        <g transform=\"translate(76.62,3.45)\" id=\"img-2f6089ae-83\" visibility=\"hidden\" gadfly:scale=\"10.0\">\n",
       "          <path fill=\"none\" d=\"M-59.8,0 L59.8,0 \" class=\"primitive\"/>\n",
       "        </g>\n",
       "        <g transform=\"translate(76.62,1.67)\" id=\"img-2f6089ae-84\" visibility=\"hidden\" gadfly:scale=\"10.0\">\n",
       "          <path fill=\"none\" d=\"M-59.8,0 L59.8,0 \" class=\"primitive\"/>\n",
       "        </g>\n",
       "        <g transform=\"translate(76.62,-0.1)\" id=\"img-2f6089ae-85\" visibility=\"hidden\" gadfly:scale=\"10.0\">\n",
       "          <path fill=\"none\" d=\"M-59.8,0 L59.8,0 \" class=\"primitive\"/>\n",
       "        </g>\n",
       "        <g transform=\"translate(76.62,-1.88)\" id=\"img-2f6089ae-86\" visibility=\"hidden\" gadfly:scale=\"10.0\">\n",
       "          <path fill=\"none\" d=\"M-59.8,0 L59.8,0 \" class=\"primitive\"/>\n",
       "        </g>\n",
       "        <g transform=\"translate(76.62,-3.66)\" id=\"img-2f6089ae-87\" visibility=\"hidden\" gadfly:scale=\"10.0\">\n",
       "          <path fill=\"none\" d=\"M-59.8,0 L59.8,0 \" class=\"primitive\"/>\n",
       "        </g>\n",
       "        <g transform=\"translate(76.62,-5.43)\" id=\"img-2f6089ae-88\" visibility=\"hidden\" gadfly:scale=\"10.0\">\n",
       "          <path fill=\"none\" d=\"M-59.8,0 L59.8,0 \" class=\"primitive\"/>\n",
       "        </g>\n",
       "        <g transform=\"translate(76.62,-7.21)\" id=\"img-2f6089ae-89\" visibility=\"hidden\" gadfly:scale=\"10.0\">\n",
       "          <path fill=\"none\" d=\"M-59.8,0 L59.8,0 \" class=\"primitive\"/>\n",
       "        </g>\n",
       "        <g transform=\"translate(76.62,-8.98)\" id=\"img-2f6089ae-90\" visibility=\"hidden\" gadfly:scale=\"10.0\">\n",
       "          <path fill=\"none\" d=\"M-59.8,0 L59.8,0 \" class=\"primitive\"/>\n",
       "        </g>\n",
       "        <g transform=\"translate(76.62,-10.76)\" id=\"img-2f6089ae-91\" visibility=\"hidden\" gadfly:scale=\"10.0\">\n",
       "          <path fill=\"none\" d=\"M-59.8,0 L59.8,0 \" class=\"primitive\"/>\n",
       "        </g>\n",
       "        <g transform=\"translate(76.62,-12.54)\" id=\"img-2f6089ae-92\" visibility=\"hidden\" gadfly:scale=\"10.0\">\n",
       "          <path fill=\"none\" d=\"M-59.8,0 L59.8,0 \" class=\"primitive\"/>\n",
       "        </g>\n",
       "        <g transform=\"translate(76.62,-14.31)\" id=\"img-2f6089ae-93\" visibility=\"hidden\" gadfly:scale=\"10.0\">\n",
       "          <path fill=\"none\" d=\"M-59.8,0 L59.8,0 \" class=\"primitive\"/>\n",
       "        </g>\n",
       "        <g transform=\"translate(76.62,-16.09)\" id=\"img-2f6089ae-94\" visibility=\"hidden\" gadfly:scale=\"10.0\">\n",
       "          <path fill=\"none\" d=\"M-59.8,0 L59.8,0 \" class=\"primitive\"/>\n",
       "        </g>\n",
       "        <g transform=\"translate(76.62,-17.86)\" id=\"img-2f6089ae-95\" visibility=\"hidden\" gadfly:scale=\"10.0\">\n",
       "          <path fill=\"none\" d=\"M-59.8,0 L59.8,0 \" class=\"primitive\"/>\n",
       "        </g>\n",
       "        <g transform=\"translate(76.62,-19.64)\" id=\"img-2f6089ae-96\" visibility=\"hidden\" gadfly:scale=\"10.0\">\n",
       "          <path fill=\"none\" d=\"M-59.8,0 L59.8,0 \" class=\"primitive\"/>\n",
       "        </g>\n",
       "        <g transform=\"translate(76.62,-21.42)\" id=\"img-2f6089ae-97\" visibility=\"hidden\" gadfly:scale=\"10.0\">\n",
       "          <path fill=\"none\" d=\"M-59.8,0 L59.8,0 \" class=\"primitive\"/>\n",
       "        </g>\n",
       "        <g transform=\"translate(76.62,-23.19)\" id=\"img-2f6089ae-98\" visibility=\"hidden\" gadfly:scale=\"10.0\">\n",
       "          <path fill=\"none\" d=\"M-59.8,0 L59.8,0 \" class=\"primitive\"/>\n",
       "        </g>\n",
       "        <g transform=\"translate(76.62,-24.97)\" id=\"img-2f6089ae-99\" visibility=\"hidden\" gadfly:scale=\"10.0\">\n",
       "          <path fill=\"none\" d=\"M-59.8,0 L59.8,0 \" class=\"primitive\"/>\n",
       "        </g>\n",
       "        <g transform=\"translate(76.62,-26.75)\" id=\"img-2f6089ae-100\" visibility=\"hidden\" gadfly:scale=\"10.0\">\n",
       "          <path fill=\"none\" d=\"M-59.8,0 L59.8,0 \" class=\"primitive\"/>\n",
       "        </g>\n",
       "        <g transform=\"translate(76.62,-28.52)\" id=\"img-2f6089ae-101\" visibility=\"hidden\" gadfly:scale=\"10.0\">\n",
       "          <path fill=\"none\" d=\"M-59.8,0 L59.8,0 \" class=\"primitive\"/>\n",
       "        </g>\n",
       "        <g transform=\"translate(76.62,-30.3)\" id=\"img-2f6089ae-102\" visibility=\"hidden\" gadfly:scale=\"10.0\">\n",
       "          <path fill=\"none\" d=\"M-59.8,0 L59.8,0 \" class=\"primitive\"/>\n",
       "        </g>\n",
       "        <g transform=\"translate(76.62,-32.07)\" id=\"img-2f6089ae-103\" visibility=\"hidden\" gadfly:scale=\"10.0\">\n",
       "          <path fill=\"none\" d=\"M-59.8,0 L59.8,0 \" class=\"primitive\"/>\n",
       "        </g>\n",
       "        <g transform=\"translate(76.62,-33.85)\" id=\"img-2f6089ae-104\" visibility=\"hidden\" gadfly:scale=\"10.0\">\n",
       "          <path fill=\"none\" d=\"M-59.8,0 L59.8,0 \" class=\"primitive\"/>\n",
       "        </g>\n",
       "        <g transform=\"translate(76.62,-35.63)\" id=\"img-2f6089ae-105\" visibility=\"hidden\" gadfly:scale=\"10.0\">\n",
       "          <path fill=\"none\" d=\"M-59.8,0 L59.8,0 \" class=\"primitive\"/>\n",
       "        </g>\n",
       "        <g transform=\"translate(76.62,-37.4)\" id=\"img-2f6089ae-106\" visibility=\"hidden\" gadfly:scale=\"10.0\">\n",
       "          <path fill=\"none\" d=\"M-59.8,0 L59.8,0 \" class=\"primitive\"/>\n",
       "        </g>\n",
       "        <g transform=\"translate(76.62,-39.18)\" id=\"img-2f6089ae-107\" visibility=\"hidden\" gadfly:scale=\"10.0\">\n",
       "          <path fill=\"none\" d=\"M-59.8,0 L59.8,0 \" class=\"primitive\"/>\n",
       "        </g>\n",
       "        <g transform=\"translate(76.62,-40.95)\" id=\"img-2f6089ae-108\" visibility=\"hidden\" gadfly:scale=\"10.0\">\n",
       "          <path fill=\"none\" d=\"M-59.8,0 L59.8,0 \" class=\"primitive\"/>\n",
       "        </g>\n",
       "        <g transform=\"translate(76.62,-42.73)\" id=\"img-2f6089ae-109\" visibility=\"hidden\" gadfly:scale=\"10.0\">\n",
       "          <path fill=\"none\" d=\"M-59.8,0 L59.8,0 \" class=\"primitive\"/>\n",
       "        </g>\n",
       "        <g transform=\"translate(76.62,-44.51)\" id=\"img-2f6089ae-110\" visibility=\"hidden\" gadfly:scale=\"10.0\">\n",
       "          <path fill=\"none\" d=\"M-59.8,0 L59.8,0 \" class=\"primitive\"/>\n",
       "        </g>\n",
       "        <g transform=\"translate(76.62,-46.28)\" id=\"img-2f6089ae-111\" visibility=\"hidden\" gadfly:scale=\"10.0\">\n",
       "          <path fill=\"none\" d=\"M-59.8,0 L59.8,0 \" class=\"primitive\"/>\n",
       "        </g>\n",
       "        <g transform=\"translate(76.62,184.61)\" id=\"img-2f6089ae-112\" visibility=\"hidden\" gadfly:scale=\"0.5\">\n",
       "          <path fill=\"none\" d=\"M-59.8,0 L59.8,0 \" class=\"primitive\"/>\n",
       "        </g>\n",
       "        <g transform=\"translate(76.62,95.8)\" id=\"img-2f6089ae-113\" visibility=\"hidden\" gadfly:scale=\"0.5\">\n",
       "          <path fill=\"none\" d=\"M-59.8,0 L59.8,0 \" class=\"primitive\"/>\n",
       "        </g>\n",
       "        <g transform=\"translate(76.62,7)\" id=\"img-2f6089ae-114\" visibility=\"hidden\" gadfly:scale=\"0.5\">\n",
       "          <path fill=\"none\" d=\"M-59.8,0 L59.8,0 \" class=\"primitive\"/>\n",
       "        </g>\n",
       "        <g transform=\"translate(76.62,-81.8)\" id=\"img-2f6089ae-115\" visibility=\"hidden\" gadfly:scale=\"0.5\">\n",
       "          <path fill=\"none\" d=\"M-59.8,0 L59.8,0 \" class=\"primitive\"/>\n",
       "        </g>\n",
       "        <g transform=\"translate(76.62,113.56)\" id=\"img-2f6089ae-116\" visibility=\"hidden\" gadfly:scale=\"5.0\">\n",
       "          <path fill=\"none\" d=\"M-59.8,0 L59.8,0 \" class=\"primitive\"/>\n",
       "        </g>\n",
       "        <g transform=\"translate(76.62,110.01)\" id=\"img-2f6089ae-117\" visibility=\"hidden\" gadfly:scale=\"5.0\">\n",
       "          <path fill=\"none\" d=\"M-59.8,0 L59.8,0 \" class=\"primitive\"/>\n",
       "        </g>\n",
       "        <g transform=\"translate(76.62,106.46)\" id=\"img-2f6089ae-118\" visibility=\"hidden\" gadfly:scale=\"5.0\">\n",
       "          <path fill=\"none\" d=\"M-59.8,0 L59.8,0 \" class=\"primitive\"/>\n",
       "        </g>\n",
       "        <g transform=\"translate(76.62,102.91)\" id=\"img-2f6089ae-119\" visibility=\"hidden\" gadfly:scale=\"5.0\">\n",
       "          <path fill=\"none\" d=\"M-59.8,0 L59.8,0 \" class=\"primitive\"/>\n",
       "        </g>\n",
       "        <g transform=\"translate(76.62,99.35)\" id=\"img-2f6089ae-120\" visibility=\"hidden\" gadfly:scale=\"5.0\">\n",
       "          <path fill=\"none\" d=\"M-59.8,0 L59.8,0 \" class=\"primitive\"/>\n",
       "        </g>\n",
       "        <g transform=\"translate(76.62,95.8)\" id=\"img-2f6089ae-121\" visibility=\"hidden\" gadfly:scale=\"5.0\">\n",
       "          <path fill=\"none\" d=\"M-59.8,0 L59.8,0 \" class=\"primitive\"/>\n",
       "        </g>\n",
       "        <g transform=\"translate(76.62,92.25)\" id=\"img-2f6089ae-122\" visibility=\"hidden\" gadfly:scale=\"5.0\">\n",
       "          <path fill=\"none\" d=\"M-59.8,0 L59.8,0 \" class=\"primitive\"/>\n",
       "        </g>\n",
       "        <g transform=\"translate(76.62,88.7)\" id=\"img-2f6089ae-123\" visibility=\"hidden\" gadfly:scale=\"5.0\">\n",
       "          <path fill=\"none\" d=\"M-59.8,0 L59.8,0 \" class=\"primitive\"/>\n",
       "        </g>\n",
       "        <g transform=\"translate(76.62,85.15)\" id=\"img-2f6089ae-124\" visibility=\"hidden\" gadfly:scale=\"5.0\">\n",
       "          <path fill=\"none\" d=\"M-59.8,0 L59.8,0 \" class=\"primitive\"/>\n",
       "        </g>\n",
       "        <g transform=\"translate(76.62,81.59)\" id=\"img-2f6089ae-125\" visibility=\"hidden\" gadfly:scale=\"5.0\">\n",
       "          <path fill=\"none\" d=\"M-59.8,0 L59.8,0 \" class=\"primitive\"/>\n",
       "        </g>\n",
       "        <g transform=\"translate(76.62,78.04)\" id=\"img-2f6089ae-126\" visibility=\"hidden\" gadfly:scale=\"5.0\">\n",
       "          <path fill=\"none\" d=\"M-59.8,0 L59.8,0 \" class=\"primitive\"/>\n",
       "        </g>\n",
       "        <g transform=\"translate(76.62,74.49)\" id=\"img-2f6089ae-127\" visibility=\"hidden\" gadfly:scale=\"5.0\">\n",
       "          <path fill=\"none\" d=\"M-59.8,0 L59.8,0 \" class=\"primitive\"/>\n",
       "        </g>\n",
       "        <g transform=\"translate(76.62,70.94)\" id=\"img-2f6089ae-128\" visibility=\"hidden\" gadfly:scale=\"5.0\">\n",
       "          <path fill=\"none\" d=\"M-59.8,0 L59.8,0 \" class=\"primitive\"/>\n",
       "        </g>\n",
       "        <g transform=\"translate(76.62,67.39)\" id=\"img-2f6089ae-129\" visibility=\"hidden\" gadfly:scale=\"5.0\">\n",
       "          <path fill=\"none\" d=\"M-59.8,0 L59.8,0 \" class=\"primitive\"/>\n",
       "        </g>\n",
       "        <g transform=\"translate(76.62,63.83)\" id=\"img-2f6089ae-130\" visibility=\"hidden\" gadfly:scale=\"5.0\">\n",
       "          <path fill=\"none\" d=\"M-59.8,0 L59.8,0 \" class=\"primitive\"/>\n",
       "        </g>\n",
       "        <g transform=\"translate(76.62,60.28)\" id=\"img-2f6089ae-131\" visibility=\"hidden\" gadfly:scale=\"5.0\">\n",
       "          <path fill=\"none\" d=\"M-59.8,0 L59.8,0 \" class=\"primitive\"/>\n",
       "        </g>\n",
       "        <g transform=\"translate(76.62,56.73)\" id=\"img-2f6089ae-132\" visibility=\"hidden\" gadfly:scale=\"5.0\">\n",
       "          <path fill=\"none\" d=\"M-59.8,0 L59.8,0 \" class=\"primitive\"/>\n",
       "        </g>\n",
       "        <g transform=\"translate(76.62,53.18)\" id=\"img-2f6089ae-133\" visibility=\"hidden\" gadfly:scale=\"5.0\">\n",
       "          <path fill=\"none\" d=\"M-59.8,0 L59.8,0 \" class=\"primitive\"/>\n",
       "        </g>\n",
       "        <g transform=\"translate(76.62,49.63)\" id=\"img-2f6089ae-134\" visibility=\"hidden\" gadfly:scale=\"5.0\">\n",
       "          <path fill=\"none\" d=\"M-59.8,0 L59.8,0 \" class=\"primitive\"/>\n",
       "        </g>\n",
       "        <g transform=\"translate(76.62,46.07)\" id=\"img-2f6089ae-135\" visibility=\"hidden\" gadfly:scale=\"5.0\">\n",
       "          <path fill=\"none\" d=\"M-59.8,0 L59.8,0 \" class=\"primitive\"/>\n",
       "        </g>\n",
       "        <g transform=\"translate(76.62,42.52)\" id=\"img-2f6089ae-136\" visibility=\"hidden\" gadfly:scale=\"5.0\">\n",
       "          <path fill=\"none\" d=\"M-59.8,0 L59.8,0 \" class=\"primitive\"/>\n",
       "        </g>\n",
       "        <g transform=\"translate(76.62,38.97)\" id=\"img-2f6089ae-137\" visibility=\"hidden\" gadfly:scale=\"5.0\">\n",
       "          <path fill=\"none\" d=\"M-59.8,0 L59.8,0 \" class=\"primitive\"/>\n",
       "        </g>\n",
       "        <g transform=\"translate(76.62,35.42)\" id=\"img-2f6089ae-138\" visibility=\"hidden\" gadfly:scale=\"5.0\">\n",
       "          <path fill=\"none\" d=\"M-59.8,0 L59.8,0 \" class=\"primitive\"/>\n",
       "        </g>\n",
       "        <g transform=\"translate(76.62,31.86)\" id=\"img-2f6089ae-139\" visibility=\"hidden\" gadfly:scale=\"5.0\">\n",
       "          <path fill=\"none\" d=\"M-59.8,0 L59.8,0 \" class=\"primitive\"/>\n",
       "        </g>\n",
       "        <g transform=\"translate(76.62,28.31)\" id=\"img-2f6089ae-140\" visibility=\"hidden\" gadfly:scale=\"5.0\">\n",
       "          <path fill=\"none\" d=\"M-59.8,0 L59.8,0 \" class=\"primitive\"/>\n",
       "        </g>\n",
       "        <g transform=\"translate(76.62,24.76)\" id=\"img-2f6089ae-141\" visibility=\"hidden\" gadfly:scale=\"5.0\">\n",
       "          <path fill=\"none\" d=\"M-59.8,0 L59.8,0 \" class=\"primitive\"/>\n",
       "        </g>\n",
       "        <g transform=\"translate(76.62,21.21)\" id=\"img-2f6089ae-142\" visibility=\"hidden\" gadfly:scale=\"5.0\">\n",
       "          <path fill=\"none\" d=\"M-59.8,0 L59.8,0 \" class=\"primitive\"/>\n",
       "        </g>\n",
       "        <g transform=\"translate(76.62,17.66)\" id=\"img-2f6089ae-143\" visibility=\"hidden\" gadfly:scale=\"5.0\">\n",
       "          <path fill=\"none\" d=\"M-59.8,0 L59.8,0 \" class=\"primitive\"/>\n",
       "        </g>\n",
       "        <g transform=\"translate(76.62,14.1)\" id=\"img-2f6089ae-144\" visibility=\"hidden\" gadfly:scale=\"5.0\">\n",
       "          <path fill=\"none\" d=\"M-59.8,0 L59.8,0 \" class=\"primitive\"/>\n",
       "        </g>\n",
       "        <g transform=\"translate(76.62,10.55)\" id=\"img-2f6089ae-145\" visibility=\"hidden\" gadfly:scale=\"5.0\">\n",
       "          <path fill=\"none\" d=\"M-59.8,0 L59.8,0 \" class=\"primitive\"/>\n",
       "        </g>\n",
       "        <g transform=\"translate(76.62,7)\" id=\"img-2f6089ae-146\" visibility=\"hidden\" gadfly:scale=\"5.0\">\n",
       "          <path fill=\"none\" d=\"M-59.8,0 L59.8,0 \" class=\"primitive\"/>\n",
       "        </g>\n",
       "        <g transform=\"translate(76.62,3.45)\" id=\"img-2f6089ae-147\" visibility=\"hidden\" gadfly:scale=\"5.0\">\n",
       "          <path fill=\"none\" d=\"M-59.8,0 L59.8,0 \" class=\"primitive\"/>\n",
       "        </g>\n",
       "        <g transform=\"translate(76.62,-0.1)\" id=\"img-2f6089ae-148\" visibility=\"hidden\" gadfly:scale=\"5.0\">\n",
       "          <path fill=\"none\" d=\"M-59.8,0 L59.8,0 \" class=\"primitive\"/>\n",
       "        </g>\n",
       "        <g transform=\"translate(76.62,-3.66)\" id=\"img-2f6089ae-149\" visibility=\"hidden\" gadfly:scale=\"5.0\">\n",
       "          <path fill=\"none\" d=\"M-59.8,0 L59.8,0 \" class=\"primitive\"/>\n",
       "        </g>\n",
       "        <g transform=\"translate(76.62,-7.21)\" id=\"img-2f6089ae-150\" visibility=\"hidden\" gadfly:scale=\"5.0\">\n",
       "          <path fill=\"none\" d=\"M-59.8,0 L59.8,0 \" class=\"primitive\"/>\n",
       "        </g>\n",
       "        <g transform=\"translate(76.62,-10.76)\" id=\"img-2f6089ae-151\" visibility=\"hidden\" gadfly:scale=\"5.0\">\n",
       "          <path fill=\"none\" d=\"M-59.8,0 L59.8,0 \" class=\"primitive\"/>\n",
       "        </g>\n",
       "        <g transform=\"translate(76.62,-14.31)\" id=\"img-2f6089ae-152\" visibility=\"hidden\" gadfly:scale=\"5.0\">\n",
       "          <path fill=\"none\" d=\"M-59.8,0 L59.8,0 \" class=\"primitive\"/>\n",
       "        </g>\n",
       "        <g transform=\"translate(76.62,-17.86)\" id=\"img-2f6089ae-153\" visibility=\"hidden\" gadfly:scale=\"5.0\">\n",
       "          <path fill=\"none\" d=\"M-59.8,0 L59.8,0 \" class=\"primitive\"/>\n",
       "        </g>\n",
       "        <g transform=\"translate(76.62,-21.42)\" id=\"img-2f6089ae-154\" visibility=\"hidden\" gadfly:scale=\"5.0\">\n",
       "          <path fill=\"none\" d=\"M-59.8,0 L59.8,0 \" class=\"primitive\"/>\n",
       "        </g>\n",
       "        <g transform=\"translate(76.62,-24.97)\" id=\"img-2f6089ae-155\" visibility=\"hidden\" gadfly:scale=\"5.0\">\n",
       "          <path fill=\"none\" d=\"M-59.8,0 L59.8,0 \" class=\"primitive\"/>\n",
       "        </g>\n",
       "        <g transform=\"translate(76.62,-28.52)\" id=\"img-2f6089ae-156\" visibility=\"hidden\" gadfly:scale=\"5.0\">\n",
       "          <path fill=\"none\" d=\"M-59.8,0 L59.8,0 \" class=\"primitive\"/>\n",
       "        </g>\n",
       "        <g transform=\"translate(76.62,-32.07)\" id=\"img-2f6089ae-157\" visibility=\"hidden\" gadfly:scale=\"5.0\">\n",
       "          <path fill=\"none\" d=\"M-59.8,0 L59.8,0 \" class=\"primitive\"/>\n",
       "        </g>\n",
       "        <g transform=\"translate(76.62,-35.63)\" id=\"img-2f6089ae-158\" visibility=\"hidden\" gadfly:scale=\"5.0\">\n",
       "          <path fill=\"none\" d=\"M-59.8,0 L59.8,0 \" class=\"primitive\"/>\n",
       "        </g>\n",
       "        <g transform=\"translate(76.62,-39.18)\" id=\"img-2f6089ae-159\" visibility=\"hidden\" gadfly:scale=\"5.0\">\n",
       "          <path fill=\"none\" d=\"M-59.8,0 L59.8,0 \" class=\"primitive\"/>\n",
       "        </g>\n",
       "        <g transform=\"translate(76.62,-42.73)\" id=\"img-2f6089ae-160\" visibility=\"hidden\" gadfly:scale=\"5.0\">\n",
       "          <path fill=\"none\" d=\"M-59.8,0 L59.8,0 \" class=\"primitive\"/>\n",
       "        </g>\n",
       "        <g transform=\"translate(76.62,-46.28)\" id=\"img-2f6089ae-161\" visibility=\"hidden\" gadfly:scale=\"5.0\">\n",
       "          <path fill=\"none\" d=\"M-59.8,0 L59.8,0 \" class=\"primitive\"/>\n",
       "        </g>\n",
       "      </g>\n",
       "      <g class=\"guide xgridlines yfixed\" stroke-dasharray=\"0.5,0.5\" stroke-width=\"0.2\" stroke=\"#D0D0E0\" id=\"img-2f6089ae-162\">\n",
       "        <g transform=\"translate(22.26,33.64)\" id=\"img-2f6089ae-163\" visibility=\"visible\" gadfly:scale=\"1.0\">\n",
       "          <path fill=\"none\" d=\"M0,-28.64 L0,28.64 \" class=\"primitive\"/>\n",
       "        </g>\n",
       "        <g transform=\"translate(27.7,33.64)\" id=\"img-2f6089ae-164\" visibility=\"visible\" gadfly:scale=\"1.0\">\n",
       "          <path fill=\"none\" d=\"M0,-28.64 L0,28.64 \" class=\"primitive\"/>\n",
       "        </g>\n",
       "        <g transform=\"translate(33.13,33.64)\" id=\"img-2f6089ae-165\" visibility=\"visible\" gadfly:scale=\"1.0\">\n",
       "          <path fill=\"none\" d=\"M0,-28.64 L0,28.64 \" class=\"primitive\"/>\n",
       "        </g>\n",
       "        <g transform=\"translate(38.57,33.64)\" id=\"img-2f6089ae-166\" visibility=\"visible\" gadfly:scale=\"1.0\">\n",
       "          <path fill=\"none\" d=\"M0,-28.64 L0,28.64 \" class=\"primitive\"/>\n",
       "        </g>\n",
       "        <g transform=\"translate(44.01,33.64)\" id=\"img-2f6089ae-167\" visibility=\"visible\" gadfly:scale=\"1.0\">\n",
       "          <path fill=\"none\" d=\"M0,-28.64 L0,28.64 \" class=\"primitive\"/>\n",
       "        </g>\n",
       "        <g transform=\"translate(49.44,33.64)\" id=\"img-2f6089ae-168\" visibility=\"visible\" gadfly:scale=\"1.0\">\n",
       "          <path fill=\"none\" d=\"M0,-28.64 L0,28.64 \" class=\"primitive\"/>\n",
       "        </g>\n",
       "        <g transform=\"translate(54.88,33.64)\" id=\"img-2f6089ae-169\" visibility=\"visible\" gadfly:scale=\"1.0\">\n",
       "          <path fill=\"none\" d=\"M0,-28.64 L0,28.64 \" class=\"primitive\"/>\n",
       "        </g>\n",
       "        <g transform=\"translate(60.32,33.64)\" id=\"img-2f6089ae-170\" visibility=\"visible\" gadfly:scale=\"1.0\">\n",
       "          <path fill=\"none\" d=\"M0,-28.64 L0,28.64 \" class=\"primitive\"/>\n",
       "        </g>\n",
       "        <g transform=\"translate(65.75,33.64)\" id=\"img-2f6089ae-171\" visibility=\"visible\" gadfly:scale=\"1.0\">\n",
       "          <path fill=\"none\" d=\"M0,-28.64 L0,28.64 \" class=\"primitive\"/>\n",
       "        </g>\n",
       "        <g transform=\"translate(71.19,33.64)\" id=\"img-2f6089ae-172\" visibility=\"visible\" gadfly:scale=\"1.0\">\n",
       "          <path fill=\"none\" d=\"M0,-28.64 L0,28.64 \" class=\"primitive\"/>\n",
       "        </g>\n",
       "        <g transform=\"translate(76.62,33.64)\" id=\"img-2f6089ae-173\" visibility=\"visible\" gadfly:scale=\"1.0\">\n",
       "          <path fill=\"none\" d=\"M0,-28.64 L0,28.64 \" class=\"primitive\"/>\n",
       "        </g>\n",
       "        <g transform=\"translate(82.06,33.64)\" id=\"img-2f6089ae-174\" visibility=\"visible\" gadfly:scale=\"1.0\">\n",
       "          <path fill=\"none\" d=\"M0,-28.64 L0,28.64 \" class=\"primitive\"/>\n",
       "        </g>\n",
       "        <g transform=\"translate(87.5,33.64)\" id=\"img-2f6089ae-175\" visibility=\"visible\" gadfly:scale=\"1.0\">\n",
       "          <path fill=\"none\" d=\"M0,-28.64 L0,28.64 \" class=\"primitive\"/>\n",
       "        </g>\n",
       "        <g transform=\"translate(92.93,33.64)\" id=\"img-2f6089ae-176\" visibility=\"visible\" gadfly:scale=\"1.0\">\n",
       "          <path fill=\"none\" d=\"M0,-28.64 L0,28.64 \" class=\"primitive\"/>\n",
       "        </g>\n",
       "        <g transform=\"translate(98.37,33.64)\" id=\"img-2f6089ae-177\" visibility=\"visible\" gadfly:scale=\"1.0\">\n",
       "          <path fill=\"none\" d=\"M0,-28.64 L0,28.64 \" class=\"primitive\"/>\n",
       "        </g>\n",
       "        <g transform=\"translate(103.8,33.64)\" id=\"img-2f6089ae-178\" visibility=\"visible\" gadfly:scale=\"1.0\">\n",
       "          <path fill=\"none\" d=\"M0,-28.64 L0,28.64 \" class=\"primitive\"/>\n",
       "        </g>\n",
       "        <g transform=\"translate(109.24,33.64)\" id=\"img-2f6089ae-179\" visibility=\"visible\" gadfly:scale=\"1.0\">\n",
       "          <path fill=\"none\" d=\"M0,-28.64 L0,28.64 \" class=\"primitive\"/>\n",
       "        </g>\n",
       "        <g transform=\"translate(114.68,33.64)\" id=\"img-2f6089ae-180\" visibility=\"visible\" gadfly:scale=\"1.0\">\n",
       "          <path fill=\"none\" d=\"M0,-28.64 L0,28.64 \" class=\"primitive\"/>\n",
       "        </g>\n",
       "        <g transform=\"translate(120.11,33.64)\" id=\"img-2f6089ae-181\" visibility=\"visible\" gadfly:scale=\"1.0\">\n",
       "          <path fill=\"none\" d=\"M0,-28.64 L0,28.64 \" class=\"primitive\"/>\n",
       "        </g>\n",
       "        <g transform=\"translate(125.55,33.64)\" id=\"img-2f6089ae-182\" visibility=\"visible\" gadfly:scale=\"1.0\">\n",
       "          <path fill=\"none\" d=\"M0,-28.64 L0,28.64 \" class=\"primitive\"/>\n",
       "        </g>\n",
       "        <g transform=\"translate(130.99,33.64)\" id=\"img-2f6089ae-183\" visibility=\"visible\" gadfly:scale=\"1.0\">\n",
       "          <path fill=\"none\" d=\"M0,-28.64 L0,28.64 \" class=\"primitive\"/>\n",
       "        </g>\n",
       "      </g>\n",
       "      <g class=\"plotpanel\" id=\"img-2f6089ae-184\">\n",
       "        <metadata>\n",
       "          <boundingbox value=\"16.82583333333332mm 5.0mm 119.59552290397619mm 57.281666666666666mm\"/>\n",
       "          <unitbox value=\"0.5 1.011260909005599 22.0 -0.3225218180111983\"/>\n",
       "        </metadata>\n",
       "        <g class=\"geometry\" id=\"img-2f6089ae-185\">\n",
       "          <g stroke-width=\"0.3\" id=\"img-2f6089ae-186\">\n",
       "            <g class=\"color_RGBA{Float32}(0.0f0,0.74736935f0,1.0f0,1.0f0)\" fill-opacity=\"1\" stroke=\"#FFFFFF\" fill=\"#00BFFF\" id=\"img-2f6089ae-187\">\n",
       "              <g class=\"marker\" id=\"img-2f6089ae-188\">\n",
       "                <g transform=\"translate(133.7,52.44)\" id=\"img-2f6089ae-189\">\n",
       "                  <circle cx=\"0\" cy=\"0\" r=\"0.9\" class=\"primitive\"/>\n",
       "                </g>\n",
       "              </g>\n",
       "            </g>\n",
       "            <g class=\"color_RGBA{Float32}(0.0f0,0.74736935f0,1.0f0,1.0f0)\" fill-opacity=\"1\" stroke=\"#FFFFFF\" fill=\"#00BFFF\" id=\"img-2f6089ae-190\">\n",
       "              <g class=\"marker\" id=\"img-2f6089ae-191\">\n",
       "                <g transform=\"translate(128.27,51.49)\" id=\"img-2f6089ae-192\">\n",
       "                  <circle cx=\"0\" cy=\"0\" r=\"0.9\" class=\"primitive\"/>\n",
       "                </g>\n",
       "              </g>\n",
       "            </g>\n",
       "            <g class=\"color_RGBA{Float32}(0.0f0,0.74736935f0,1.0f0,1.0f0)\" fill-opacity=\"1\" stroke=\"#FFFFFF\" fill=\"#00BFFF\" id=\"img-2f6089ae-193\">\n",
       "              <g class=\"marker\" id=\"img-2f6089ae-194\">\n",
       "                <g transform=\"translate(122.83,50.29)\" id=\"img-2f6089ae-195\">\n",
       "                  <circle cx=\"0\" cy=\"0\" r=\"0.9\" class=\"primitive\"/>\n",
       "                </g>\n",
       "              </g>\n",
       "            </g>\n",
       "            <g class=\"color_RGBA{Float32}(0.0f0,0.74736935f0,1.0f0,1.0f0)\" fill-opacity=\"1\" stroke=\"#FFFFFF\" fill=\"#00BFFF\" id=\"img-2f6089ae-196\">\n",
       "              <g class=\"marker\" id=\"img-2f6089ae-197\">\n",
       "                <g transform=\"translate(117.39,49.51)\" id=\"img-2f6089ae-198\">\n",
       "                  <circle cx=\"0\" cy=\"0\" r=\"0.9\" class=\"primitive\"/>\n",
       "                </g>\n",
       "              </g>\n",
       "            </g>\n",
       "            <g class=\"color_RGBA{Float32}(0.0f0,0.74736935f0,1.0f0,1.0f0)\" fill-opacity=\"1\" stroke=\"#FFFFFF\" fill=\"#00BFFF\" id=\"img-2f6089ae-199\">\n",
       "              <g class=\"marker\" id=\"img-2f6089ae-200\">\n",
       "                <g transform=\"translate(111.96,49.19)\" id=\"img-2f6089ae-201\">\n",
       "                  <circle cx=\"0\" cy=\"0\" r=\"0.9\" class=\"primitive\"/>\n",
       "                </g>\n",
       "              </g>\n",
       "            </g>\n",
       "            <g class=\"color_RGBA{Float32}(0.0f0,0.74736935f0,1.0f0,1.0f0)\" fill-opacity=\"1\" stroke=\"#FFFFFF\" fill=\"#00BFFF\" id=\"img-2f6089ae-202\">\n",
       "              <g class=\"marker\" id=\"img-2f6089ae-203\">\n",
       "                <g transform=\"translate(106.52,48.5)\" id=\"img-2f6089ae-204\">\n",
       "                  <circle cx=\"0\" cy=\"0\" r=\"0.9\" class=\"primitive\"/>\n",
       "                </g>\n",
       "              </g>\n",
       "            </g>\n",
       "            <g class=\"color_RGBA{Float32}(0.0f0,0.74736935f0,1.0f0,1.0f0)\" fill-opacity=\"1\" stroke=\"#FFFFFF\" fill=\"#00BFFF\" id=\"img-2f6089ae-205\">\n",
       "              <g class=\"marker\" id=\"img-2f6089ae-206\">\n",
       "                <g transform=\"translate(101.09,48.28)\" id=\"img-2f6089ae-207\">\n",
       "                  <circle cx=\"0\" cy=\"0\" r=\"0.9\" class=\"primitive\"/>\n",
       "                </g>\n",
       "              </g>\n",
       "            </g>\n",
       "            <g class=\"color_RGBA{Float32}(0.0f0,0.74736935f0,1.0f0,1.0f0)\" fill-opacity=\"1\" stroke=\"#FFFFFF\" fill=\"#00BFFF\" id=\"img-2f6089ae-208\">\n",
       "              <g class=\"marker\" id=\"img-2f6089ae-209\">\n",
       "                <g transform=\"translate(95.65,47.21)\" id=\"img-2f6089ae-210\">\n",
       "                  <circle cx=\"0\" cy=\"0\" r=\"0.9\" class=\"primitive\"/>\n",
       "                </g>\n",
       "              </g>\n",
       "            </g>\n",
       "            <g class=\"color_RGBA{Float32}(0.0f0,0.74736935f0,1.0f0,1.0f0)\" fill-opacity=\"1\" stroke=\"#FFFFFF\" fill=\"#00BFFF\" id=\"img-2f6089ae-211\">\n",
       "              <g class=\"marker\" id=\"img-2f6089ae-212\">\n",
       "                <g transform=\"translate(90.21,45.58)\" id=\"img-2f6089ae-213\">\n",
       "                  <circle cx=\"0\" cy=\"0\" r=\"0.9\" class=\"primitive\"/>\n",
       "                </g>\n",
       "              </g>\n",
       "            </g>\n",
       "            <g class=\"color_RGBA{Float32}(0.0f0,0.74736935f0,1.0f0,1.0f0)\" fill-opacity=\"1\" stroke=\"#FFFFFF\" fill=\"#00BFFF\" id=\"img-2f6089ae-214\">\n",
       "              <g class=\"marker\" id=\"img-2f6089ae-215\">\n",
       "                <g transform=\"translate(84.78,44.27)\" id=\"img-2f6089ae-216\">\n",
       "                  <circle cx=\"0\" cy=\"0\" r=\"0.9\" class=\"primitive\"/>\n",
       "                </g>\n",
       "              </g>\n",
       "            </g>\n",
       "            <g class=\"color_RGBA{Float32}(0.0f0,0.74736935f0,1.0f0,1.0f0)\" fill-opacity=\"1\" stroke=\"#FFFFFF\" fill=\"#00BFFF\" id=\"img-2f6089ae-217\">\n",
       "              <g class=\"marker\" id=\"img-2f6089ae-218\">\n",
       "                <g transform=\"translate(79.34,43.19)\" id=\"img-2f6089ae-219\">\n",
       "                  <circle cx=\"0\" cy=\"0\" r=\"0.9\" class=\"primitive\"/>\n",
       "                </g>\n",
       "              </g>\n",
       "            </g>\n",
       "            <g class=\"color_RGBA{Float32}(0.0f0,0.74736935f0,1.0f0,1.0f0)\" fill-opacity=\"1\" stroke=\"#FFFFFF\" fill=\"#00BFFF\" id=\"img-2f6089ae-220\">\n",
       "              <g class=\"marker\" id=\"img-2f6089ae-221\">\n",
       "                <g transform=\"translate(73.91,41.49)\" id=\"img-2f6089ae-222\">\n",
       "                  <circle cx=\"0\" cy=\"0\" r=\"0.9\" class=\"primitive\"/>\n",
       "                </g>\n",
       "              </g>\n",
       "            </g>\n",
       "            <g class=\"color_RGBA{Float32}(0.0f0,0.74736935f0,1.0f0,1.0f0)\" fill-opacity=\"1\" stroke=\"#FFFFFF\" fill=\"#00BFFF\" id=\"img-2f6089ae-223\">\n",
       "              <g class=\"marker\" id=\"img-2f6089ae-224\">\n",
       "                <g transform=\"translate(68.47,41.34)\" id=\"img-2f6089ae-225\">\n",
       "                  <circle cx=\"0\" cy=\"0\" r=\"0.9\" class=\"primitive\"/>\n",
       "                </g>\n",
       "              </g>\n",
       "            </g>\n",
       "            <g class=\"color_RGBA{Float32}(0.0f0,0.74736935f0,1.0f0,1.0f0)\" fill-opacity=\"1\" stroke=\"#FFFFFF\" fill=\"#00BFFF\" id=\"img-2f6089ae-226\">\n",
       "              <g class=\"marker\" id=\"img-2f6089ae-227\">\n",
       "                <g transform=\"translate(63.03,39.39)\" id=\"img-2f6089ae-228\">\n",
       "                  <circle cx=\"0\" cy=\"0\" r=\"0.9\" class=\"primitive\"/>\n",
       "                </g>\n",
       "              </g>\n",
       "            </g>\n",
       "            <g class=\"color_RGBA{Float32}(0.0f0,0.74736935f0,1.0f0,1.0f0)\" fill-opacity=\"1\" stroke=\"#FFFFFF\" fill=\"#00BFFF\" id=\"img-2f6089ae-229\">\n",
       "              <g class=\"marker\" id=\"img-2f6089ae-230\">\n",
       "                <g transform=\"translate(57.6,39.12)\" id=\"img-2f6089ae-231\">\n",
       "                  <circle cx=\"0\" cy=\"0\" r=\"0.9\" class=\"primitive\"/>\n",
       "                </g>\n",
       "              </g>\n",
       "            </g>\n",
       "            <g class=\"color_RGBA{Float32}(0.0f0,0.74736935f0,1.0f0,1.0f0)\" fill-opacity=\"1\" stroke=\"#FFFFFF\" fill=\"#00BFFF\" id=\"img-2f6089ae-232\">\n",
       "              <g class=\"marker\" id=\"img-2f6089ae-233\">\n",
       "                <g transform=\"translate(52.16,38.65)\" id=\"img-2f6089ae-234\">\n",
       "                  <circle cx=\"0\" cy=\"0\" r=\"0.9\" class=\"primitive\"/>\n",
       "                </g>\n",
       "              </g>\n",
       "            </g>\n",
       "            <g class=\"color_RGBA{Float32}(0.0f0,0.74736935f0,1.0f0,1.0f0)\" fill-opacity=\"1\" stroke=\"#FFFFFF\" fill=\"#00BFFF\" id=\"img-2f6089ae-235\">\n",
       "              <g class=\"marker\" id=\"img-2f6089ae-236\">\n",
       "                <g transform=\"translate(46.72,38.55)\" id=\"img-2f6089ae-237\">\n",
       "                  <circle cx=\"0\" cy=\"0\" r=\"0.9\" class=\"primitive\"/>\n",
       "                </g>\n",
       "              </g>\n",
       "            </g>\n",
       "            <g class=\"color_RGBA{Float32}(0.0f0,0.74736935f0,1.0f0,1.0f0)\" fill-opacity=\"1\" stroke=\"#FFFFFF\" fill=\"#00BFFF\" id=\"img-2f6089ae-238\">\n",
       "              <g class=\"marker\" id=\"img-2f6089ae-239\">\n",
       "                <g transform=\"translate(41.29,38.2)\" id=\"img-2f6089ae-240\">\n",
       "                  <circle cx=\"0\" cy=\"0\" r=\"0.9\" class=\"primitive\"/>\n",
       "                </g>\n",
       "              </g>\n",
       "            </g>\n",
       "            <g class=\"color_RGBA{Float32}(0.0f0,0.74736935f0,1.0f0,1.0f0)\" fill-opacity=\"1\" stroke=\"#FFFFFF\" fill=\"#00BFFF\" id=\"img-2f6089ae-241\">\n",
       "              <g class=\"marker\" id=\"img-2f6089ae-242\">\n",
       "                <g transform=\"translate(35.85,35.09)\" id=\"img-2f6089ae-243\">\n",
       "                  <circle cx=\"0\" cy=\"0\" r=\"0.9\" class=\"primitive\"/>\n",
       "                </g>\n",
       "              </g>\n",
       "            </g>\n",
       "            <g class=\"color_RGBA{Float32}(0.0f0,0.74736935f0,1.0f0,1.0f0)\" fill-opacity=\"1\" stroke=\"#FFFFFF\" fill=\"#00BFFF\" id=\"img-2f6089ae-244\">\n",
       "              <g class=\"marker\" id=\"img-2f6089ae-245\">\n",
       "                <g transform=\"translate(30.42,32.07)\" id=\"img-2f6089ae-246\">\n",
       "                  <circle cx=\"0\" cy=\"0\" r=\"0.9\" class=\"primitive\"/>\n",
       "                </g>\n",
       "              </g>\n",
       "            </g>\n",
       "            <g class=\"color_RGBA{Float32}(0.0f0,0.74736935f0,1.0f0,1.0f0)\" fill-opacity=\"1\" stroke=\"#FFFFFF\" fill=\"#00BFFF\" id=\"img-2f6089ae-247\">\n",
       "              <g class=\"marker\" id=\"img-2f6089ae-248\">\n",
       "                <g transform=\"translate(24.98,25.75)\" id=\"img-2f6089ae-249\">\n",
       "                  <circle cx=\"0\" cy=\"0\" r=\"0.9\" class=\"primitive\"/>\n",
       "                </g>\n",
       "              </g>\n",
       "            </g>\n",
       "            <g class=\"color_RGBA{Float32}(0.0f0,0.74736935f0,1.0f0,1.0f0)\" fill-opacity=\"1\" stroke=\"#FFFFFF\" fill=\"#00BFFF\" id=\"img-2f6089ae-250\">\n",
       "              <g class=\"marker\" id=\"img-2f6089ae-251\">\n",
       "                <g transform=\"translate(19.54,7)\" id=\"img-2f6089ae-252\">\n",
       "                  <circle cx=\"0\" cy=\"0\" r=\"0.9\" class=\"primitive\"/>\n",
       "                </g>\n",
       "              </g>\n",
       "            </g>\n",
       "          </g>\n",
       "        </g>\n",
       "      </g>\n",
       "      <g fill-opacity=\"0\" class=\"guide crosshair\" id=\"img-2f6089ae-253\">\n",
       "        <g class=\"text_box\" fill=\"#000000\" id=\"img-2f6089ae-254\">\n",
       "          <g transform=\"translate(129.37,5.53)\" id=\"img-2f6089ae-255\">\n",
       "            <g class=\"primitive\">\n",
       "              <text text-anchor=\"end\" dy=\"0.6em\"></text>\n",
       "            </g>\n",
       "          </g>\n",
       "        </g>\n",
       "      </g>\n",
       "      <g fill-opacity=\"0\" class=\"guide helpscreen\" id=\"img-2f6089ae-256\">\n",
       "        <g class=\"text_box\" id=\"img-2f6089ae-257\">\n",
       "          <g fill=\"#000000\" id=\"img-2f6089ae-258\">\n",
       "            <g transform=\"translate(76.62,33.64)\" id=\"img-2f6089ae-259\">\n",
       "              <path d=\"M-27.48,-9.93 L27.48,-9.93 27.48,9.93 -27.48,9.93  z\" class=\"primitive\"/>\n",
       "            </g>\n",
       "          </g>\n",
       "          <g fill=\"#FFFF74\" font-size=\"3.88\" font-family=\"'PT Sans','Helvetica Neue','Helvetica',sans-serif\" id=\"img-2f6089ae-260\">\n",
       "            <g transform=\"translate(76.62,26.42)\" id=\"img-2f6089ae-261\">\n",
       "              <g class=\"primitive\">\n",
       "                <text text-anchor=\"middle\" dy=\"0.35em\">h,j,k,l,arrows,drag to pan</text>\n",
       "              </g>\n",
       "            </g>\n",
       "            <g transform=\"translate(76.62,30.03)\" id=\"img-2f6089ae-262\">\n",
       "              <g class=\"primitive\">\n",
       "                <text text-anchor=\"middle\" dy=\"0.35em\">i,o,+,-,scroll,shift-drag to zoom</text>\n",
       "              </g>\n",
       "            </g>\n",
       "            <g transform=\"translate(76.62,33.64)\" id=\"img-2f6089ae-263\">\n",
       "              <g class=\"primitive\">\n",
       "                <text text-anchor=\"middle\" dy=\"0.35em\">r,dbl-click to reset</text>\n",
       "              </g>\n",
       "            </g>\n",
       "            <g transform=\"translate(76.62,37.25)\" id=\"img-2f6089ae-264\">\n",
       "              <g class=\"primitive\">\n",
       "                <text text-anchor=\"middle\" dy=\"0.35em\">c for coordinates</text>\n",
       "              </g>\n",
       "            </g>\n",
       "            <g transform=\"translate(76.62,40.86)\" id=\"img-2f6089ae-265\">\n",
       "              <g class=\"primitive\">\n",
       "                <text text-anchor=\"middle\" dy=\"0.35em\">? for help</text>\n",
       "              </g>\n",
       "            </g>\n",
       "          </g>\n",
       "        </g>\n",
       "      </g>\n",
       "      <g fill-opacity=\"0\" class=\"guide questionmark\" id=\"img-2f6089ae-266\">\n",
       "        <g class=\"text_box\" fill=\"#000000\" id=\"img-2f6089ae-267\">\n",
       "          <g transform=\"translate(136.42,5.53)\" id=\"img-2f6089ae-268\">\n",
       "            <g class=\"primitive\">\n",
       "              <text text-anchor=\"end\" dy=\"0.6em\">?</text>\n",
       "            </g>\n",
       "          </g>\n",
       "        </g>\n",
       "      </g>\n",
       "    </g>\n",
       "  </g>\n",
       "  <g class=\"guide ylabels\" font-size=\"2.82\" font-family=\"'PT Sans Caption','Helvetica Neue','Helvetica',sans-serif\" fill=\"#6C606B\" id=\"img-2f6089ae-269\">\n",
       "    <g transform=\"translate(15.83,131.32)\" id=\"img-2f6089ae-270\" visibility=\"hidden\" gadfly:scale=\"1.0\">\n",
       "      <g class=\"primitive\">\n",
       "        <text text-anchor=\"end\" dy=\"0.35em\">0.3</text>\n",
       "      </g>\n",
       "    </g>\n",
       "    <g transform=\"translate(15.83,113.56)\" id=\"img-2f6089ae-271\" visibility=\"hidden\" gadfly:scale=\"1.0\">\n",
       "      <g class=\"primitive\">\n",
       "        <text text-anchor=\"end\" dy=\"0.35em\">0.4</text>\n",
       "      </g>\n",
       "    </g>\n",
       "    <g transform=\"translate(15.83,95.8)\" id=\"img-2f6089ae-272\" visibility=\"hidden\" gadfly:scale=\"1.0\">\n",
       "      <g class=\"primitive\">\n",
       "        <text text-anchor=\"end\" dy=\"0.35em\">0.5</text>\n",
       "      </g>\n",
       "    </g>\n",
       "    <g transform=\"translate(15.83,78.04)\" id=\"img-2f6089ae-273\" visibility=\"hidden\" gadfly:scale=\"1.0\">\n",
       "      <g class=\"primitive\">\n",
       "        <text text-anchor=\"end\" dy=\"0.35em\">0.6</text>\n",
       "      </g>\n",
       "    </g>\n",
       "    <g transform=\"translate(15.83,60.28)\" id=\"img-2f6089ae-274\" visibility=\"visible\" gadfly:scale=\"1.0\">\n",
       "      <g class=\"primitive\">\n",
       "        <text text-anchor=\"end\" dy=\"0.35em\">0.7</text>\n",
       "      </g>\n",
       "    </g>\n",
       "    <g transform=\"translate(15.83,42.52)\" id=\"img-2f6089ae-275\" visibility=\"visible\" gadfly:scale=\"1.0\">\n",
       "      <g class=\"primitive\">\n",
       "        <text text-anchor=\"end\" dy=\"0.35em\">0.8</text>\n",
       "      </g>\n",
       "    </g>\n",
       "    <g transform=\"translate(15.83,24.76)\" id=\"img-2f6089ae-276\" visibility=\"visible\" gadfly:scale=\"1.0\">\n",
       "      <g class=\"primitive\">\n",
       "        <text text-anchor=\"end\" dy=\"0.35em\">0.9</text>\n",
       "      </g>\n",
       "    </g>\n",
       "    <g transform=\"translate(15.83,7)\" id=\"img-2f6089ae-277\" visibility=\"visible\" gadfly:scale=\"1.0\">\n",
       "      <g class=\"primitive\">\n",
       "        <text text-anchor=\"end\" dy=\"0.35em\">1.0</text>\n",
       "      </g>\n",
       "    </g>\n",
       "    <g transform=\"translate(15.83,-10.76)\" id=\"img-2f6089ae-278\" visibility=\"hidden\" gadfly:scale=\"1.0\">\n",
       "      <g class=\"primitive\">\n",
       "        <text text-anchor=\"end\" dy=\"0.35em\">1.1</text>\n",
       "      </g>\n",
       "    </g>\n",
       "    <g transform=\"translate(15.83,-28.52)\" id=\"img-2f6089ae-279\" visibility=\"hidden\" gadfly:scale=\"1.0\">\n",
       "      <g class=\"primitive\">\n",
       "        <text text-anchor=\"end\" dy=\"0.35em\">1.2</text>\n",
       "      </g>\n",
       "    </g>\n",
       "    <g transform=\"translate(15.83,-46.28)\" id=\"img-2f6089ae-280\" visibility=\"hidden\" gadfly:scale=\"1.0\">\n",
       "      <g class=\"primitive\">\n",
       "        <text text-anchor=\"end\" dy=\"0.35em\">1.3</text>\n",
       "      </g>\n",
       "    </g>\n",
       "    <g transform=\"translate(15.83,-64.04)\" id=\"img-2f6089ae-281\" visibility=\"hidden\" gadfly:scale=\"1.0\">\n",
       "      <g class=\"primitive\">\n",
       "        <text text-anchor=\"end\" dy=\"0.35em\">1.4</text>\n",
       "      </g>\n",
       "    </g>\n",
       "    <g transform=\"translate(15.83,113.56)\" id=\"img-2f6089ae-282\" visibility=\"hidden\" gadfly:scale=\"10.0\">\n",
       "      <g class=\"primitive\">\n",
       "        <text text-anchor=\"end\" dy=\"0.35em\">0.40</text>\n",
       "      </g>\n",
       "    </g>\n",
       "    <g transform=\"translate(15.83,111.79)\" id=\"img-2f6089ae-283\" visibility=\"hidden\" gadfly:scale=\"10.0\">\n",
       "      <g class=\"primitive\">\n",
       "        <text text-anchor=\"end\" dy=\"0.35em\">0.41</text>\n",
       "      </g>\n",
       "    </g>\n",
       "    <g transform=\"translate(15.83,110.01)\" id=\"img-2f6089ae-284\" visibility=\"hidden\" gadfly:scale=\"10.0\">\n",
       "      <g class=\"primitive\">\n",
       "        <text text-anchor=\"end\" dy=\"0.35em\">0.42</text>\n",
       "      </g>\n",
       "    </g>\n",
       "    <g transform=\"translate(15.83,108.24)\" id=\"img-2f6089ae-285\" visibility=\"hidden\" gadfly:scale=\"10.0\">\n",
       "      <g class=\"primitive\">\n",
       "        <text text-anchor=\"end\" dy=\"0.35em\">0.43</text>\n",
       "      </g>\n",
       "    </g>\n",
       "    <g transform=\"translate(15.83,106.46)\" id=\"img-2f6089ae-286\" visibility=\"hidden\" gadfly:scale=\"10.0\">\n",
       "      <g class=\"primitive\">\n",
       "        <text text-anchor=\"end\" dy=\"0.35em\">0.44</text>\n",
       "      </g>\n",
       "    </g>\n",
       "    <g transform=\"translate(15.83,104.68)\" id=\"img-2f6089ae-287\" visibility=\"hidden\" gadfly:scale=\"10.0\">\n",
       "      <g class=\"primitive\">\n",
       "        <text text-anchor=\"end\" dy=\"0.35em\">0.45</text>\n",
       "      </g>\n",
       "    </g>\n",
       "    <g transform=\"translate(15.83,102.91)\" id=\"img-2f6089ae-288\" visibility=\"hidden\" gadfly:scale=\"10.0\">\n",
       "      <g class=\"primitive\">\n",
       "        <text text-anchor=\"end\" dy=\"0.35em\">0.46</text>\n",
       "      </g>\n",
       "    </g>\n",
       "    <g transform=\"translate(15.83,101.13)\" id=\"img-2f6089ae-289\" visibility=\"hidden\" gadfly:scale=\"10.0\">\n",
       "      <g class=\"primitive\">\n",
       "        <text text-anchor=\"end\" dy=\"0.35em\">0.47</text>\n",
       "      </g>\n",
       "    </g>\n",
       "    <g transform=\"translate(15.83,99.35)\" id=\"img-2f6089ae-290\" visibility=\"hidden\" gadfly:scale=\"10.0\">\n",
       "      <g class=\"primitive\">\n",
       "        <text text-anchor=\"end\" dy=\"0.35em\">0.48</text>\n",
       "      </g>\n",
       "    </g>\n",
       "    <g transform=\"translate(15.83,97.58)\" id=\"img-2f6089ae-291\" visibility=\"hidden\" gadfly:scale=\"10.0\">\n",
       "      <g class=\"primitive\">\n",
       "        <text text-anchor=\"end\" dy=\"0.35em\">0.49</text>\n",
       "      </g>\n",
       "    </g>\n",
       "    <g transform=\"translate(15.83,95.8)\" id=\"img-2f6089ae-292\" visibility=\"hidden\" gadfly:scale=\"10.0\">\n",
       "      <g class=\"primitive\">\n",
       "        <text text-anchor=\"end\" dy=\"0.35em\">0.50</text>\n",
       "      </g>\n",
       "    </g>\n",
       "    <g transform=\"translate(15.83,94.03)\" id=\"img-2f6089ae-293\" visibility=\"hidden\" gadfly:scale=\"10.0\">\n",
       "      <g class=\"primitive\">\n",
       "        <text text-anchor=\"end\" dy=\"0.35em\">0.51</text>\n",
       "      </g>\n",
       "    </g>\n",
       "    <g transform=\"translate(15.83,92.25)\" id=\"img-2f6089ae-294\" visibility=\"hidden\" gadfly:scale=\"10.0\">\n",
       "      <g class=\"primitive\">\n",
       "        <text text-anchor=\"end\" dy=\"0.35em\">0.52</text>\n",
       "      </g>\n",
       "    </g>\n",
       "    <g transform=\"translate(15.83,90.47)\" id=\"img-2f6089ae-295\" visibility=\"hidden\" gadfly:scale=\"10.0\">\n",
       "      <g class=\"primitive\">\n",
       "        <text text-anchor=\"end\" dy=\"0.35em\">0.53</text>\n",
       "      </g>\n",
       "    </g>\n",
       "    <g transform=\"translate(15.83,88.7)\" id=\"img-2f6089ae-296\" visibility=\"hidden\" gadfly:scale=\"10.0\">\n",
       "      <g class=\"primitive\">\n",
       "        <text text-anchor=\"end\" dy=\"0.35em\">0.54</text>\n",
       "      </g>\n",
       "    </g>\n",
       "    <g transform=\"translate(15.83,86.92)\" id=\"img-2f6089ae-297\" visibility=\"hidden\" gadfly:scale=\"10.0\">\n",
       "      <g class=\"primitive\">\n",
       "        <text text-anchor=\"end\" dy=\"0.35em\">0.55</text>\n",
       "      </g>\n",
       "    </g>\n",
       "    <g transform=\"translate(15.83,85.15)\" id=\"img-2f6089ae-298\" visibility=\"hidden\" gadfly:scale=\"10.0\">\n",
       "      <g class=\"primitive\">\n",
       "        <text text-anchor=\"end\" dy=\"0.35em\">0.56</text>\n",
       "      </g>\n",
       "    </g>\n",
       "    <g transform=\"translate(15.83,83.37)\" id=\"img-2f6089ae-299\" visibility=\"hidden\" gadfly:scale=\"10.0\">\n",
       "      <g class=\"primitive\">\n",
       "        <text text-anchor=\"end\" dy=\"0.35em\">0.57</text>\n",
       "      </g>\n",
       "    </g>\n",
       "    <g transform=\"translate(15.83,81.59)\" id=\"img-2f6089ae-300\" visibility=\"hidden\" gadfly:scale=\"10.0\">\n",
       "      <g class=\"primitive\">\n",
       "        <text text-anchor=\"end\" dy=\"0.35em\">0.58</text>\n",
       "      </g>\n",
       "    </g>\n",
       "    <g transform=\"translate(15.83,79.82)\" id=\"img-2f6089ae-301\" visibility=\"hidden\" gadfly:scale=\"10.0\">\n",
       "      <g class=\"primitive\">\n",
       "        <text text-anchor=\"end\" dy=\"0.35em\">0.59</text>\n",
       "      </g>\n",
       "    </g>\n",
       "    <g transform=\"translate(15.83,78.04)\" id=\"img-2f6089ae-302\" visibility=\"hidden\" gadfly:scale=\"10.0\">\n",
       "      <g class=\"primitive\">\n",
       "        <text text-anchor=\"end\" dy=\"0.35em\">0.60</text>\n",
       "      </g>\n",
       "    </g>\n",
       "    <g transform=\"translate(15.83,76.27)\" id=\"img-2f6089ae-303\" visibility=\"hidden\" gadfly:scale=\"10.0\">\n",
       "      <g class=\"primitive\">\n",
       "        <text text-anchor=\"end\" dy=\"0.35em\">0.61</text>\n",
       "      </g>\n",
       "    </g>\n",
       "    <g transform=\"translate(15.83,74.49)\" id=\"img-2f6089ae-304\" visibility=\"hidden\" gadfly:scale=\"10.0\">\n",
       "      <g class=\"primitive\">\n",
       "        <text text-anchor=\"end\" dy=\"0.35em\">0.62</text>\n",
       "      </g>\n",
       "    </g>\n",
       "    <g transform=\"translate(15.83,72.71)\" id=\"img-2f6089ae-305\" visibility=\"hidden\" gadfly:scale=\"10.0\">\n",
       "      <g class=\"primitive\">\n",
       "        <text text-anchor=\"end\" dy=\"0.35em\">0.63</text>\n",
       "      </g>\n",
       "    </g>\n",
       "    <g transform=\"translate(15.83,70.94)\" id=\"img-2f6089ae-306\" visibility=\"hidden\" gadfly:scale=\"10.0\">\n",
       "      <g class=\"primitive\">\n",
       "        <text text-anchor=\"end\" dy=\"0.35em\">0.64</text>\n",
       "      </g>\n",
       "    </g>\n",
       "    <g transform=\"translate(15.83,69.16)\" id=\"img-2f6089ae-307\" visibility=\"hidden\" gadfly:scale=\"10.0\">\n",
       "      <g class=\"primitive\">\n",
       "        <text text-anchor=\"end\" dy=\"0.35em\">0.65</text>\n",
       "      </g>\n",
       "    </g>\n",
       "    <g transform=\"translate(15.83,67.39)\" id=\"img-2f6089ae-308\" visibility=\"hidden\" gadfly:scale=\"10.0\">\n",
       "      <g class=\"primitive\">\n",
       "        <text text-anchor=\"end\" dy=\"0.35em\">0.66</text>\n",
       "      </g>\n",
       "    </g>\n",
       "    <g transform=\"translate(15.83,65.61)\" id=\"img-2f6089ae-309\" visibility=\"hidden\" gadfly:scale=\"10.0\">\n",
       "      <g class=\"primitive\">\n",
       "        <text text-anchor=\"end\" dy=\"0.35em\">0.67</text>\n",
       "      </g>\n",
       "    </g>\n",
       "    <g transform=\"translate(15.83,63.83)\" id=\"img-2f6089ae-310\" visibility=\"hidden\" gadfly:scale=\"10.0\">\n",
       "      <g class=\"primitive\">\n",
       "        <text text-anchor=\"end\" dy=\"0.35em\">0.68</text>\n",
       "      </g>\n",
       "    </g>\n",
       "    <g transform=\"translate(15.83,62.06)\" id=\"img-2f6089ae-311\" visibility=\"hidden\" gadfly:scale=\"10.0\">\n",
       "      <g class=\"primitive\">\n",
       "        <text text-anchor=\"end\" dy=\"0.35em\">0.69</text>\n",
       "      </g>\n",
       "    </g>\n",
       "    <g transform=\"translate(15.83,60.28)\" id=\"img-2f6089ae-312\" visibility=\"hidden\" gadfly:scale=\"10.0\">\n",
       "      <g class=\"primitive\">\n",
       "        <text text-anchor=\"end\" dy=\"0.35em\">0.70</text>\n",
       "      </g>\n",
       "    </g>\n",
       "    <g transform=\"translate(15.83,58.51)\" id=\"img-2f6089ae-313\" visibility=\"hidden\" gadfly:scale=\"10.0\">\n",
       "      <g class=\"primitive\">\n",
       "        <text text-anchor=\"end\" dy=\"0.35em\">0.71</text>\n",
       "      </g>\n",
       "    </g>\n",
       "    <g transform=\"translate(15.83,56.73)\" id=\"img-2f6089ae-314\" visibility=\"hidden\" gadfly:scale=\"10.0\">\n",
       "      <g class=\"primitive\">\n",
       "        <text text-anchor=\"end\" dy=\"0.35em\">0.72</text>\n",
       "      </g>\n",
       "    </g>\n",
       "    <g transform=\"translate(15.83,54.95)\" id=\"img-2f6089ae-315\" visibility=\"hidden\" gadfly:scale=\"10.0\">\n",
       "      <g class=\"primitive\">\n",
       "        <text text-anchor=\"end\" dy=\"0.35em\">0.73</text>\n",
       "      </g>\n",
       "    </g>\n",
       "    <g transform=\"translate(15.83,53.18)\" id=\"img-2f6089ae-316\" visibility=\"hidden\" gadfly:scale=\"10.0\">\n",
       "      <g class=\"primitive\">\n",
       "        <text text-anchor=\"end\" dy=\"0.35em\">0.74</text>\n",
       "      </g>\n",
       "    </g>\n",
       "    <g transform=\"translate(15.83,51.4)\" id=\"img-2f6089ae-317\" visibility=\"hidden\" gadfly:scale=\"10.0\">\n",
       "      <g class=\"primitive\">\n",
       "        <text text-anchor=\"end\" dy=\"0.35em\">0.75</text>\n",
       "      </g>\n",
       "    </g>\n",
       "    <g transform=\"translate(15.83,49.63)\" id=\"img-2f6089ae-318\" visibility=\"hidden\" gadfly:scale=\"10.0\">\n",
       "      <g class=\"primitive\">\n",
       "        <text text-anchor=\"end\" dy=\"0.35em\">0.76</text>\n",
       "      </g>\n",
       "    </g>\n",
       "    <g transform=\"translate(15.83,47.85)\" id=\"img-2f6089ae-319\" visibility=\"hidden\" gadfly:scale=\"10.0\">\n",
       "      <g class=\"primitive\">\n",
       "        <text text-anchor=\"end\" dy=\"0.35em\">0.77</text>\n",
       "      </g>\n",
       "    </g>\n",
       "    <g transform=\"translate(15.83,46.07)\" id=\"img-2f6089ae-320\" visibility=\"hidden\" gadfly:scale=\"10.0\">\n",
       "      <g class=\"primitive\">\n",
       "        <text text-anchor=\"end\" dy=\"0.35em\">0.78</text>\n",
       "      </g>\n",
       "    </g>\n",
       "    <g transform=\"translate(15.83,44.3)\" id=\"img-2f6089ae-321\" visibility=\"hidden\" gadfly:scale=\"10.0\">\n",
       "      <g class=\"primitive\">\n",
       "        <text text-anchor=\"end\" dy=\"0.35em\">0.79</text>\n",
       "      </g>\n",
       "    </g>\n",
       "    <g transform=\"translate(15.83,42.52)\" id=\"img-2f6089ae-322\" visibility=\"hidden\" gadfly:scale=\"10.0\">\n",
       "      <g class=\"primitive\">\n",
       "        <text text-anchor=\"end\" dy=\"0.35em\">0.80</text>\n",
       "      </g>\n",
       "    </g>\n",
       "    <g transform=\"translate(15.83,40.75)\" id=\"img-2f6089ae-323\" visibility=\"hidden\" gadfly:scale=\"10.0\">\n",
       "      <g class=\"primitive\">\n",
       "        <text text-anchor=\"end\" dy=\"0.35em\">0.81</text>\n",
       "      </g>\n",
       "    </g>\n",
       "    <g transform=\"translate(15.83,38.97)\" id=\"img-2f6089ae-324\" visibility=\"hidden\" gadfly:scale=\"10.0\">\n",
       "      <g class=\"primitive\">\n",
       "        <text text-anchor=\"end\" dy=\"0.35em\">0.82</text>\n",
       "      </g>\n",
       "    </g>\n",
       "    <g transform=\"translate(15.83,37.19)\" id=\"img-2f6089ae-325\" visibility=\"hidden\" gadfly:scale=\"10.0\">\n",
       "      <g class=\"primitive\">\n",
       "        <text text-anchor=\"end\" dy=\"0.35em\">0.83</text>\n",
       "      </g>\n",
       "    </g>\n",
       "    <g transform=\"translate(15.83,35.42)\" id=\"img-2f6089ae-326\" visibility=\"hidden\" gadfly:scale=\"10.0\">\n",
       "      <g class=\"primitive\">\n",
       "        <text text-anchor=\"end\" dy=\"0.35em\">0.84</text>\n",
       "      </g>\n",
       "    </g>\n",
       "    <g transform=\"translate(15.83,33.64)\" id=\"img-2f6089ae-327\" visibility=\"hidden\" gadfly:scale=\"10.0\">\n",
       "      <g class=\"primitive\">\n",
       "        <text text-anchor=\"end\" dy=\"0.35em\">0.85</text>\n",
       "      </g>\n",
       "    </g>\n",
       "    <g transform=\"translate(15.83,31.86)\" id=\"img-2f6089ae-328\" visibility=\"hidden\" gadfly:scale=\"10.0\">\n",
       "      <g class=\"primitive\">\n",
       "        <text text-anchor=\"end\" dy=\"0.35em\">0.86</text>\n",
       "      </g>\n",
       "    </g>\n",
       "    <g transform=\"translate(15.83,30.09)\" id=\"img-2f6089ae-329\" visibility=\"hidden\" gadfly:scale=\"10.0\">\n",
       "      <g class=\"primitive\">\n",
       "        <text text-anchor=\"end\" dy=\"0.35em\">0.87</text>\n",
       "      </g>\n",
       "    </g>\n",
       "    <g transform=\"translate(15.83,28.31)\" id=\"img-2f6089ae-330\" visibility=\"hidden\" gadfly:scale=\"10.0\">\n",
       "      <g class=\"primitive\">\n",
       "        <text text-anchor=\"end\" dy=\"0.35em\">0.88</text>\n",
       "      </g>\n",
       "    </g>\n",
       "    <g transform=\"translate(15.83,26.54)\" id=\"img-2f6089ae-331\" visibility=\"hidden\" gadfly:scale=\"10.0\">\n",
       "      <g class=\"primitive\">\n",
       "        <text text-anchor=\"end\" dy=\"0.35em\">0.89</text>\n",
       "      </g>\n",
       "    </g>\n",
       "    <g transform=\"translate(15.83,24.76)\" id=\"img-2f6089ae-332\" visibility=\"hidden\" gadfly:scale=\"10.0\">\n",
       "      <g class=\"primitive\">\n",
       "        <text text-anchor=\"end\" dy=\"0.35em\">0.90</text>\n",
       "      </g>\n",
       "    </g>\n",
       "    <g transform=\"translate(15.83,22.98)\" id=\"img-2f6089ae-333\" visibility=\"hidden\" gadfly:scale=\"10.0\">\n",
       "      <g class=\"primitive\">\n",
       "        <text text-anchor=\"end\" dy=\"0.35em\">0.91</text>\n",
       "      </g>\n",
       "    </g>\n",
       "    <g transform=\"translate(15.83,21.21)\" id=\"img-2f6089ae-334\" visibility=\"hidden\" gadfly:scale=\"10.0\">\n",
       "      <g class=\"primitive\">\n",
       "        <text text-anchor=\"end\" dy=\"0.35em\">0.92</text>\n",
       "      </g>\n",
       "    </g>\n",
       "    <g transform=\"translate(15.83,19.43)\" id=\"img-2f6089ae-335\" visibility=\"hidden\" gadfly:scale=\"10.0\">\n",
       "      <g class=\"primitive\">\n",
       "        <text text-anchor=\"end\" dy=\"0.35em\">0.93</text>\n",
       "      </g>\n",
       "    </g>\n",
       "    <g transform=\"translate(15.83,17.66)\" id=\"img-2f6089ae-336\" visibility=\"hidden\" gadfly:scale=\"10.0\">\n",
       "      <g class=\"primitive\">\n",
       "        <text text-anchor=\"end\" dy=\"0.35em\">0.94</text>\n",
       "      </g>\n",
       "    </g>\n",
       "    <g transform=\"translate(15.83,15.88)\" id=\"img-2f6089ae-337\" visibility=\"hidden\" gadfly:scale=\"10.0\">\n",
       "      <g class=\"primitive\">\n",
       "        <text text-anchor=\"end\" dy=\"0.35em\">0.95</text>\n",
       "      </g>\n",
       "    </g>\n",
       "    <g transform=\"translate(15.83,14.1)\" id=\"img-2f6089ae-338\" visibility=\"hidden\" gadfly:scale=\"10.0\">\n",
       "      <g class=\"primitive\">\n",
       "        <text text-anchor=\"end\" dy=\"0.35em\">0.96</text>\n",
       "      </g>\n",
       "    </g>\n",
       "    <g transform=\"translate(15.83,12.33)\" id=\"img-2f6089ae-339\" visibility=\"hidden\" gadfly:scale=\"10.0\">\n",
       "      <g class=\"primitive\">\n",
       "        <text text-anchor=\"end\" dy=\"0.35em\">0.97</text>\n",
       "      </g>\n",
       "    </g>\n",
       "    <g transform=\"translate(15.83,10.55)\" id=\"img-2f6089ae-340\" visibility=\"hidden\" gadfly:scale=\"10.0\">\n",
       "      <g class=\"primitive\">\n",
       "        <text text-anchor=\"end\" dy=\"0.35em\">0.98</text>\n",
       "      </g>\n",
       "    </g>\n",
       "    <g transform=\"translate(15.83,8.78)\" id=\"img-2f6089ae-341\" visibility=\"hidden\" gadfly:scale=\"10.0\">\n",
       "      <g class=\"primitive\">\n",
       "        <text text-anchor=\"end\" dy=\"0.35em\">0.99</text>\n",
       "      </g>\n",
       "    </g>\n",
       "    <g transform=\"translate(15.83,7)\" id=\"img-2f6089ae-342\" visibility=\"hidden\" gadfly:scale=\"10.0\">\n",
       "      <g class=\"primitive\">\n",
       "        <text text-anchor=\"end\" dy=\"0.35em\">1.00</text>\n",
       "      </g>\n",
       "    </g>\n",
       "    <g transform=\"translate(15.83,5.22)\" id=\"img-2f6089ae-343\" visibility=\"hidden\" gadfly:scale=\"10.0\">\n",
       "      <g class=\"primitive\">\n",
       "        <text text-anchor=\"end\" dy=\"0.35em\">1.01</text>\n",
       "      </g>\n",
       "    </g>\n",
       "    <g transform=\"translate(15.83,3.45)\" id=\"img-2f6089ae-344\" visibility=\"hidden\" gadfly:scale=\"10.0\">\n",
       "      <g class=\"primitive\">\n",
       "        <text text-anchor=\"end\" dy=\"0.35em\">1.02</text>\n",
       "      </g>\n",
       "    </g>\n",
       "    <g transform=\"translate(15.83,1.67)\" id=\"img-2f6089ae-345\" visibility=\"hidden\" gadfly:scale=\"10.0\">\n",
       "      <g class=\"primitive\">\n",
       "        <text text-anchor=\"end\" dy=\"0.35em\">1.03</text>\n",
       "      </g>\n",
       "    </g>\n",
       "    <g transform=\"translate(15.83,-0.1)\" id=\"img-2f6089ae-346\" visibility=\"hidden\" gadfly:scale=\"10.0\">\n",
       "      <g class=\"primitive\">\n",
       "        <text text-anchor=\"end\" dy=\"0.35em\">1.04</text>\n",
       "      </g>\n",
       "    </g>\n",
       "    <g transform=\"translate(15.83,-1.88)\" id=\"img-2f6089ae-347\" visibility=\"hidden\" gadfly:scale=\"10.0\">\n",
       "      <g class=\"primitive\">\n",
       "        <text text-anchor=\"end\" dy=\"0.35em\">1.05</text>\n",
       "      </g>\n",
       "    </g>\n",
       "    <g transform=\"translate(15.83,-3.66)\" id=\"img-2f6089ae-348\" visibility=\"hidden\" gadfly:scale=\"10.0\">\n",
       "      <g class=\"primitive\">\n",
       "        <text text-anchor=\"end\" dy=\"0.35em\">1.06</text>\n",
       "      </g>\n",
       "    </g>\n",
       "    <g transform=\"translate(15.83,-5.43)\" id=\"img-2f6089ae-349\" visibility=\"hidden\" gadfly:scale=\"10.0\">\n",
       "      <g class=\"primitive\">\n",
       "        <text text-anchor=\"end\" dy=\"0.35em\">1.07</text>\n",
       "      </g>\n",
       "    </g>\n",
       "    <g transform=\"translate(15.83,-7.21)\" id=\"img-2f6089ae-350\" visibility=\"hidden\" gadfly:scale=\"10.0\">\n",
       "      <g class=\"primitive\">\n",
       "        <text text-anchor=\"end\" dy=\"0.35em\">1.08</text>\n",
       "      </g>\n",
       "    </g>\n",
       "    <g transform=\"translate(15.83,-8.98)\" id=\"img-2f6089ae-351\" visibility=\"hidden\" gadfly:scale=\"10.0\">\n",
       "      <g class=\"primitive\">\n",
       "        <text text-anchor=\"end\" dy=\"0.35em\">1.09</text>\n",
       "      </g>\n",
       "    </g>\n",
       "    <g transform=\"translate(15.83,-10.76)\" id=\"img-2f6089ae-352\" visibility=\"hidden\" gadfly:scale=\"10.0\">\n",
       "      <g class=\"primitive\">\n",
       "        <text text-anchor=\"end\" dy=\"0.35em\">1.10</text>\n",
       "      </g>\n",
       "    </g>\n",
       "    <g transform=\"translate(15.83,-12.54)\" id=\"img-2f6089ae-353\" visibility=\"hidden\" gadfly:scale=\"10.0\">\n",
       "      <g class=\"primitive\">\n",
       "        <text text-anchor=\"end\" dy=\"0.35em\">1.11</text>\n",
       "      </g>\n",
       "    </g>\n",
       "    <g transform=\"translate(15.83,-14.31)\" id=\"img-2f6089ae-354\" visibility=\"hidden\" gadfly:scale=\"10.0\">\n",
       "      <g class=\"primitive\">\n",
       "        <text text-anchor=\"end\" dy=\"0.35em\">1.12</text>\n",
       "      </g>\n",
       "    </g>\n",
       "    <g transform=\"translate(15.83,-16.09)\" id=\"img-2f6089ae-355\" visibility=\"hidden\" gadfly:scale=\"10.0\">\n",
       "      <g class=\"primitive\">\n",
       "        <text text-anchor=\"end\" dy=\"0.35em\">1.13</text>\n",
       "      </g>\n",
       "    </g>\n",
       "    <g transform=\"translate(15.83,-17.86)\" id=\"img-2f6089ae-356\" visibility=\"hidden\" gadfly:scale=\"10.0\">\n",
       "      <g class=\"primitive\">\n",
       "        <text text-anchor=\"end\" dy=\"0.35em\">1.14</text>\n",
       "      </g>\n",
       "    </g>\n",
       "    <g transform=\"translate(15.83,-19.64)\" id=\"img-2f6089ae-357\" visibility=\"hidden\" gadfly:scale=\"10.0\">\n",
       "      <g class=\"primitive\">\n",
       "        <text text-anchor=\"end\" dy=\"0.35em\">1.15</text>\n",
       "      </g>\n",
       "    </g>\n",
       "    <g transform=\"translate(15.83,-21.42)\" id=\"img-2f6089ae-358\" visibility=\"hidden\" gadfly:scale=\"10.0\">\n",
       "      <g class=\"primitive\">\n",
       "        <text text-anchor=\"end\" dy=\"0.35em\">1.16</text>\n",
       "      </g>\n",
       "    </g>\n",
       "    <g transform=\"translate(15.83,-23.19)\" id=\"img-2f6089ae-359\" visibility=\"hidden\" gadfly:scale=\"10.0\">\n",
       "      <g class=\"primitive\">\n",
       "        <text text-anchor=\"end\" dy=\"0.35em\">1.17</text>\n",
       "      </g>\n",
       "    </g>\n",
       "    <g transform=\"translate(15.83,-24.97)\" id=\"img-2f6089ae-360\" visibility=\"hidden\" gadfly:scale=\"10.0\">\n",
       "      <g class=\"primitive\">\n",
       "        <text text-anchor=\"end\" dy=\"0.35em\">1.18</text>\n",
       "      </g>\n",
       "    </g>\n",
       "    <g transform=\"translate(15.83,-26.75)\" id=\"img-2f6089ae-361\" visibility=\"hidden\" gadfly:scale=\"10.0\">\n",
       "      <g class=\"primitive\">\n",
       "        <text text-anchor=\"end\" dy=\"0.35em\">1.19</text>\n",
       "      </g>\n",
       "    </g>\n",
       "    <g transform=\"translate(15.83,-28.52)\" id=\"img-2f6089ae-362\" visibility=\"hidden\" gadfly:scale=\"10.0\">\n",
       "      <g class=\"primitive\">\n",
       "        <text text-anchor=\"end\" dy=\"0.35em\">1.20</text>\n",
       "      </g>\n",
       "    </g>\n",
       "    <g transform=\"translate(15.83,-30.3)\" id=\"img-2f6089ae-363\" visibility=\"hidden\" gadfly:scale=\"10.0\">\n",
       "      <g class=\"primitive\">\n",
       "        <text text-anchor=\"end\" dy=\"0.35em\">1.21</text>\n",
       "      </g>\n",
       "    </g>\n",
       "    <g transform=\"translate(15.83,-32.07)\" id=\"img-2f6089ae-364\" visibility=\"hidden\" gadfly:scale=\"10.0\">\n",
       "      <g class=\"primitive\">\n",
       "        <text text-anchor=\"end\" dy=\"0.35em\">1.22</text>\n",
       "      </g>\n",
       "    </g>\n",
       "    <g transform=\"translate(15.83,-33.85)\" id=\"img-2f6089ae-365\" visibility=\"hidden\" gadfly:scale=\"10.0\">\n",
       "      <g class=\"primitive\">\n",
       "        <text text-anchor=\"end\" dy=\"0.35em\">1.23</text>\n",
       "      </g>\n",
       "    </g>\n",
       "    <g transform=\"translate(15.83,-35.63)\" id=\"img-2f6089ae-366\" visibility=\"hidden\" gadfly:scale=\"10.0\">\n",
       "      <g class=\"primitive\">\n",
       "        <text text-anchor=\"end\" dy=\"0.35em\">1.24</text>\n",
       "      </g>\n",
       "    </g>\n",
       "    <g transform=\"translate(15.83,-37.4)\" id=\"img-2f6089ae-367\" visibility=\"hidden\" gadfly:scale=\"10.0\">\n",
       "      <g class=\"primitive\">\n",
       "        <text text-anchor=\"end\" dy=\"0.35em\">1.25</text>\n",
       "      </g>\n",
       "    </g>\n",
       "    <g transform=\"translate(15.83,-39.18)\" id=\"img-2f6089ae-368\" visibility=\"hidden\" gadfly:scale=\"10.0\">\n",
       "      <g class=\"primitive\">\n",
       "        <text text-anchor=\"end\" dy=\"0.35em\">1.26</text>\n",
       "      </g>\n",
       "    </g>\n",
       "    <g transform=\"translate(15.83,-40.95)\" id=\"img-2f6089ae-369\" visibility=\"hidden\" gadfly:scale=\"10.0\">\n",
       "      <g class=\"primitive\">\n",
       "        <text text-anchor=\"end\" dy=\"0.35em\">1.27</text>\n",
       "      </g>\n",
       "    </g>\n",
       "    <g transform=\"translate(15.83,-42.73)\" id=\"img-2f6089ae-370\" visibility=\"hidden\" gadfly:scale=\"10.0\">\n",
       "      <g class=\"primitive\">\n",
       "        <text text-anchor=\"end\" dy=\"0.35em\">1.28</text>\n",
       "      </g>\n",
       "    </g>\n",
       "    <g transform=\"translate(15.83,-44.51)\" id=\"img-2f6089ae-371\" visibility=\"hidden\" gadfly:scale=\"10.0\">\n",
       "      <g class=\"primitive\">\n",
       "        <text text-anchor=\"end\" dy=\"0.35em\">1.29</text>\n",
       "      </g>\n",
       "    </g>\n",
       "    <g transform=\"translate(15.83,-46.28)\" id=\"img-2f6089ae-372\" visibility=\"hidden\" gadfly:scale=\"10.0\">\n",
       "      <g class=\"primitive\">\n",
       "        <text text-anchor=\"end\" dy=\"0.35em\">1.30</text>\n",
       "      </g>\n",
       "    </g>\n",
       "    <g transform=\"translate(15.83,184.61)\" id=\"img-2f6089ae-373\" visibility=\"hidden\" gadfly:scale=\"0.5\">\n",
       "      <g class=\"primitive\">\n",
       "        <text text-anchor=\"end\" dy=\"0.35em\">0.0</text>\n",
       "      </g>\n",
       "    </g>\n",
       "    <g transform=\"translate(15.83,95.8)\" id=\"img-2f6089ae-374\" visibility=\"hidden\" gadfly:scale=\"0.5\">\n",
       "      <g class=\"primitive\">\n",
       "        <text text-anchor=\"end\" dy=\"0.35em\">0.5</text>\n",
       "      </g>\n",
       "    </g>\n",
       "    <g transform=\"translate(15.83,7)\" id=\"img-2f6089ae-375\" visibility=\"hidden\" gadfly:scale=\"0.5\">\n",
       "      <g class=\"primitive\">\n",
       "        <text text-anchor=\"end\" dy=\"0.35em\">1.0</text>\n",
       "      </g>\n",
       "    </g>\n",
       "    <g transform=\"translate(15.83,-81.8)\" id=\"img-2f6089ae-376\" visibility=\"hidden\" gadfly:scale=\"0.5\">\n",
       "      <g class=\"primitive\">\n",
       "        <text text-anchor=\"end\" dy=\"0.35em\">1.5</text>\n",
       "      </g>\n",
       "    </g>\n",
       "    <g transform=\"translate(15.83,113.56)\" id=\"img-2f6089ae-377\" visibility=\"hidden\" gadfly:scale=\"5.0\">\n",
       "      <g class=\"primitive\">\n",
       "        <text text-anchor=\"end\" dy=\"0.35em\">0.40</text>\n",
       "      </g>\n",
       "    </g>\n",
       "    <g transform=\"translate(15.83,110.01)\" id=\"img-2f6089ae-378\" visibility=\"hidden\" gadfly:scale=\"5.0\">\n",
       "      <g class=\"primitive\">\n",
       "        <text text-anchor=\"end\" dy=\"0.35em\">0.42</text>\n",
       "      </g>\n",
       "    </g>\n",
       "    <g transform=\"translate(15.83,106.46)\" id=\"img-2f6089ae-379\" visibility=\"hidden\" gadfly:scale=\"5.0\">\n",
       "      <g class=\"primitive\">\n",
       "        <text text-anchor=\"end\" dy=\"0.35em\">0.44</text>\n",
       "      </g>\n",
       "    </g>\n",
       "    <g transform=\"translate(15.83,102.91)\" id=\"img-2f6089ae-380\" visibility=\"hidden\" gadfly:scale=\"5.0\">\n",
       "      <g class=\"primitive\">\n",
       "        <text text-anchor=\"end\" dy=\"0.35em\">0.46</text>\n",
       "      </g>\n",
       "    </g>\n",
       "    <g transform=\"translate(15.83,99.35)\" id=\"img-2f6089ae-381\" visibility=\"hidden\" gadfly:scale=\"5.0\">\n",
       "      <g class=\"primitive\">\n",
       "        <text text-anchor=\"end\" dy=\"0.35em\">0.48</text>\n",
       "      </g>\n",
       "    </g>\n",
       "    <g transform=\"translate(15.83,95.8)\" id=\"img-2f6089ae-382\" visibility=\"hidden\" gadfly:scale=\"5.0\">\n",
       "      <g class=\"primitive\">\n",
       "        <text text-anchor=\"end\" dy=\"0.35em\">0.50</text>\n",
       "      </g>\n",
       "    </g>\n",
       "    <g transform=\"translate(15.83,92.25)\" id=\"img-2f6089ae-383\" visibility=\"hidden\" gadfly:scale=\"5.0\">\n",
       "      <g class=\"primitive\">\n",
       "        <text text-anchor=\"end\" dy=\"0.35em\">0.52</text>\n",
       "      </g>\n",
       "    </g>\n",
       "    <g transform=\"translate(15.83,88.7)\" id=\"img-2f6089ae-384\" visibility=\"hidden\" gadfly:scale=\"5.0\">\n",
       "      <g class=\"primitive\">\n",
       "        <text text-anchor=\"end\" dy=\"0.35em\">0.54</text>\n",
       "      </g>\n",
       "    </g>\n",
       "    <g transform=\"translate(15.83,85.15)\" id=\"img-2f6089ae-385\" visibility=\"hidden\" gadfly:scale=\"5.0\">\n",
       "      <g class=\"primitive\">\n",
       "        <text text-anchor=\"end\" dy=\"0.35em\">0.56</text>\n",
       "      </g>\n",
       "    </g>\n",
       "    <g transform=\"translate(15.83,81.59)\" id=\"img-2f6089ae-386\" visibility=\"hidden\" gadfly:scale=\"5.0\">\n",
       "      <g class=\"primitive\">\n",
       "        <text text-anchor=\"end\" dy=\"0.35em\">0.58</text>\n",
       "      </g>\n",
       "    </g>\n",
       "    <g transform=\"translate(15.83,78.04)\" id=\"img-2f6089ae-387\" visibility=\"hidden\" gadfly:scale=\"5.0\">\n",
       "      <g class=\"primitive\">\n",
       "        <text text-anchor=\"end\" dy=\"0.35em\">0.60</text>\n",
       "      </g>\n",
       "    </g>\n",
       "    <g transform=\"translate(15.83,74.49)\" id=\"img-2f6089ae-388\" visibility=\"hidden\" gadfly:scale=\"5.0\">\n",
       "      <g class=\"primitive\">\n",
       "        <text text-anchor=\"end\" dy=\"0.35em\">0.62</text>\n",
       "      </g>\n",
       "    </g>\n",
       "    <g transform=\"translate(15.83,70.94)\" id=\"img-2f6089ae-389\" visibility=\"hidden\" gadfly:scale=\"5.0\">\n",
       "      <g class=\"primitive\">\n",
       "        <text text-anchor=\"end\" dy=\"0.35em\">0.64</text>\n",
       "      </g>\n",
       "    </g>\n",
       "    <g transform=\"translate(15.83,67.39)\" id=\"img-2f6089ae-390\" visibility=\"hidden\" gadfly:scale=\"5.0\">\n",
       "      <g class=\"primitive\">\n",
       "        <text text-anchor=\"end\" dy=\"0.35em\">0.66</text>\n",
       "      </g>\n",
       "    </g>\n",
       "    <g transform=\"translate(15.83,63.83)\" id=\"img-2f6089ae-391\" visibility=\"hidden\" gadfly:scale=\"5.0\">\n",
       "      <g class=\"primitive\">\n",
       "        <text text-anchor=\"end\" dy=\"0.35em\">0.68</text>\n",
       "      </g>\n",
       "    </g>\n",
       "    <g transform=\"translate(15.83,60.28)\" id=\"img-2f6089ae-392\" visibility=\"hidden\" gadfly:scale=\"5.0\">\n",
       "      <g class=\"primitive\">\n",
       "        <text text-anchor=\"end\" dy=\"0.35em\">0.70</text>\n",
       "      </g>\n",
       "    </g>\n",
       "    <g transform=\"translate(15.83,56.73)\" id=\"img-2f6089ae-393\" visibility=\"hidden\" gadfly:scale=\"5.0\">\n",
       "      <g class=\"primitive\">\n",
       "        <text text-anchor=\"end\" dy=\"0.35em\">0.72</text>\n",
       "      </g>\n",
       "    </g>\n",
       "    <g transform=\"translate(15.83,53.18)\" id=\"img-2f6089ae-394\" visibility=\"hidden\" gadfly:scale=\"5.0\">\n",
       "      <g class=\"primitive\">\n",
       "        <text text-anchor=\"end\" dy=\"0.35em\">0.74</text>\n",
       "      </g>\n",
       "    </g>\n",
       "    <g transform=\"translate(15.83,49.63)\" id=\"img-2f6089ae-395\" visibility=\"hidden\" gadfly:scale=\"5.0\">\n",
       "      <g class=\"primitive\">\n",
       "        <text text-anchor=\"end\" dy=\"0.35em\">0.76</text>\n",
       "      </g>\n",
       "    </g>\n",
       "    <g transform=\"translate(15.83,46.07)\" id=\"img-2f6089ae-396\" visibility=\"hidden\" gadfly:scale=\"5.0\">\n",
       "      <g class=\"primitive\">\n",
       "        <text text-anchor=\"end\" dy=\"0.35em\">0.78</text>\n",
       "      </g>\n",
       "    </g>\n",
       "    <g transform=\"translate(15.83,42.52)\" id=\"img-2f6089ae-397\" visibility=\"hidden\" gadfly:scale=\"5.0\">\n",
       "      <g class=\"primitive\">\n",
       "        <text text-anchor=\"end\" dy=\"0.35em\">0.80</text>\n",
       "      </g>\n",
       "    </g>\n",
       "    <g transform=\"translate(15.83,38.97)\" id=\"img-2f6089ae-398\" visibility=\"hidden\" gadfly:scale=\"5.0\">\n",
       "      <g class=\"primitive\">\n",
       "        <text text-anchor=\"end\" dy=\"0.35em\">0.82</text>\n",
       "      </g>\n",
       "    </g>\n",
       "    <g transform=\"translate(15.83,35.42)\" id=\"img-2f6089ae-399\" visibility=\"hidden\" gadfly:scale=\"5.0\">\n",
       "      <g class=\"primitive\">\n",
       "        <text text-anchor=\"end\" dy=\"0.35em\">0.84</text>\n",
       "      </g>\n",
       "    </g>\n",
       "    <g transform=\"translate(15.83,31.86)\" id=\"img-2f6089ae-400\" visibility=\"hidden\" gadfly:scale=\"5.0\">\n",
       "      <g class=\"primitive\">\n",
       "        <text text-anchor=\"end\" dy=\"0.35em\">0.86</text>\n",
       "      </g>\n",
       "    </g>\n",
       "    <g transform=\"translate(15.83,28.31)\" id=\"img-2f6089ae-401\" visibility=\"hidden\" gadfly:scale=\"5.0\">\n",
       "      <g class=\"primitive\">\n",
       "        <text text-anchor=\"end\" dy=\"0.35em\">0.88</text>\n",
       "      </g>\n",
       "    </g>\n",
       "    <g transform=\"translate(15.83,24.76)\" id=\"img-2f6089ae-402\" visibility=\"hidden\" gadfly:scale=\"5.0\">\n",
       "      <g class=\"primitive\">\n",
       "        <text text-anchor=\"end\" dy=\"0.35em\">0.90</text>\n",
       "      </g>\n",
       "    </g>\n",
       "    <g transform=\"translate(15.83,21.21)\" id=\"img-2f6089ae-403\" visibility=\"hidden\" gadfly:scale=\"5.0\">\n",
       "      <g class=\"primitive\">\n",
       "        <text text-anchor=\"end\" dy=\"0.35em\">0.92</text>\n",
       "      </g>\n",
       "    </g>\n",
       "    <g transform=\"translate(15.83,17.66)\" id=\"img-2f6089ae-404\" visibility=\"hidden\" gadfly:scale=\"5.0\">\n",
       "      <g class=\"primitive\">\n",
       "        <text text-anchor=\"end\" dy=\"0.35em\">0.94</text>\n",
       "      </g>\n",
       "    </g>\n",
       "    <g transform=\"translate(15.83,14.1)\" id=\"img-2f6089ae-405\" visibility=\"hidden\" gadfly:scale=\"5.0\">\n",
       "      <g class=\"primitive\">\n",
       "        <text text-anchor=\"end\" dy=\"0.35em\">0.96</text>\n",
       "      </g>\n",
       "    </g>\n",
       "    <g transform=\"translate(15.83,10.55)\" id=\"img-2f6089ae-406\" visibility=\"hidden\" gadfly:scale=\"5.0\">\n",
       "      <g class=\"primitive\">\n",
       "        <text text-anchor=\"end\" dy=\"0.35em\">0.98</text>\n",
       "      </g>\n",
       "    </g>\n",
       "    <g transform=\"translate(15.83,7)\" id=\"img-2f6089ae-407\" visibility=\"hidden\" gadfly:scale=\"5.0\">\n",
       "      <g class=\"primitive\">\n",
       "        <text text-anchor=\"end\" dy=\"0.35em\">1.00</text>\n",
       "      </g>\n",
       "    </g>\n",
       "    <g transform=\"translate(15.83,3.45)\" id=\"img-2f6089ae-408\" visibility=\"hidden\" gadfly:scale=\"5.0\">\n",
       "      <g class=\"primitive\">\n",
       "        <text text-anchor=\"end\" dy=\"0.35em\">1.02</text>\n",
       "      </g>\n",
       "    </g>\n",
       "    <g transform=\"translate(15.83,-0.1)\" id=\"img-2f6089ae-409\" visibility=\"hidden\" gadfly:scale=\"5.0\">\n",
       "      <g class=\"primitive\">\n",
       "        <text text-anchor=\"end\" dy=\"0.35em\">1.04</text>\n",
       "      </g>\n",
       "    </g>\n",
       "    <g transform=\"translate(15.83,-3.66)\" id=\"img-2f6089ae-410\" visibility=\"hidden\" gadfly:scale=\"5.0\">\n",
       "      <g class=\"primitive\">\n",
       "        <text text-anchor=\"end\" dy=\"0.35em\">1.06</text>\n",
       "      </g>\n",
       "    </g>\n",
       "    <g transform=\"translate(15.83,-7.21)\" id=\"img-2f6089ae-411\" visibility=\"hidden\" gadfly:scale=\"5.0\">\n",
       "      <g class=\"primitive\">\n",
       "        <text text-anchor=\"end\" dy=\"0.35em\">1.08</text>\n",
       "      </g>\n",
       "    </g>\n",
       "    <g transform=\"translate(15.83,-10.76)\" id=\"img-2f6089ae-412\" visibility=\"hidden\" gadfly:scale=\"5.0\">\n",
       "      <g class=\"primitive\">\n",
       "        <text text-anchor=\"end\" dy=\"0.35em\">1.10</text>\n",
       "      </g>\n",
       "    </g>\n",
       "    <g transform=\"translate(15.83,-14.31)\" id=\"img-2f6089ae-413\" visibility=\"hidden\" gadfly:scale=\"5.0\">\n",
       "      <g class=\"primitive\">\n",
       "        <text text-anchor=\"end\" dy=\"0.35em\">1.12</text>\n",
       "      </g>\n",
       "    </g>\n",
       "    <g transform=\"translate(15.83,-17.86)\" id=\"img-2f6089ae-414\" visibility=\"hidden\" gadfly:scale=\"5.0\">\n",
       "      <g class=\"primitive\">\n",
       "        <text text-anchor=\"end\" dy=\"0.35em\">1.14</text>\n",
       "      </g>\n",
       "    </g>\n",
       "    <g transform=\"translate(15.83,-21.42)\" id=\"img-2f6089ae-415\" visibility=\"hidden\" gadfly:scale=\"5.0\">\n",
       "      <g class=\"primitive\">\n",
       "        <text text-anchor=\"end\" dy=\"0.35em\">1.16</text>\n",
       "      </g>\n",
       "    </g>\n",
       "    <g transform=\"translate(15.83,-24.97)\" id=\"img-2f6089ae-416\" visibility=\"hidden\" gadfly:scale=\"5.0\">\n",
       "      <g class=\"primitive\">\n",
       "        <text text-anchor=\"end\" dy=\"0.35em\">1.18</text>\n",
       "      </g>\n",
       "    </g>\n",
       "    <g transform=\"translate(15.83,-28.52)\" id=\"img-2f6089ae-417\" visibility=\"hidden\" gadfly:scale=\"5.0\">\n",
       "      <g class=\"primitive\">\n",
       "        <text text-anchor=\"end\" dy=\"0.35em\">1.20</text>\n",
       "      </g>\n",
       "    </g>\n",
       "    <g transform=\"translate(15.83,-32.07)\" id=\"img-2f6089ae-418\" visibility=\"hidden\" gadfly:scale=\"5.0\">\n",
       "      <g class=\"primitive\">\n",
       "        <text text-anchor=\"end\" dy=\"0.35em\">1.22</text>\n",
       "      </g>\n",
       "    </g>\n",
       "    <g transform=\"translate(15.83,-35.63)\" id=\"img-2f6089ae-419\" visibility=\"hidden\" gadfly:scale=\"5.0\">\n",
       "      <g class=\"primitive\">\n",
       "        <text text-anchor=\"end\" dy=\"0.35em\">1.24</text>\n",
       "      </g>\n",
       "    </g>\n",
       "    <g transform=\"translate(15.83,-39.18)\" id=\"img-2f6089ae-420\" visibility=\"hidden\" gadfly:scale=\"5.0\">\n",
       "      <g class=\"primitive\">\n",
       "        <text text-anchor=\"end\" dy=\"0.35em\">1.26</text>\n",
       "      </g>\n",
       "    </g>\n",
       "    <g transform=\"translate(15.83,-42.73)\" id=\"img-2f6089ae-421\" visibility=\"hidden\" gadfly:scale=\"5.0\">\n",
       "      <g class=\"primitive\">\n",
       "        <text text-anchor=\"end\" dy=\"0.35em\">1.28</text>\n",
       "      </g>\n",
       "    </g>\n",
       "    <g transform=\"translate(15.83,-46.28)\" id=\"img-2f6089ae-422\" visibility=\"hidden\" gadfly:scale=\"5.0\">\n",
       "      <g class=\"primitive\">\n",
       "        <text text-anchor=\"end\" dy=\"0.35em\">1.30</text>\n",
       "      </g>\n",
       "    </g>\n",
       "  </g>\n",
       "  <g font-size=\"3.88\" font-family=\"'PT Sans','Helvetica Neue','Helvetica',sans-serif\" fill=\"#564A55\" stroke=\"#000000\" stroke-opacity=\"0.000\" id=\"img-2f6089ae-423\">\n",
       "    <g transform=\"translate(8.81,33.64)\" id=\"img-2f6089ae-424\">\n",
       "      <g class=\"primitive\">\n",
       "        <text text-anchor=\"end\" dy=\"0.35em\">y</text>\n",
       "      </g>\n",
       "    </g>\n",
       "  </g>\n",
       "</g>\n",
       "<defs>\n",
       "  <clipPath id=\"img-2f6089ae-4\">\n",
       "    <path d=\"M16.83,5 L136.42,5 136.42,62.28 16.83,62.28 \" />\n",
       "  </clipPath>\n",
       "</defs>\n",
       "<script> <![CDATA[\n",
       "(function(N){var k=/[\\.\\/]/,L=/\\s*,\\s*/,C=function(a,d){return a-d},a,v,y={n:{}},M=function(){for(var a=0,d=this.length;a<d;a++)if(\"undefined\"!=typeof this[a])return this[a]},A=function(){for(var a=this.length;--a;)if(\"undefined\"!=typeof this[a])return this[a]},w=function(k,d){k=String(k);var f=v,n=Array.prototype.slice.call(arguments,2),u=w.listeners(k),p=0,b,q=[],e={},l=[],r=a;l.firstDefined=M;l.lastDefined=A;a=k;for(var s=v=0,x=u.length;s<x;s++)\"zIndex\"in u[s]&&(q.push(u[s].zIndex),0>u[s].zIndex&&\n",
       "(e[u[s].zIndex]=u[s]));for(q.sort(C);0>q[p];)if(b=e[q[p++] ],l.push(b.apply(d,n)),v)return v=f,l;for(s=0;s<x;s++)if(b=u[s],\"zIndex\"in b)if(b.zIndex==q[p]){l.push(b.apply(d,n));if(v)break;do if(p++,(b=e[q[p] ])&&l.push(b.apply(d,n)),v)break;while(b)}else e[b.zIndex]=b;else if(l.push(b.apply(d,n)),v)break;v=f;a=r;return l};w._events=y;w.listeners=function(a){a=a.split(k);var d=y,f,n,u,p,b,q,e,l=[d],r=[];u=0;for(p=a.length;u<p;u++){e=[];b=0;for(q=l.length;b<q;b++)for(d=l[b].n,f=[d[a[u] ],d[\"*\"] ],n=2;n--;)if(d=\n",
       "f[n])e.push(d),r=r.concat(d.f||[]);l=e}return r};w.on=function(a,d){a=String(a);if(\"function\"!=typeof d)return function(){};for(var f=a.split(L),n=0,u=f.length;n<u;n++)(function(a){a=a.split(k);for(var b=y,f,e=0,l=a.length;e<l;e++)b=b.n,b=b.hasOwnProperty(a[e])&&b[a[e] ]||(b[a[e] ]={n:{}});b.f=b.f||[];e=0;for(l=b.f.length;e<l;e++)if(b.f[e]==d){f=!0;break}!f&&b.f.push(d)})(f[n]);return function(a){+a==+a&&(d.zIndex=+a)}};w.f=function(a){var d=[].slice.call(arguments,1);return function(){w.apply(null,\n",
       "[a,null].concat(d).concat([].slice.call(arguments,0)))}};w.stop=function(){v=1};w.nt=function(k){return k?(new RegExp(\"(?:\\\\.|\\\\/|^)\"+k+\"(?:\\\\.|\\\\/|$)\")).test(a):a};w.nts=function(){return a.split(k)};w.off=w.unbind=function(a,d){if(a){var f=a.split(L);if(1<f.length)for(var n=0,u=f.length;n<u;n++)w.off(f[n],d);else{for(var f=a.split(k),p,b,q,e,l=[y],n=0,u=f.length;n<u;n++)for(e=0;e<l.length;e+=q.length-2){q=[e,1];p=l[e].n;if(\"*\"!=f[n])p[f[n] ]&&q.push(p[f[n] ]);else for(b in p)p.hasOwnProperty(b)&&\n",
       "q.push(p[b]);l.splice.apply(l,q)}n=0;for(u=l.length;n<u;n++)for(p=l[n];p.n;){if(d){if(p.f){e=0;for(f=p.f.length;e<f;e++)if(p.f[e]==d){p.f.splice(e,1);break}!p.f.length&&delete p.f}for(b in p.n)if(p.n.hasOwnProperty(b)&&p.n[b].f){q=p.n[b].f;e=0;for(f=q.length;e<f;e++)if(q[e]==d){q.splice(e,1);break}!q.length&&delete p.n[b].f}}else for(b in delete p.f,p.n)p.n.hasOwnProperty(b)&&p.n[b].f&&delete p.n[b].f;p=p.n}}}else w._events=y={n:{}}};w.once=function(a,d){var f=function(){w.unbind(a,f);return d.apply(this,\n",
       "arguments)};return w.on(a,f)};w.version=\"0.4.2\";w.toString=function(){return\"You are running Eve 0.4.2\"};\"undefined\"!=typeof module&&module.exports?module.exports=w:\"function\"===typeof define&&define.amd?define(\"eve\",[],function(){return w}):N.eve=w})(this);\n",
       "(function(N,k){\"function\"===typeof define&&define.amd?define(\"Snap.svg\",[\"eve\"],function(L){return k(N,L)}):k(N,N.eve)})(this,function(N,k){var L=function(a){var k={},y=N.requestAnimationFrame||N.webkitRequestAnimationFrame||N.mozRequestAnimationFrame||N.oRequestAnimationFrame||N.msRequestAnimationFrame||function(a){setTimeout(a,16)},M=Array.isArray||function(a){return a instanceof Array||\"[object Array]\"==Object.prototype.toString.call(a)},A=0,w=\"M\"+(+new Date).toString(36),z=function(a){if(null==\n",
       "a)return this.s;var b=this.s-a;this.b+=this.dur*b;this.B+=this.dur*b;this.s=a},d=function(a){if(null==a)return this.spd;this.spd=a},f=function(a){if(null==a)return this.dur;this.s=this.s*a/this.dur;this.dur=a},n=function(){delete k[this.id];this.update();a(\"mina.stop.\"+this.id,this)},u=function(){this.pdif||(delete k[this.id],this.update(),this.pdif=this.get()-this.b)},p=function(){this.pdif&&(this.b=this.get()-this.pdif,delete this.pdif,k[this.id]=this)},b=function(){var a;if(M(this.start)){a=[];\n",
       "for(var b=0,e=this.start.length;b<e;b++)a[b]=+this.start[b]+(this.end[b]-this.start[b])*this.easing(this.s)}else a=+this.start+(this.end-this.start)*this.easing(this.s);this.set(a)},q=function(){var l=0,b;for(b in k)if(k.hasOwnProperty(b)){var e=k[b],f=e.get();l++;e.s=(f-e.b)/(e.dur/e.spd);1<=e.s&&(delete k[b],e.s=1,l--,function(b){setTimeout(function(){a(\"mina.finish.\"+b.id,b)})}(e));e.update()}l&&y(q)},e=function(a,r,s,x,G,h,J){a={id:w+(A++).toString(36),start:a,end:r,b:s,s:0,dur:x-s,spd:1,get:G,\n",
       "set:h,easing:J||e.linear,status:z,speed:d,duration:f,stop:n,pause:u,resume:p,update:b};k[a.id]=a;r=0;for(var K in k)if(k.hasOwnProperty(K)&&(r++,2==r))break;1==r&&y(q);return a};e.time=Date.now||function(){return+new Date};e.getById=function(a){return k[a]||null};e.linear=function(a){return a};e.easeout=function(a){return Math.pow(a,1.7)};e.easein=function(a){return Math.pow(a,0.48)};e.easeinout=function(a){if(1==a)return 1;if(0==a)return 0;var b=0.48-a/1.04,e=Math.sqrt(0.1734+b*b);a=e-b;a=Math.pow(Math.abs(a),\n",
       "1/3)*(0>a?-1:1);b=-e-b;b=Math.pow(Math.abs(b),1/3)*(0>b?-1:1);a=a+b+0.5;return 3*(1-a)*a*a+a*a*a};e.backin=function(a){return 1==a?1:a*a*(2.70158*a-1.70158)};e.backout=function(a){if(0==a)return 0;a-=1;return a*a*(2.70158*a+1.70158)+1};e.elastic=function(a){return a==!!a?a:Math.pow(2,-10*a)*Math.sin(2*(a-0.075)*Math.PI/0.3)+1};e.bounce=function(a){a<1/2.75?a*=7.5625*a:a<2/2.75?(a-=1.5/2.75,a=7.5625*a*a+0.75):a<2.5/2.75?(a-=2.25/2.75,a=7.5625*a*a+0.9375):(a-=2.625/2.75,a=7.5625*a*a+0.984375);return a};\n",
       "return N.mina=e}(\"undefined\"==typeof k?function(){}:k),C=function(){function a(c,t){if(c){if(c.tagName)return x(c);if(y(c,\"array\")&&a.set)return a.set.apply(a,c);if(c instanceof e)return c;if(null==t)return c=G.doc.querySelector(c),x(c)}return new s(null==c?\"100%\":c,null==t?\"100%\":t)}function v(c,a){if(a){\"#text\"==c&&(c=G.doc.createTextNode(a.text||\"\"));\"string\"==typeof c&&(c=v(c));if(\"string\"==typeof a)return\"xlink:\"==a.substring(0,6)?c.getAttributeNS(m,a.substring(6)):\"xml:\"==a.substring(0,4)?c.getAttributeNS(la,\n",
       "a.substring(4)):c.getAttribute(a);for(var da in a)if(a[h](da)){var b=J(a[da]);b?\"xlink:\"==da.substring(0,6)?c.setAttributeNS(m,da.substring(6),b):\"xml:\"==da.substring(0,4)?c.setAttributeNS(la,da.substring(4),b):c.setAttribute(da,b):c.removeAttribute(da)}}else c=G.doc.createElementNS(la,c);return c}function y(c,a){a=J.prototype.toLowerCase.call(a);return\"finite\"==a?isFinite(c):\"array\"==a&&(c instanceof Array||Array.isArray&&Array.isArray(c))?!0:\"null\"==a&&null===c||a==typeof c&&null!==c||\"object\"==\n",
       "a&&c===Object(c)||$.call(c).slice(8,-1).toLowerCase()==a}function M(c){if(\"function\"==typeof c||Object(c)!==c)return c;var a=new c.constructor,b;for(b in c)c[h](b)&&(a[b]=M(c[b]));return a}function A(c,a,b){function m(){var e=Array.prototype.slice.call(arguments,0),f=e.join(\"\\u2400\"),d=m.cache=m.cache||{},l=m.count=m.count||[];if(d[h](f)){a:for(var e=l,l=f,B=0,H=e.length;B<H;B++)if(e[B]===l){e.push(e.splice(B,1)[0]);break a}return b?b(d[f]):d[f]}1E3<=l.length&&delete d[l.shift()];l.push(f);d[f]=c.apply(a,\n",
       "e);return b?b(d[f]):d[f]}return m}function w(c,a,b,m,e,f){return null==e?(c-=b,a-=m,c||a?(180*I.atan2(-a,-c)/C+540)%360:0):w(c,a,e,f)-w(b,m,e,f)}function z(c){return c%360*C/180}function d(c){var a=[];c=c.replace(/(?:^|\\s)(\\w+)\\(([^)]+)\\)/g,function(c,b,m){m=m.split(/\\s*,\\s*|\\s+/);\"rotate\"==b&&1==m.length&&m.push(0,0);\"scale\"==b&&(2<m.length?m=m.slice(0,2):2==m.length&&m.push(0,0),1==m.length&&m.push(m[0],0,0));\"skewX\"==b?a.push([\"m\",1,0,I.tan(z(m[0])),1,0,0]):\"skewY\"==b?a.push([\"m\",1,I.tan(z(m[0])),\n",
       "0,1,0,0]):a.push([b.charAt(0)].concat(m));return c});return a}function f(c,t){var b=O(c),m=new a.Matrix;if(b)for(var e=0,f=b.length;e<f;e++){var h=b[e],d=h.length,B=J(h[0]).toLowerCase(),H=h[0]!=B,l=H?m.invert():0,E;\"t\"==B&&2==d?m.translate(h[1],0):\"t\"==B&&3==d?H?(d=l.x(0,0),B=l.y(0,0),H=l.x(h[1],h[2]),l=l.y(h[1],h[2]),m.translate(H-d,l-B)):m.translate(h[1],h[2]):\"r\"==B?2==d?(E=E||t,m.rotate(h[1],E.x+E.width/2,E.y+E.height/2)):4==d&&(H?(H=l.x(h[2],h[3]),l=l.y(h[2],h[3]),m.rotate(h[1],H,l)):m.rotate(h[1],\n",
       "h[2],h[3])):\"s\"==B?2==d||3==d?(E=E||t,m.scale(h[1],h[d-1],E.x+E.width/2,E.y+E.height/2)):4==d?H?(H=l.x(h[2],h[3]),l=l.y(h[2],h[3]),m.scale(h[1],h[1],H,l)):m.scale(h[1],h[1],h[2],h[3]):5==d&&(H?(H=l.x(h[3],h[4]),l=l.y(h[3],h[4]),m.scale(h[1],h[2],H,l)):m.scale(h[1],h[2],h[3],h[4])):\"m\"==B&&7==d&&m.add(h[1],h[2],h[3],h[4],h[5],h[6])}return m}function n(c,t){if(null==t){var m=!0;t=\"linearGradient\"==c.type||\"radialGradient\"==c.type?c.node.getAttribute(\"gradientTransform\"):\"pattern\"==c.type?c.node.getAttribute(\"patternTransform\"):\n",
       "c.node.getAttribute(\"transform\");if(!t)return new a.Matrix;t=d(t)}else t=a._.rgTransform.test(t)?J(t).replace(/\\.{3}|\\u2026/g,c._.transform||aa):d(t),y(t,\"array\")&&(t=a.path?a.path.toString.call(t):J(t)),c._.transform=t;var b=f(t,c.getBBox(1));if(m)return b;c.matrix=b}function u(c){c=c.node.ownerSVGElement&&x(c.node.ownerSVGElement)||c.node.parentNode&&x(c.node.parentNode)||a.select(\"svg\")||a(0,0);var t=c.select(\"defs\"),t=null==t?!1:t.node;t||(t=r(\"defs\",c.node).node);return t}function p(c){return c.node.ownerSVGElement&&\n",
       "x(c.node.ownerSVGElement)||a.select(\"svg\")}function b(c,a,m){function b(c){if(null==c)return aa;if(c==+c)return c;v(B,{width:c});try{return B.getBBox().width}catch(a){return 0}}function h(c){if(null==c)return aa;if(c==+c)return c;v(B,{height:c});try{return B.getBBox().height}catch(a){return 0}}function e(b,B){null==a?d[b]=B(c.attr(b)||0):b==a&&(d=B(null==m?c.attr(b)||0:m))}var f=p(c).node,d={},B=f.querySelector(\".svg---mgr\");B||(B=v(\"rect\"),v(B,{x:-9E9,y:-9E9,width:10,height:10,\"class\":\"svg---mgr\",\n",
       "fill:\"none\"}),f.appendChild(B));switch(c.type){case \"rect\":e(\"rx\",b),e(\"ry\",h);case \"image\":e(\"width\",b),e(\"height\",h);case \"text\":e(\"x\",b);e(\"y\",h);break;case \"circle\":e(\"cx\",b);e(\"cy\",h);e(\"r\",b);break;case \"ellipse\":e(\"cx\",b);e(\"cy\",h);e(\"rx\",b);e(\"ry\",h);break;case \"line\":e(\"x1\",b);e(\"x2\",b);e(\"y1\",h);e(\"y2\",h);break;case \"marker\":e(\"refX\",b);e(\"markerWidth\",b);e(\"refY\",h);e(\"markerHeight\",h);break;case \"radialGradient\":e(\"fx\",b);e(\"fy\",h);break;case \"tspan\":e(\"dx\",b);e(\"dy\",h);break;default:e(a,\n",
       "b)}f.removeChild(B);return d}function q(c){y(c,\"array\")||(c=Array.prototype.slice.call(arguments,0));for(var a=0,b=0,m=this.node;this[a];)delete this[a++];for(a=0;a<c.length;a++)\"set\"==c[a].type?c[a].forEach(function(c){m.appendChild(c.node)}):m.appendChild(c[a].node);for(var h=m.childNodes,a=0;a<h.length;a++)this[b++]=x(h[a]);return this}function e(c){if(c.snap in E)return E[c.snap];var a=this.id=V(),b;try{b=c.ownerSVGElement}catch(m){}this.node=c;b&&(this.paper=new s(b));this.type=c.tagName;this.anims=\n",
       "{};this._={transform:[]};c.snap=a;E[a]=this;\"g\"==this.type&&(this.add=q);if(this.type in{g:1,mask:1,pattern:1})for(var e in s.prototype)s.prototype[h](e)&&(this[e]=s.prototype[e])}function l(c){this.node=c}function r(c,a){var b=v(c);a.appendChild(b);return x(b)}function s(c,a){var b,m,f,d=s.prototype;if(c&&\"svg\"==c.tagName){if(c.snap in E)return E[c.snap];var l=c.ownerDocument;b=new e(c);m=c.getElementsByTagName(\"desc\")[0];f=c.getElementsByTagName(\"defs\")[0];m||(m=v(\"desc\"),m.appendChild(l.createTextNode(\"Created with Snap\")),\n",
       "b.node.appendChild(m));f||(f=v(\"defs\"),b.node.appendChild(f));b.defs=f;for(var ca in d)d[h](ca)&&(b[ca]=d[ca]);b.paper=b.root=b}else b=r(\"svg\",G.doc.body),v(b.node,{height:a,version:1.1,width:c,xmlns:la});return b}function x(c){return!c||c instanceof e||c instanceof l?c:c.tagName&&\"svg\"==c.tagName.toLowerCase()?new s(c):c.tagName&&\"object\"==c.tagName.toLowerCase()&&\"image/svg+xml\"==c.type?new s(c.contentDocument.getElementsByTagName(\"svg\")[0]):new e(c)}a.version=\"0.3.0\";a.toString=function(){return\"Snap v\"+\n",
       "this.version};a._={};var G={win:N,doc:N.document};a._.glob=G;var h=\"hasOwnProperty\",J=String,K=parseFloat,U=parseInt,I=Math,P=I.max,Q=I.min,Y=I.abs,C=I.PI,aa=\"\",$=Object.prototype.toString,F=/^\\s*((#[a-f\\d]{6})|(#[a-f\\d]{3})|rgba?\\(\\s*([\\d\\.]+%?\\s*,\\s*[\\d\\.]+%?\\s*,\\s*[\\d\\.]+%?(?:\\s*,\\s*[\\d\\.]+%?)?)\\s*\\)|hsba?\\(\\s*([\\d\\.]+(?:deg|\\xb0|%)?\\s*,\\s*[\\d\\.]+%?\\s*,\\s*[\\d\\.]+(?:%?\\s*,\\s*[\\d\\.]+)?%?)\\s*\\)|hsla?\\(\\s*([\\d\\.]+(?:deg|\\xb0|%)?\\s*,\\s*[\\d\\.]+%?\\s*,\\s*[\\d\\.]+(?:%?\\s*,\\s*[\\d\\.]+)?%?)\\s*\\))\\s*$/i;a._.separator=\n",
       "RegExp(\"[,\\t\\n\\x0B\\f\\r \\u00a0\\u1680\\u180e\\u2000\\u2001\\u2002\\u2003\\u2004\\u2005\\u2006\\u2007\\u2008\\u2009\\u200a\\u202f\\u205f\\u3000\\u2028\\u2029]+\");var S=RegExp(\"[\\t\\n\\x0B\\f\\r \\u00a0\\u1680\\u180e\\u2000\\u2001\\u2002\\u2003\\u2004\\u2005\\u2006\\u2007\\u2008\\u2009\\u200a\\u202f\\u205f\\u3000\\u2028\\u2029]*,[\\t\\n\\x0B\\f\\r \\u00a0\\u1680\\u180e\\u2000\\u2001\\u2002\\u2003\\u2004\\u2005\\u2006\\u2007\\u2008\\u2009\\u200a\\u202f\\u205f\\u3000\\u2028\\u2029]*\"),X={hs:1,rg:1},W=RegExp(\"([a-z])[\\t\\n\\x0B\\f\\r \\u00a0\\u1680\\u180e\\u2000\\u2001\\u2002\\u2003\\u2004\\u2005\\u2006\\u2007\\u2008\\u2009\\u200a\\u202f\\u205f\\u3000\\u2028\\u2029,]*((-?\\\\d*\\\\.?\\\\d*(?:e[\\\\-+]?\\\\d+)?[\\t\\n\\x0B\\f\\r \\u00a0\\u1680\\u180e\\u2000\\u2001\\u2002\\u2003\\u2004\\u2005\\u2006\\u2007\\u2008\\u2009\\u200a\\u202f\\u205f\\u3000\\u2028\\u2029]*,?[\\t\\n\\x0B\\f\\r \\u00a0\\u1680\\u180e\\u2000\\u2001\\u2002\\u2003\\u2004\\u2005\\u2006\\u2007\\u2008\\u2009\\u200a\\u202f\\u205f\\u3000\\u2028\\u2029]*)+)\",\n",
       "\"ig\"),ma=RegExp(\"([rstm])[\\t\\n\\x0B\\f\\r \\u00a0\\u1680\\u180e\\u2000\\u2001\\u2002\\u2003\\u2004\\u2005\\u2006\\u2007\\u2008\\u2009\\u200a\\u202f\\u205f\\u3000\\u2028\\u2029,]*((-?\\\\d*\\\\.?\\\\d*(?:e[\\\\-+]?\\\\d+)?[\\t\\n\\x0B\\f\\r \\u00a0\\u1680\\u180e\\u2000\\u2001\\u2002\\u2003\\u2004\\u2005\\u2006\\u2007\\u2008\\u2009\\u200a\\u202f\\u205f\\u3000\\u2028\\u2029]*,?[\\t\\n\\x0B\\f\\r \\u00a0\\u1680\\u180e\\u2000\\u2001\\u2002\\u2003\\u2004\\u2005\\u2006\\u2007\\u2008\\u2009\\u200a\\u202f\\u205f\\u3000\\u2028\\u2029]*)+)\",\"ig\"),Z=RegExp(\"(-?\\\\d*\\\\.?\\\\d*(?:e[\\\\-+]?\\\\d+)?)[\\t\\n\\x0B\\f\\r \\u00a0\\u1680\\u180e\\u2000\\u2001\\u2002\\u2003\\u2004\\u2005\\u2006\\u2007\\u2008\\u2009\\u200a\\u202f\\u205f\\u3000\\u2028\\u2029]*,?[\\t\\n\\x0B\\f\\r \\u00a0\\u1680\\u180e\\u2000\\u2001\\u2002\\u2003\\u2004\\u2005\\u2006\\u2007\\u2008\\u2009\\u200a\\u202f\\u205f\\u3000\\u2028\\u2029]*\",\n",
       "\"ig\"),na=0,ba=\"S\"+(+new Date).toString(36),V=function(){return ba+(na++).toString(36)},m=\"http://www.w3.org/1999/xlink\",la=\"http://www.w3.org/2000/svg\",E={},ca=a.url=function(c){return\"url('#\"+c+\"')\"};a._.$=v;a._.id=V;a.format=function(){var c=/\\{([^\\}]+)\\}/g,a=/(?:(?:^|\\.)(.+?)(?=\\[|\\.|$|\\()|\\[('|\")(.+?)\\2\\])(\\(\\))?/g,b=function(c,b,m){var h=m;b.replace(a,function(c,a,b,m,t){a=a||m;h&&(a in h&&(h=h[a]),\"function\"==typeof h&&t&&(h=h()))});return h=(null==h||h==m?c:h)+\"\"};return function(a,m){return J(a).replace(c,\n",
       "function(c,a){return b(c,a,m)})}}();a._.clone=M;a._.cacher=A;a.rad=z;a.deg=function(c){return 180*c/C%360};a.angle=w;a.is=y;a.snapTo=function(c,a,b){b=y(b,\"finite\")?b:10;if(y(c,\"array\"))for(var m=c.length;m--;){if(Y(c[m]-a)<=b)return c[m]}else{c=+c;m=a%c;if(m<b)return a-m;if(m>c-b)return a-m+c}return a};a.getRGB=A(function(c){if(!c||(c=J(c)).indexOf(\"-\")+1)return{r:-1,g:-1,b:-1,hex:\"none\",error:1,toString:ka};if(\"none\"==c)return{r:-1,g:-1,b:-1,hex:\"none\",toString:ka};!X[h](c.toLowerCase().substring(0,\n",
       "2))&&\"#\"!=c.charAt()&&(c=T(c));if(!c)return{r:-1,g:-1,b:-1,hex:\"none\",error:1,toString:ka};var b,m,e,f,d;if(c=c.match(F)){c[2]&&(e=U(c[2].substring(5),16),m=U(c[2].substring(3,5),16),b=U(c[2].substring(1,3),16));c[3]&&(e=U((d=c[3].charAt(3))+d,16),m=U((d=c[3].charAt(2))+d,16),b=U((d=c[3].charAt(1))+d,16));c[4]&&(d=c[4].split(S),b=K(d[0]),\"%\"==d[0].slice(-1)&&(b*=2.55),m=K(d[1]),\"%\"==d[1].slice(-1)&&(m*=2.55),e=K(d[2]),\"%\"==d[2].slice(-1)&&(e*=2.55),\"rgba\"==c[1].toLowerCase().slice(0,4)&&(f=K(d[3])),\n",
       "d[3]&&\"%\"==d[3].slice(-1)&&(f/=100));if(c[5])return d=c[5].split(S),b=K(d[0]),\"%\"==d[0].slice(-1)&&(b/=100),m=K(d[1]),\"%\"==d[1].slice(-1)&&(m/=100),e=K(d[2]),\"%\"==d[2].slice(-1)&&(e/=100),\"deg\"!=d[0].slice(-3)&&\"\\u00b0\"!=d[0].slice(-1)||(b/=360),\"hsba\"==c[1].toLowerCase().slice(0,4)&&(f=K(d[3])),d[3]&&\"%\"==d[3].slice(-1)&&(f/=100),a.hsb2rgb(b,m,e,f);if(c[6])return d=c[6].split(S),b=K(d[0]),\"%\"==d[0].slice(-1)&&(b/=100),m=K(d[1]),\"%\"==d[1].slice(-1)&&(m/=100),e=K(d[2]),\"%\"==d[2].slice(-1)&&(e/=100),\n",
       "\"deg\"!=d[0].slice(-3)&&\"\\u00b0\"!=d[0].slice(-1)||(b/=360),\"hsla\"==c[1].toLowerCase().slice(0,4)&&(f=K(d[3])),d[3]&&\"%\"==d[3].slice(-1)&&(f/=100),a.hsl2rgb(b,m,e,f);b=Q(I.round(b),255);m=Q(I.round(m),255);e=Q(I.round(e),255);f=Q(P(f,0),1);c={r:b,g:m,b:e,toString:ka};c.hex=\"#\"+(16777216|e|m<<8|b<<16).toString(16).slice(1);c.opacity=y(f,\"finite\")?f:1;return c}return{r:-1,g:-1,b:-1,hex:\"none\",error:1,toString:ka}},a);a.hsb=A(function(c,b,m){return a.hsb2rgb(c,b,m).hex});a.hsl=A(function(c,b,m){return a.hsl2rgb(c,\n",
       "b,m).hex});a.rgb=A(function(c,a,b,m){if(y(m,\"finite\")){var e=I.round;return\"rgba(\"+[e(c),e(a),e(b),+m.toFixed(2)]+\")\"}return\"#\"+(16777216|b|a<<8|c<<16).toString(16).slice(1)});var T=function(c){var a=G.doc.getElementsByTagName(\"head\")[0]||G.doc.getElementsByTagName(\"svg\")[0];T=A(function(c){if(\"red\"==c.toLowerCase())return\"rgb(255, 0, 0)\";a.style.color=\"rgb(255, 0, 0)\";a.style.color=c;c=G.doc.defaultView.getComputedStyle(a,aa).getPropertyValue(\"color\");return\"rgb(255, 0, 0)\"==c?null:c});return T(c)},\n",
       "qa=function(){return\"hsb(\"+[this.h,this.s,this.b]+\")\"},ra=function(){return\"hsl(\"+[this.h,this.s,this.l]+\")\"},ka=function(){return 1==this.opacity||null==this.opacity?this.hex:\"rgba(\"+[this.r,this.g,this.b,this.opacity]+\")\"},D=function(c,b,m){null==b&&y(c,\"object\")&&\"r\"in c&&\"g\"in c&&\"b\"in c&&(m=c.b,b=c.g,c=c.r);null==b&&y(c,string)&&(m=a.getRGB(c),c=m.r,b=m.g,m=m.b);if(1<c||1<b||1<m)c/=255,b/=255,m/=255;return[c,b,m]},oa=function(c,b,m,e){c=I.round(255*c);b=I.round(255*b);m=I.round(255*m);c={r:c,\n",
       "g:b,b:m,opacity:y(e,\"finite\")?e:1,hex:a.rgb(c,b,m),toString:ka};y(e,\"finite\")&&(c.opacity=e);return c};a.color=function(c){var b;y(c,\"object\")&&\"h\"in c&&\"s\"in c&&\"b\"in c?(b=a.hsb2rgb(c),c.r=b.r,c.g=b.g,c.b=b.b,c.opacity=1,c.hex=b.hex):y(c,\"object\")&&\"h\"in c&&\"s\"in c&&\"l\"in c?(b=a.hsl2rgb(c),c.r=b.r,c.g=b.g,c.b=b.b,c.opacity=1,c.hex=b.hex):(y(c,\"string\")&&(c=a.getRGB(c)),y(c,\"object\")&&\"r\"in c&&\"g\"in c&&\"b\"in c&&!(\"error\"in c)?(b=a.rgb2hsl(c),c.h=b.h,c.s=b.s,c.l=b.l,b=a.rgb2hsb(c),c.v=b.b):(c={hex:\"none\"},\n",
       "c.r=c.g=c.b=c.h=c.s=c.v=c.l=-1,c.error=1));c.toString=ka;return c};a.hsb2rgb=function(c,a,b,m){y(c,\"object\")&&\"h\"in c&&\"s\"in c&&\"b\"in c&&(b=c.b,a=c.s,c=c.h,m=c.o);var e,h,d;c=360*c%360/60;d=b*a;a=d*(1-Y(c%2-1));b=e=h=b-d;c=~~c;b+=[d,a,0,0,a,d][c];e+=[a,d,d,a,0,0][c];h+=[0,0,a,d,d,a][c];return oa(b,e,h,m)};a.hsl2rgb=function(c,a,b,m){y(c,\"object\")&&\"h\"in c&&\"s\"in c&&\"l\"in c&&(b=c.l,a=c.s,c=c.h);if(1<c||1<a||1<b)c/=360,a/=100,b/=100;var e,h,d;c=360*c%360/60;d=2*a*(0.5>b?b:1-b);a=d*(1-Y(c%2-1));b=e=\n",
       "h=b-d/2;c=~~c;b+=[d,a,0,0,a,d][c];e+=[a,d,d,a,0,0][c];h+=[0,0,a,d,d,a][c];return oa(b,e,h,m)};a.rgb2hsb=function(c,a,b){b=D(c,a,b);c=b[0];a=b[1];b=b[2];var m,e;m=P(c,a,b);e=m-Q(c,a,b);c=((0==e?0:m==c?(a-b)/e:m==a?(b-c)/e+2:(c-a)/e+4)+360)%6*60/360;return{h:c,s:0==e?0:e/m,b:m,toString:qa}};a.rgb2hsl=function(c,a,b){b=D(c,a,b);c=b[0];a=b[1];b=b[2];var m,e,h;m=P(c,a,b);e=Q(c,a,b);h=m-e;c=((0==h?0:m==c?(a-b)/h:m==a?(b-c)/h+2:(c-a)/h+4)+360)%6*60/360;m=(m+e)/2;return{h:c,s:0==h?0:0.5>m?h/(2*m):h/(2-2*\n",
       "m),l:m,toString:ra}};a.parsePathString=function(c){if(!c)return null;var b=a.path(c);if(b.arr)return a.path.clone(b.arr);var m={a:7,c:6,o:2,h:1,l:2,m:2,r:4,q:4,s:4,t:2,v:1,u:3,z:0},e=[];y(c,\"array\")&&y(c[0],\"array\")&&(e=a.path.clone(c));e.length||J(c).replace(W,function(c,a,b){var h=[];c=a.toLowerCase();b.replace(Z,function(c,a){a&&h.push(+a)});\"m\"==c&&2<h.length&&(e.push([a].concat(h.splice(0,2))),c=\"l\",a=\"m\"==a?\"l\":\"L\");\"o\"==c&&1==h.length&&e.push([a,h[0] ]);if(\"r\"==c)e.push([a].concat(h));else for(;h.length>=\n",
       "m[c]&&(e.push([a].concat(h.splice(0,m[c]))),m[c]););});e.toString=a.path.toString;b.arr=a.path.clone(e);return e};var O=a.parseTransformString=function(c){if(!c)return null;var b=[];y(c,\"array\")&&y(c[0],\"array\")&&(b=a.path.clone(c));b.length||J(c).replace(ma,function(c,a,m){var e=[];a.toLowerCase();m.replace(Z,function(c,a){a&&e.push(+a)});b.push([a].concat(e))});b.toString=a.path.toString;return b};a._.svgTransform2string=d;a._.rgTransform=RegExp(\"^[a-z][\\t\\n\\x0B\\f\\r \\u00a0\\u1680\\u180e\\u2000\\u2001\\u2002\\u2003\\u2004\\u2005\\u2006\\u2007\\u2008\\u2009\\u200a\\u202f\\u205f\\u3000\\u2028\\u2029]*-?\\\\.?\\\\d\",\n",
       "\"i\");a._.transform2matrix=f;a._unit2px=b;a._.getSomeDefs=u;a._.getSomeSVG=p;a.select=function(c){return x(G.doc.querySelector(c))};a.selectAll=function(c){c=G.doc.querySelectorAll(c);for(var b=(a.set||Array)(),m=0;m<c.length;m++)b.push(x(c[m]));return b};setInterval(function(){for(var c in E)if(E[h](c)){var a=E[c],b=a.node;(\"svg\"!=a.type&&!b.ownerSVGElement||\"svg\"==a.type&&(!b.parentNode||\"ownerSVGElement\"in b.parentNode&&!b.ownerSVGElement))&&delete E[c]}},1E4);(function(c){function m(c){function a(c,\n",
       "b){var m=v(c.node,b);(m=(m=m&&m.match(d))&&m[2])&&\"#\"==m.charAt()&&(m=m.substring(1))&&(f[m]=(f[m]||[]).concat(function(a){var m={};m[b]=ca(a);v(c.node,m)}))}function b(c){var a=v(c.node,\"xlink:href\");a&&\"#\"==a.charAt()&&(a=a.substring(1))&&(f[a]=(f[a]||[]).concat(function(a){c.attr(\"xlink:href\",\"#\"+a)}))}var e=c.selectAll(\"*\"),h,d=/^\\s*url\\((\"|'|)(.*)\\1\\)\\s*$/;c=[];for(var f={},l=0,E=e.length;l<E;l++){h=e[l];a(h,\"fill\");a(h,\"stroke\");a(h,\"filter\");a(h,\"mask\");a(h,\"clip-path\");b(h);var t=v(h.node,\n",
       "\"id\");t&&(v(h.node,{id:h.id}),c.push({old:t,id:h.id}))}l=0;for(E=c.length;l<E;l++)if(e=f[c[l].old])for(h=0,t=e.length;h<t;h++)e[h](c[l].id)}function e(c,a,b){return function(m){m=m.slice(c,a);1==m.length&&(m=m[0]);return b?b(m):m}}function d(c){return function(){var a=c?\"<\"+this.type:\"\",b=this.node.attributes,m=this.node.childNodes;if(c)for(var e=0,h=b.length;e<h;e++)a+=\" \"+b[e].name+'=\"'+b[e].value.replace(/\"/g,'\\\\\"')+'\"';if(m.length){c&&(a+=\">\");e=0;for(h=m.length;e<h;e++)3==m[e].nodeType?a+=m[e].nodeValue:\n",
       "1==m[e].nodeType&&(a+=x(m[e]).toString());c&&(a+=\"</\"+this.type+\">\")}else c&&(a+=\"/>\");return a}}c.attr=function(c,a){if(!c)return this;if(y(c,\"string\"))if(1<arguments.length){var b={};b[c]=a;c=b}else return k(\"snap.util.getattr.\"+c,this).firstDefined();for(var m in c)c[h](m)&&k(\"snap.util.attr.\"+m,this,c[m]);return this};c.getBBox=function(c){if(!a.Matrix||!a.path)return this.node.getBBox();var b=this,m=new a.Matrix;if(b.removed)return a._.box();for(;\"use\"==b.type;)if(c||(m=m.add(b.transform().localMatrix.translate(b.attr(\"x\")||\n",
       "0,b.attr(\"y\")||0))),b.original)b=b.original;else var e=b.attr(\"xlink:href\"),b=b.original=b.node.ownerDocument.getElementById(e.substring(e.indexOf(\"#\")+1));var e=b._,h=a.path.get[b.type]||a.path.get.deflt;try{if(c)return e.bboxwt=h?a.path.getBBox(b.realPath=h(b)):a._.box(b.node.getBBox()),a._.box(e.bboxwt);b.realPath=h(b);b.matrix=b.transform().localMatrix;e.bbox=a.path.getBBox(a.path.map(b.realPath,m.add(b.matrix)));return a._.box(e.bbox)}catch(d){return a._.box()}};var f=function(){return this.string};\n",
       "c.transform=function(c){var b=this._;if(null==c){var m=this;c=new a.Matrix(this.node.getCTM());for(var e=n(this),h=[e],d=new a.Matrix,l=e.toTransformString(),b=J(e)==J(this.matrix)?J(b.transform):l;\"svg\"!=m.type&&(m=m.parent());)h.push(n(m));for(m=h.length;m--;)d.add(h[m]);return{string:b,globalMatrix:c,totalMatrix:d,localMatrix:e,diffMatrix:c.clone().add(e.invert()),global:c.toTransformString(),total:d.toTransformString(),local:l,toString:f}}c instanceof a.Matrix?this.matrix=c:n(this,c);this.node&&\n",
       "(\"linearGradient\"==this.type||\"radialGradient\"==this.type?v(this.node,{gradientTransform:this.matrix}):\"pattern\"==this.type?v(this.node,{patternTransform:this.matrix}):v(this.node,{transform:this.matrix}));return this};c.parent=function(){return x(this.node.parentNode)};c.append=c.add=function(c){if(c){if(\"set\"==c.type){var a=this;c.forEach(function(c){a.add(c)});return this}c=x(c);this.node.appendChild(c.node);c.paper=this.paper}return this};c.appendTo=function(c){c&&(c=x(c),c.append(this));return this};\n",
       "c.prepend=function(c){if(c){if(\"set\"==c.type){var a=this,b;c.forEach(function(c){b?b.after(c):a.prepend(c);b=c});return this}c=x(c);var m=c.parent();this.node.insertBefore(c.node,this.node.firstChild);this.add&&this.add();c.paper=this.paper;this.parent()&&this.parent().add();m&&m.add()}return this};c.prependTo=function(c){c=x(c);c.prepend(this);return this};c.before=function(c){if(\"set\"==c.type){var a=this;c.forEach(function(c){var b=c.parent();a.node.parentNode.insertBefore(c.node,a.node);b&&b.add()});\n",
       "this.parent().add();return this}c=x(c);var b=c.parent();this.node.parentNode.insertBefore(c.node,this.node);this.parent()&&this.parent().add();b&&b.add();c.paper=this.paper;return this};c.after=function(c){c=x(c);var a=c.parent();this.node.nextSibling?this.node.parentNode.insertBefore(c.node,this.node.nextSibling):this.node.parentNode.appendChild(c.node);this.parent()&&this.parent().add();a&&a.add();c.paper=this.paper;return this};c.insertBefore=function(c){c=x(c);var a=this.parent();c.node.parentNode.insertBefore(this.node,\n",
       "c.node);this.paper=c.paper;a&&a.add();c.parent()&&c.parent().add();return this};c.insertAfter=function(c){c=x(c);var a=this.parent();c.node.parentNode.insertBefore(this.node,c.node.nextSibling);this.paper=c.paper;a&&a.add();c.parent()&&c.parent().add();return this};c.remove=function(){var c=this.parent();this.node.parentNode&&this.node.parentNode.removeChild(this.node);delete this.paper;this.removed=!0;c&&c.add();return this};c.select=function(c){return x(this.node.querySelector(c))};c.selectAll=\n",
       "function(c){c=this.node.querySelectorAll(c);for(var b=(a.set||Array)(),m=0;m<c.length;m++)b.push(x(c[m]));return b};c.asPX=function(c,a){null==a&&(a=this.attr(c));return+b(this,c,a)};c.use=function(){var c,a=this.node.id;a||(a=this.id,v(this.node,{id:a}));c=\"linearGradient\"==this.type||\"radialGradient\"==this.type||\"pattern\"==this.type?r(this.type,this.node.parentNode):r(\"use\",this.node.parentNode);v(c.node,{\"xlink:href\":\"#\"+a});c.original=this;return c};var l=/\\S+/g;c.addClass=function(c){var a=(c||\n",
       "\"\").match(l)||[];c=this.node;var b=c.className.baseVal,m=b.match(l)||[],e,h,d;if(a.length){for(e=0;d=a[e++];)h=m.indexOf(d),~h||m.push(d);a=m.join(\" \");b!=a&&(c.className.baseVal=a)}return this};c.removeClass=function(c){var a=(c||\"\").match(l)||[];c=this.node;var b=c.className.baseVal,m=b.match(l)||[],e,h;if(m.length){for(e=0;h=a[e++];)h=m.indexOf(h),~h&&m.splice(h,1);a=m.join(\" \");b!=a&&(c.className.baseVal=a)}return this};c.hasClass=function(c){return!!~(this.node.className.baseVal.match(l)||[]).indexOf(c)};\n",
       "c.toggleClass=function(c,a){if(null!=a)return a?this.addClass(c):this.removeClass(c);var b=(c||\"\").match(l)||[],m=this.node,e=m.className.baseVal,h=e.match(l)||[],d,f,E;for(d=0;E=b[d++];)f=h.indexOf(E),~f?h.splice(f,1):h.push(E);b=h.join(\" \");e!=b&&(m.className.baseVal=b);return this};c.clone=function(){var c=x(this.node.cloneNode(!0));v(c.node,\"id\")&&v(c.node,{id:c.id});m(c);c.insertAfter(this);return c};c.toDefs=function(){u(this).appendChild(this.node);return this};c.pattern=c.toPattern=function(c,\n",
       "a,b,m){var e=r(\"pattern\",u(this));null==c&&(c=this.getBBox());y(c,\"object\")&&\"x\"in c&&(a=c.y,b=c.width,m=c.height,c=c.x);v(e.node,{x:c,y:a,width:b,height:m,patternUnits:\"userSpaceOnUse\",id:e.id,viewBox:[c,a,b,m].join(\" \")});e.node.appendChild(this.node);return e};c.marker=function(c,a,b,m,e,h){var d=r(\"marker\",u(this));null==c&&(c=this.getBBox());y(c,\"object\")&&\"x\"in c&&(a=c.y,b=c.width,m=c.height,e=c.refX||c.cx,h=c.refY||c.cy,c=c.x);v(d.node,{viewBox:[c,a,b,m].join(\" \"),markerWidth:b,markerHeight:m,\n",
       "orient:\"auto\",refX:e||0,refY:h||0,id:d.id});d.node.appendChild(this.node);return d};var E=function(c,a,b,m){\"function\"!=typeof b||b.length||(m=b,b=L.linear);this.attr=c;this.dur=a;b&&(this.easing=b);m&&(this.callback=m)};a._.Animation=E;a.animation=function(c,a,b,m){return new E(c,a,b,m)};c.inAnim=function(){var c=[],a;for(a in this.anims)this.anims[h](a)&&function(a){c.push({anim:new E(a._attrs,a.dur,a.easing,a._callback),mina:a,curStatus:a.status(),status:function(c){return a.status(c)},stop:function(){a.stop()}})}(this.anims[a]);\n",
       "return c};a.animate=function(c,a,b,m,e,h){\"function\"!=typeof e||e.length||(h=e,e=L.linear);var d=L.time();c=L(c,a,d,d+m,L.time,b,e);h&&k.once(\"mina.finish.\"+c.id,h);return c};c.stop=function(){for(var c=this.inAnim(),a=0,b=c.length;a<b;a++)c[a].stop();return this};c.animate=function(c,a,b,m){\"function\"!=typeof b||b.length||(m=b,b=L.linear);c instanceof E&&(m=c.callback,b=c.easing,a=b.dur,c=c.attr);var d=[],f=[],l={},t,ca,n,T=this,q;for(q in c)if(c[h](q)){T.equal?(n=T.equal(q,J(c[q])),t=n.from,ca=\n",
       "n.to,n=n.f):(t=+T.attr(q),ca=+c[q]);var la=y(t,\"array\")?t.length:1;l[q]=e(d.length,d.length+la,n);d=d.concat(t);f=f.concat(ca)}t=L.time();var p=L(d,f,t,t+a,L.time,function(c){var a={},b;for(b in l)l[h](b)&&(a[b]=l[b](c));T.attr(a)},b);T.anims[p.id]=p;p._attrs=c;p._callback=m;k(\"snap.animcreated.\"+T.id,p);k.once(\"mina.finish.\"+p.id,function(){delete T.anims[p.id];m&&m.call(T)});k.once(\"mina.stop.\"+p.id,function(){delete T.anims[p.id]});return T};var T={};c.data=function(c,b){var m=T[this.id]=T[this.id]||\n",
       "{};if(0==arguments.length)return k(\"snap.data.get.\"+this.id,this,m,null),m;if(1==arguments.length){if(a.is(c,\"object\")){for(var e in c)c[h](e)&&this.data(e,c[e]);return this}k(\"snap.data.get.\"+this.id,this,m[c],c);return m[c]}m[c]=b;k(\"snap.data.set.\"+this.id,this,b,c);return this};c.removeData=function(c){null==c?T[this.id]={}:T[this.id]&&delete T[this.id][c];return this};c.outerSVG=c.toString=d(1);c.innerSVG=d()})(e.prototype);a.parse=function(c){var a=G.doc.createDocumentFragment(),b=!0,m=G.doc.createElement(\"div\");\n",
       "c=J(c);c.match(/^\\s*<\\s*svg(?:\\s|>)/)||(c=\"<svg>\"+c+\"</svg>\",b=!1);m.innerHTML=c;if(c=m.getElementsByTagName(\"svg\")[0])if(b)a=c;else for(;c.firstChild;)a.appendChild(c.firstChild);m.innerHTML=aa;return new l(a)};l.prototype.select=e.prototype.select;l.prototype.selectAll=e.prototype.selectAll;a.fragment=function(){for(var c=Array.prototype.slice.call(arguments,0),b=G.doc.createDocumentFragment(),m=0,e=c.length;m<e;m++){var h=c[m];h.node&&h.node.nodeType&&b.appendChild(h.node);h.nodeType&&b.appendChild(h);\n",
       "\"string\"==typeof h&&b.appendChild(a.parse(h).node)}return new l(b)};a._.make=r;a._.wrap=x;s.prototype.el=function(c,a){var b=r(c,this.node);a&&b.attr(a);return b};k.on(\"snap.util.getattr\",function(){var c=k.nt(),c=c.substring(c.lastIndexOf(\".\")+1),a=c.replace(/[A-Z]/g,function(c){return\"-\"+c.toLowerCase()});return pa[h](a)?this.node.ownerDocument.defaultView.getComputedStyle(this.node,null).getPropertyValue(a):v(this.node,c)});var pa={\"alignment-baseline\":0,\"baseline-shift\":0,clip:0,\"clip-path\":0,\n",
       "\"clip-rule\":0,color:0,\"color-interpolation\":0,\"color-interpolation-filters\":0,\"color-profile\":0,\"color-rendering\":0,cursor:0,direction:0,display:0,\"dominant-baseline\":0,\"enable-background\":0,fill:0,\"fill-opacity\":0,\"fill-rule\":0,filter:0,\"flood-color\":0,\"flood-opacity\":0,font:0,\"font-family\":0,\"font-size\":0,\"font-size-adjust\":0,\"font-stretch\":0,\"font-style\":0,\"font-variant\":0,\"font-weight\":0,\"glyph-orientation-horizontal\":0,\"glyph-orientation-vertical\":0,\"image-rendering\":0,kerning:0,\"letter-spacing\":0,\n",
       "\"lighting-color\":0,marker:0,\"marker-end\":0,\"marker-mid\":0,\"marker-start\":0,mask:0,opacity:0,overflow:0,\"pointer-events\":0,\"shape-rendering\":0,\"stop-color\":0,\"stop-opacity\":0,stroke:0,\"stroke-dasharray\":0,\"stroke-dashoffset\":0,\"stroke-linecap\":0,\"stroke-linejoin\":0,\"stroke-miterlimit\":0,\"stroke-opacity\":0,\"stroke-width\":0,\"text-anchor\":0,\"text-decoration\":0,\"text-rendering\":0,\"unicode-bidi\":0,visibility:0,\"word-spacing\":0,\"writing-mode\":0};k.on(\"snap.util.attr\",function(c){var a=k.nt(),b={},a=a.substring(a.lastIndexOf(\".\")+\n",
       "1);b[a]=c;var m=a.replace(/-(\\w)/gi,function(c,a){return a.toUpperCase()}),a=a.replace(/[A-Z]/g,function(c){return\"-\"+c.toLowerCase()});pa[h](a)?this.node.style[m]=null==c?aa:c:v(this.node,b)});a.ajax=function(c,a,b,m){var e=new XMLHttpRequest,h=V();if(e){if(y(a,\"function\"))m=b,b=a,a=null;else if(y(a,\"object\")){var d=[],f;for(f in a)a.hasOwnProperty(f)&&d.push(encodeURIComponent(f)+\"=\"+encodeURIComponent(a[f]));a=d.join(\"&\")}e.open(a?\"POST\":\"GET\",c,!0);a&&(e.setRequestHeader(\"X-Requested-With\",\"XMLHttpRequest\"),\n",
       "e.setRequestHeader(\"Content-type\",\"application/x-www-form-urlencoded\"));b&&(k.once(\"snap.ajax.\"+h+\".0\",b),k.once(\"snap.ajax.\"+h+\".200\",b),k.once(\"snap.ajax.\"+h+\".304\",b));e.onreadystatechange=function(){4==e.readyState&&k(\"snap.ajax.\"+h+\".\"+e.status,m,e)};if(4==e.readyState)return e;e.send(a);return e}};a.load=function(c,b,m){a.ajax(c,function(c){c=a.parse(c.responseText);m?b.call(m,c):b(c)})};a.getElementByPoint=function(c,a){var b,m,e=G.doc.elementFromPoint(c,a);if(G.win.opera&&\"svg\"==e.tagName){b=\n",
       "e;m=b.getBoundingClientRect();b=b.ownerDocument;var h=b.body,d=b.documentElement;b=m.top+(g.win.pageYOffset||d.scrollTop||h.scrollTop)-(d.clientTop||h.clientTop||0);m=m.left+(g.win.pageXOffset||d.scrollLeft||h.scrollLeft)-(d.clientLeft||h.clientLeft||0);h=e.createSVGRect();h.x=c-m;h.y=a-b;h.width=h.height=1;b=e.getIntersectionList(h,null);b.length&&(e=b[b.length-1])}return e?x(e):null};a.plugin=function(c){c(a,e,s,G,l)};return G.win.Snap=a}();C.plugin(function(a,k,y,M,A){function w(a,d,f,b,q,e){null==\n",
       "d&&\"[object SVGMatrix]\"==z.call(a)?(this.a=a.a,this.b=a.b,this.c=a.c,this.d=a.d,this.e=a.e,this.f=a.f):null!=a?(this.a=+a,this.b=+d,this.c=+f,this.d=+b,this.e=+q,this.f=+e):(this.a=1,this.c=this.b=0,this.d=1,this.f=this.e=0)}var z=Object.prototype.toString,d=String,f=Math;(function(n){function k(a){return a[0]*a[0]+a[1]*a[1]}function p(a){var d=f.sqrt(k(a));a[0]&&(a[0]/=d);a[1]&&(a[1]/=d)}n.add=function(a,d,e,f,n,p){var k=[[],[],[] ],u=[[this.a,this.c,this.e],[this.b,this.d,this.f],[0,0,1] ];d=[[a,\n",
       "e,n],[d,f,p],[0,0,1] ];a&&a instanceof w&&(d=[[a.a,a.c,a.e],[a.b,a.d,a.f],[0,0,1] ]);for(a=0;3>a;a++)for(e=0;3>e;e++){for(f=n=0;3>f;f++)n+=u[a][f]*d[f][e];k[a][e]=n}this.a=k[0][0];this.b=k[1][0];this.c=k[0][1];this.d=k[1][1];this.e=k[0][2];this.f=k[1][2];return this};n.invert=function(){var a=this.a*this.d-this.b*this.c;return new w(this.d/a,-this.b/a,-this.c/a,this.a/a,(this.c*this.f-this.d*this.e)/a,(this.b*this.e-this.a*this.f)/a)};n.clone=function(){return new w(this.a,this.b,this.c,this.d,this.e,\n",
       "this.f)};n.translate=function(a,d){return this.add(1,0,0,1,a,d)};n.scale=function(a,d,e,f){null==d&&(d=a);(e||f)&&this.add(1,0,0,1,e,f);this.add(a,0,0,d,0,0);(e||f)&&this.add(1,0,0,1,-e,-f);return this};n.rotate=function(b,d,e){b=a.rad(b);d=d||0;e=e||0;var l=+f.cos(b).toFixed(9);b=+f.sin(b).toFixed(9);this.add(l,b,-b,l,d,e);return this.add(1,0,0,1,-d,-e)};n.x=function(a,d){return a*this.a+d*this.c+this.e};n.y=function(a,d){return a*this.b+d*this.d+this.f};n.get=function(a){return+this[d.fromCharCode(97+\n",
       "a)].toFixed(4)};n.toString=function(){return\"matrix(\"+[this.get(0),this.get(1),this.get(2),this.get(3),this.get(4),this.get(5)].join()+\")\"};n.offset=function(){return[this.e.toFixed(4),this.f.toFixed(4)]};n.determinant=function(){return this.a*this.d-this.b*this.c};n.split=function(){var b={};b.dx=this.e;b.dy=this.f;var d=[[this.a,this.c],[this.b,this.d] ];b.scalex=f.sqrt(k(d[0]));p(d[0]);b.shear=d[0][0]*d[1][0]+d[0][1]*d[1][1];d[1]=[d[1][0]-d[0][0]*b.shear,d[1][1]-d[0][1]*b.shear];b.scaley=f.sqrt(k(d[1]));\n",
       "p(d[1]);b.shear/=b.scaley;0>this.determinant()&&(b.scalex=-b.scalex);var e=-d[0][1],d=d[1][1];0>d?(b.rotate=a.deg(f.acos(d)),0>e&&(b.rotate=360-b.rotate)):b.rotate=a.deg(f.asin(e));b.isSimple=!+b.shear.toFixed(9)&&(b.scalex.toFixed(9)==b.scaley.toFixed(9)||!b.rotate);b.isSuperSimple=!+b.shear.toFixed(9)&&b.scalex.toFixed(9)==b.scaley.toFixed(9)&&!b.rotate;b.noRotation=!+b.shear.toFixed(9)&&!b.rotate;return b};n.toTransformString=function(a){a=a||this.split();if(+a.shear.toFixed(9))return\"m\"+[this.get(0),\n",
       "this.get(1),this.get(2),this.get(3),this.get(4),this.get(5)];a.scalex=+a.scalex.toFixed(4);a.scaley=+a.scaley.toFixed(4);a.rotate=+a.rotate.toFixed(4);return(a.dx||a.dy?\"t\"+[+a.dx.toFixed(4),+a.dy.toFixed(4)]:\"\")+(1!=a.scalex||1!=a.scaley?\"s\"+[a.scalex,a.scaley,0,0]:\"\")+(a.rotate?\"r\"+[+a.rotate.toFixed(4),0,0]:\"\")}})(w.prototype);a.Matrix=w;a.matrix=function(a,d,f,b,k,e){return new w(a,d,f,b,k,e)}});C.plugin(function(a,v,y,M,A){function w(h){return function(d){k.stop();d instanceof A&&1==d.node.childNodes.length&&\n",
       "(\"radialGradient\"==d.node.firstChild.tagName||\"linearGradient\"==d.node.firstChild.tagName||\"pattern\"==d.node.firstChild.tagName)&&(d=d.node.firstChild,b(this).appendChild(d),d=u(d));if(d instanceof v)if(\"radialGradient\"==d.type||\"linearGradient\"==d.type||\"pattern\"==d.type){d.node.id||e(d.node,{id:d.id});var f=l(d.node.id)}else f=d.attr(h);else f=a.color(d),f.error?(f=a(b(this).ownerSVGElement).gradient(d))?(f.node.id||e(f.node,{id:f.id}),f=l(f.node.id)):f=d:f=r(f);d={};d[h]=f;e(this.node,d);this.node.style[h]=\n",
       "x}}function z(a){k.stop();a==+a&&(a+=\"px\");this.node.style.fontSize=a}function d(a){var b=[];a=a.childNodes;for(var e=0,f=a.length;e<f;e++){var l=a[e];3==l.nodeType&&b.push(l.nodeValue);\"tspan\"==l.tagName&&(1==l.childNodes.length&&3==l.firstChild.nodeType?b.push(l.firstChild.nodeValue):b.push(d(l)))}return b}function f(){k.stop();return this.node.style.fontSize}var n=a._.make,u=a._.wrap,p=a.is,b=a._.getSomeDefs,q=/^url\\(#?([^)]+)\\)$/,e=a._.$,l=a.url,r=String,s=a._.separator,x=\"\";k.on(\"snap.util.attr.mask\",\n",
       "function(a){if(a instanceof v||a instanceof A){k.stop();a instanceof A&&1==a.node.childNodes.length&&(a=a.node.firstChild,b(this).appendChild(a),a=u(a));if(\"mask\"==a.type)var d=a;else d=n(\"mask\",b(this)),d.node.appendChild(a.node);!d.node.id&&e(d.node,{id:d.id});e(this.node,{mask:l(d.id)})}});(function(a){k.on(\"snap.util.attr.clip\",a);k.on(\"snap.util.attr.clip-path\",a);k.on(\"snap.util.attr.clipPath\",a)})(function(a){if(a instanceof v||a instanceof A){k.stop();if(\"clipPath\"==a.type)var d=a;else d=\n",
       "n(\"clipPath\",b(this)),d.node.appendChild(a.node),!d.node.id&&e(d.node,{id:d.id});e(this.node,{\"clip-path\":l(d.id)})}});k.on(\"snap.util.attr.fill\",w(\"fill\"));k.on(\"snap.util.attr.stroke\",w(\"stroke\"));var G=/^([lr])(?:\\(([^)]*)\\))?(.*)$/i;k.on(\"snap.util.grad.parse\",function(a){a=r(a);var b=a.match(G);if(!b)return null;a=b[1];var e=b[2],b=b[3],e=e.split(/\\s*,\\s*/).map(function(a){return+a==a?+a:a});1==e.length&&0==e[0]&&(e=[]);b=b.split(\"-\");b=b.map(function(a){a=a.split(\":\");var b={color:a[0]};a[1]&&\n",
       "(b.offset=parseFloat(a[1]));return b});return{type:a,params:e,stops:b}});k.on(\"snap.util.attr.d\",function(b){k.stop();p(b,\"array\")&&p(b[0],\"array\")&&(b=a.path.toString.call(b));b=r(b);b.match(/[ruo]/i)&&(b=a.path.toAbsolute(b));e(this.node,{d:b})})(-1);k.on(\"snap.util.attr.#text\",function(a){k.stop();a=r(a);for(a=M.doc.createTextNode(a);this.node.firstChild;)this.node.removeChild(this.node.firstChild);this.node.appendChild(a)})(-1);k.on(\"snap.util.attr.path\",function(a){k.stop();this.attr({d:a})})(-1);\n",
       "k.on(\"snap.util.attr.class\",function(a){k.stop();this.node.className.baseVal=a})(-1);k.on(\"snap.util.attr.viewBox\",function(a){a=p(a,\"object\")&&\"x\"in a?[a.x,a.y,a.width,a.height].join(\" \"):p(a,\"array\")?a.join(\" \"):a;e(this.node,{viewBox:a});k.stop()})(-1);k.on(\"snap.util.attr.transform\",function(a){this.transform(a);k.stop()})(-1);k.on(\"snap.util.attr.r\",function(a){\"rect\"==this.type&&(k.stop(),e(this.node,{rx:a,ry:a}))})(-1);k.on(\"snap.util.attr.textpath\",function(a){k.stop();if(\"text\"==this.type){var d,\n",
       "f;if(!a&&this.textPath){for(a=this.textPath;a.node.firstChild;)this.node.appendChild(a.node.firstChild);a.remove();delete this.textPath}else if(p(a,\"string\")?(d=b(this),a=u(d.parentNode).path(a),d.appendChild(a.node),d=a.id,a.attr({id:d})):(a=u(a),a instanceof v&&(d=a.attr(\"id\"),d||(d=a.id,a.attr({id:d})))),d)if(a=this.textPath,f=this.node,a)a.attr({\"xlink:href\":\"#\"+d});else{for(a=e(\"textPath\",{\"xlink:href\":\"#\"+d});f.firstChild;)a.appendChild(f.firstChild);f.appendChild(a);this.textPath=u(a)}}})(-1);\n",
       "k.on(\"snap.util.attr.text\",function(a){if(\"text\"==this.type){for(var b=this.node,d=function(a){var b=e(\"tspan\");if(p(a,\"array\"))for(var f=0;f<a.length;f++)b.appendChild(d(a[f]));else b.appendChild(M.doc.createTextNode(a));b.normalize&&b.normalize();return b};b.firstChild;)b.removeChild(b.firstChild);for(a=d(a);a.firstChild;)b.appendChild(a.firstChild)}k.stop()})(-1);k.on(\"snap.util.attr.fontSize\",z)(-1);k.on(\"snap.util.attr.font-size\",z)(-1);k.on(\"snap.util.getattr.transform\",function(){k.stop();\n",
       "return this.transform()})(-1);k.on(\"snap.util.getattr.textpath\",function(){k.stop();return this.textPath})(-1);(function(){function b(d){return function(){k.stop();var b=M.doc.defaultView.getComputedStyle(this.node,null).getPropertyValue(\"marker-\"+d);return\"none\"==b?b:a(M.doc.getElementById(b.match(q)[1]))}}function d(a){return function(b){k.stop();var d=\"marker\"+a.charAt(0).toUpperCase()+a.substring(1);if(\"\"==b||!b)this.node.style[d]=\"none\";else if(\"marker\"==b.type){var f=b.node.id;f||e(b.node,{id:b.id});\n",
       "this.node.style[d]=l(f)}}}k.on(\"snap.util.getattr.marker-end\",b(\"end\"))(-1);k.on(\"snap.util.getattr.markerEnd\",b(\"end\"))(-1);k.on(\"snap.util.getattr.marker-start\",b(\"start\"))(-1);k.on(\"snap.util.getattr.markerStart\",b(\"start\"))(-1);k.on(\"snap.util.getattr.marker-mid\",b(\"mid\"))(-1);k.on(\"snap.util.getattr.markerMid\",b(\"mid\"))(-1);k.on(\"snap.util.attr.marker-end\",d(\"end\"))(-1);k.on(\"snap.util.attr.markerEnd\",d(\"end\"))(-1);k.on(\"snap.util.attr.marker-start\",d(\"start\"))(-1);k.on(\"snap.util.attr.markerStart\",\n",
       "d(\"start\"))(-1);k.on(\"snap.util.attr.marker-mid\",d(\"mid\"))(-1);k.on(\"snap.util.attr.markerMid\",d(\"mid\"))(-1)})();k.on(\"snap.util.getattr.r\",function(){if(\"rect\"==this.type&&e(this.node,\"rx\")==e(this.node,\"ry\"))return k.stop(),e(this.node,\"rx\")})(-1);k.on(\"snap.util.getattr.text\",function(){if(\"text\"==this.type||\"tspan\"==this.type){k.stop();var a=d(this.node);return 1==a.length?a[0]:a}})(-1);k.on(\"snap.util.getattr.#text\",function(){return this.node.textContent})(-1);k.on(\"snap.util.getattr.viewBox\",\n",
       "function(){k.stop();var b=e(this.node,\"viewBox\");if(b)return b=b.split(s),a._.box(+b[0],+b[1],+b[2],+b[3])})(-1);k.on(\"snap.util.getattr.points\",function(){var a=e(this.node,\"points\");k.stop();if(a)return a.split(s)})(-1);k.on(\"snap.util.getattr.path\",function(){var a=e(this.node,\"d\");k.stop();return a})(-1);k.on(\"snap.util.getattr.class\",function(){return this.node.className.baseVal})(-1);k.on(\"snap.util.getattr.fontSize\",f)(-1);k.on(\"snap.util.getattr.font-size\",f)(-1)});C.plugin(function(a,v,y,\n",
       "M,A){function w(a){return a}function z(a){return function(b){return+b.toFixed(3)+a}}var d={\"+\":function(a,b){return a+b},\"-\":function(a,b){return a-b},\"/\":function(a,b){return a/b},\"*\":function(a,b){return a*b}},f=String,n=/[a-z]+$/i,u=/^\\s*([+\\-\\/*])\\s*=\\s*([\\d.eE+\\-]+)\\s*([^\\d\\s]+)?\\s*$/;k.on(\"snap.util.attr\",function(a){if(a=f(a).match(u)){var b=k.nt(),b=b.substring(b.lastIndexOf(\".\")+1),q=this.attr(b),e={};k.stop();var l=a[3]||\"\",r=q.match(n),s=d[a[1] ];r&&r==l?a=s(parseFloat(q),+a[2]):(q=this.asPX(b),\n",
       "a=s(this.asPX(b),this.asPX(b,a[2]+l)));isNaN(q)||isNaN(a)||(e[b]=a,this.attr(e))}})(-10);k.on(\"snap.util.equal\",function(a,b){var q=f(this.attr(a)||\"\"),e=f(b).match(u);if(e){k.stop();var l=e[3]||\"\",r=q.match(n),s=d[e[1] ];if(r&&r==l)return{from:parseFloat(q),to:s(parseFloat(q),+e[2]),f:z(r)};q=this.asPX(a);return{from:q,to:s(q,this.asPX(a,e[2]+l)),f:w}}})(-10)});C.plugin(function(a,v,y,M,A){var w=y.prototype,z=a.is;w.rect=function(a,d,k,p,b,q){var e;null==q&&(q=b);z(a,\"object\")&&\"[object Object]\"==\n",
       "a?e=a:null!=a&&(e={x:a,y:d,width:k,height:p},null!=b&&(e.rx=b,e.ry=q));return this.el(\"rect\",e)};w.circle=function(a,d,k){var p;z(a,\"object\")&&\"[object Object]\"==a?p=a:null!=a&&(p={cx:a,cy:d,r:k});return this.el(\"circle\",p)};var d=function(){function a(){this.parentNode.removeChild(this)}return function(d,k){var p=M.doc.createElement(\"img\"),b=M.doc.body;p.style.cssText=\"position:absolute;left:-9999em;top:-9999em\";p.onload=function(){k.call(p);p.onload=p.onerror=null;b.removeChild(p)};p.onerror=a;\n",
       "b.appendChild(p);p.src=d}}();w.image=function(f,n,k,p,b){var q=this.el(\"image\");if(z(f,\"object\")&&\"src\"in f)q.attr(f);else if(null!=f){var e={\"xlink:href\":f,preserveAspectRatio:\"none\"};null!=n&&null!=k&&(e.x=n,e.y=k);null!=p&&null!=b?(e.width=p,e.height=b):d(f,function(){a._.$(q.node,{width:this.offsetWidth,height:this.offsetHeight})});a._.$(q.node,e)}return q};w.ellipse=function(a,d,k,p){var b;z(a,\"object\")&&\"[object Object]\"==a?b=a:null!=a&&(b={cx:a,cy:d,rx:k,ry:p});return this.el(\"ellipse\",b)};\n",
       "w.path=function(a){var d;z(a,\"object\")&&!z(a,\"array\")?d=a:a&&(d={d:a});return this.el(\"path\",d)};w.group=w.g=function(a){var d=this.el(\"g\");1==arguments.length&&a&&!a.type?d.attr(a):arguments.length&&d.add(Array.prototype.slice.call(arguments,0));return d};w.svg=function(a,d,k,p,b,q,e,l){var r={};z(a,\"object\")&&null==d?r=a:(null!=a&&(r.x=a),null!=d&&(r.y=d),null!=k&&(r.width=k),null!=p&&(r.height=p),null!=b&&null!=q&&null!=e&&null!=l&&(r.viewBox=[b,q,e,l]));return this.el(\"svg\",r)};w.mask=function(a){var d=\n",
       "this.el(\"mask\");1==arguments.length&&a&&!a.type?d.attr(a):arguments.length&&d.add(Array.prototype.slice.call(arguments,0));return d};w.ptrn=function(a,d,k,p,b,q,e,l){if(z(a,\"object\"))var r=a;else arguments.length?(r={},null!=a&&(r.x=a),null!=d&&(r.y=d),null!=k&&(r.width=k),null!=p&&(r.height=p),null!=b&&null!=q&&null!=e&&null!=l&&(r.viewBox=[b,q,e,l])):r={patternUnits:\"userSpaceOnUse\"};return this.el(\"pattern\",r)};w.use=function(a){return null!=a?(make(\"use\",this.node),a instanceof v&&(a.attr(\"id\")||\n",
       "a.attr({id:ID()}),a=a.attr(\"id\")),this.el(\"use\",{\"xlink:href\":a})):v.prototype.use.call(this)};w.text=function(a,d,k){var p={};z(a,\"object\")?p=a:null!=a&&(p={x:a,y:d,text:k||\"\"});return this.el(\"text\",p)};w.line=function(a,d,k,p){var b={};z(a,\"object\")?b=a:null!=a&&(b={x1:a,x2:k,y1:d,y2:p});return this.el(\"line\",b)};w.polyline=function(a){1<arguments.length&&(a=Array.prototype.slice.call(arguments,0));var d={};z(a,\"object\")&&!z(a,\"array\")?d=a:null!=a&&(d={points:a});return this.el(\"polyline\",d)};\n",
       "w.polygon=function(a){1<arguments.length&&(a=Array.prototype.slice.call(arguments,0));var d={};z(a,\"object\")&&!z(a,\"array\")?d=a:null!=a&&(d={points:a});return this.el(\"polygon\",d)};(function(){function d(){return this.selectAll(\"stop\")}function n(b,d){var f=e(\"stop\"),k={offset:+d+\"%\"};b=a.color(b);k[\"stop-color\"]=b.hex;1>b.opacity&&(k[\"stop-opacity\"]=b.opacity);e(f,k);this.node.appendChild(f);return this}function u(){if(\"linearGradient\"==this.type){var b=e(this.node,\"x1\")||0,d=e(this.node,\"x2\")||\n",
       "1,f=e(this.node,\"y1\")||0,k=e(this.node,\"y2\")||0;return a._.box(b,f,math.abs(d-b),math.abs(k-f))}b=this.node.r||0;return a._.box((this.node.cx||0.5)-b,(this.node.cy||0.5)-b,2*b,2*b)}function p(a,d){function f(a,b){for(var d=(b-u)/(a-w),e=w;e<a;e++)h[e].offset=+(+u+d*(e-w)).toFixed(2);w=a;u=b}var n=k(\"snap.util.grad.parse\",null,d).firstDefined(),p;if(!n)return null;n.params.unshift(a);p=\"l\"==n.type.toLowerCase()?b.apply(0,n.params):q.apply(0,n.params);n.type!=n.type.toLowerCase()&&e(p.node,{gradientUnits:\"userSpaceOnUse\"});\n",
       "var h=n.stops,n=h.length,u=0,w=0;n--;for(var v=0;v<n;v++)\"offset\"in h[v]&&f(v,h[v].offset);h[n].offset=h[n].offset||100;f(n,h[n].offset);for(v=0;v<=n;v++){var y=h[v];p.addStop(y.color,y.offset)}return p}function b(b,k,p,q,w){b=a._.make(\"linearGradient\",b);b.stops=d;b.addStop=n;b.getBBox=u;null!=k&&e(b.node,{x1:k,y1:p,x2:q,y2:w});return b}function q(b,k,p,q,w,h){b=a._.make(\"radialGradient\",b);b.stops=d;b.addStop=n;b.getBBox=u;null!=k&&e(b.node,{cx:k,cy:p,r:q});null!=w&&null!=h&&e(b.node,{fx:w,fy:h});\n",
       "return b}var e=a._.$;w.gradient=function(a){return p(this.defs,a)};w.gradientLinear=function(a,d,e,f){return b(this.defs,a,d,e,f)};w.gradientRadial=function(a,b,d,e,f){return q(this.defs,a,b,d,e,f)};w.toString=function(){var b=this.node.ownerDocument,d=b.createDocumentFragment(),b=b.createElement(\"div\"),e=this.node.cloneNode(!0);d.appendChild(b);b.appendChild(e);a._.$(e,{xmlns:\"http://www.w3.org/2000/svg\"});b=b.innerHTML;d.removeChild(d.firstChild);return b};w.clear=function(){for(var a=this.node.firstChild,\n",
       "b;a;)b=a.nextSibling,\"defs\"!=a.tagName?a.parentNode.removeChild(a):w.clear.call({node:a}),a=b}})()});C.plugin(function(a,k,y,M){function A(a){var b=A.ps=A.ps||{};b[a]?b[a].sleep=100:b[a]={sleep:100};setTimeout(function(){for(var d in b)b[L](d)&&d!=a&&(b[d].sleep--,!b[d].sleep&&delete b[d])});return b[a]}function w(a,b,d,e){null==a&&(a=b=d=e=0);null==b&&(b=a.y,d=a.width,e=a.height,a=a.x);return{x:a,y:b,width:d,w:d,height:e,h:e,x2:a+d,y2:b+e,cx:a+d/2,cy:b+e/2,r1:F.min(d,e)/2,r2:F.max(d,e)/2,r0:F.sqrt(d*\n",
       "d+e*e)/2,path:s(a,b,d,e),vb:[a,b,d,e].join(\" \")}}function z(){return this.join(\",\").replace(N,\"$1\")}function d(a){a=C(a);a.toString=z;return a}function f(a,b,d,h,f,k,l,n,p){if(null==p)return e(a,b,d,h,f,k,l,n);if(0>p||e(a,b,d,h,f,k,l,n)<p)p=void 0;else{var q=0.5,O=1-q,s;for(s=e(a,b,d,h,f,k,l,n,O);0.01<Z(s-p);)q/=2,O+=(s<p?1:-1)*q,s=e(a,b,d,h,f,k,l,n,O);p=O}return u(a,b,d,h,f,k,l,n,p)}function n(b,d){function e(a){return+(+a).toFixed(3)}return a._.cacher(function(a,h,l){a instanceof k&&(a=a.attr(\"d\"));\n",
       "a=I(a);for(var n,p,D,q,O=\"\",s={},c=0,t=0,r=a.length;t<r;t++){D=a[t];if(\"M\"==D[0])n=+D[1],p=+D[2];else{q=f(n,p,D[1],D[2],D[3],D[4],D[5],D[6]);if(c+q>h){if(d&&!s.start){n=f(n,p,D[1],D[2],D[3],D[4],D[5],D[6],h-c);O+=[\"C\"+e(n.start.x),e(n.start.y),e(n.m.x),e(n.m.y),e(n.x),e(n.y)];if(l)return O;s.start=O;O=[\"M\"+e(n.x),e(n.y)+\"C\"+e(n.n.x),e(n.n.y),e(n.end.x),e(n.end.y),e(D[5]),e(D[6])].join();c+=q;n=+D[5];p=+D[6];continue}if(!b&&!d)return n=f(n,p,D[1],D[2],D[3],D[4],D[5],D[6],h-c)}c+=q;n=+D[5];p=+D[6]}O+=\n",
       "D.shift()+D}s.end=O;return n=b?c:d?s:u(n,p,D[0],D[1],D[2],D[3],D[4],D[5],1)},null,a._.clone)}function u(a,b,d,e,h,f,k,l,n){var p=1-n,q=ma(p,3),s=ma(p,2),c=n*n,t=c*n,r=q*a+3*s*n*d+3*p*n*n*h+t*k,q=q*b+3*s*n*e+3*p*n*n*f+t*l,s=a+2*n*(d-a)+c*(h-2*d+a),t=b+2*n*(e-b)+c*(f-2*e+b),x=d+2*n*(h-d)+c*(k-2*h+d),c=e+2*n*(f-e)+c*(l-2*f+e);a=p*a+n*d;b=p*b+n*e;h=p*h+n*k;f=p*f+n*l;l=90-180*F.atan2(s-x,t-c)/S;return{x:r,y:q,m:{x:s,y:t},n:{x:x,y:c},start:{x:a,y:b},end:{x:h,y:f},alpha:l}}function p(b,d,e,h,f,n,k,l){a.is(b,\n",
       "\"array\")||(b=[b,d,e,h,f,n,k,l]);b=U.apply(null,b);return w(b.min.x,b.min.y,b.max.x-b.min.x,b.max.y-b.min.y)}function b(a,b,d){return b>=a.x&&b<=a.x+a.width&&d>=a.y&&d<=a.y+a.height}function q(a,d){a=w(a);d=w(d);return b(d,a.x,a.y)||b(d,a.x2,a.y)||b(d,a.x,a.y2)||b(d,a.x2,a.y2)||b(a,d.x,d.y)||b(a,d.x2,d.y)||b(a,d.x,d.y2)||b(a,d.x2,d.y2)||(a.x<d.x2&&a.x>d.x||d.x<a.x2&&d.x>a.x)&&(a.y<d.y2&&a.y>d.y||d.y<a.y2&&d.y>a.y)}function e(a,b,d,e,h,f,n,k,l){null==l&&(l=1);l=(1<l?1:0>l?0:l)/2;for(var p=[-0.1252,\n",
       "0.1252,-0.3678,0.3678,-0.5873,0.5873,-0.7699,0.7699,-0.9041,0.9041,-0.9816,0.9816],q=[0.2491,0.2491,0.2335,0.2335,0.2032,0.2032,0.1601,0.1601,0.1069,0.1069,0.0472,0.0472],s=0,c=0;12>c;c++)var t=l*p[c]+l,r=t*(t*(-3*a+9*d-9*h+3*n)+6*a-12*d+6*h)-3*a+3*d,t=t*(t*(-3*b+9*e-9*f+3*k)+6*b-12*e+6*f)-3*b+3*e,s=s+q[c]*F.sqrt(r*r+t*t);return l*s}function l(a,b,d){a=I(a);b=I(b);for(var h,f,l,n,k,s,r,O,x,c,t=d?0:[],w=0,v=a.length;w<v;w++)if(x=a[w],\"M\"==x[0])h=k=x[1],f=s=x[2];else{\"C\"==x[0]?(x=[h,f].concat(x.slice(1)),\n",
       "h=x[6],f=x[7]):(x=[h,f,h,f,k,s,k,s],h=k,f=s);for(var G=0,y=b.length;G<y;G++)if(c=b[G],\"M\"==c[0])l=r=c[1],n=O=c[2];else{\"C\"==c[0]?(c=[l,n].concat(c.slice(1)),l=c[6],n=c[7]):(c=[l,n,l,n,r,O,r,O],l=r,n=O);var z;var K=x,B=c;z=d;var H=p(K),J=p(B);if(q(H,J)){for(var H=e.apply(0,K),J=e.apply(0,B),H=~~(H/8),J=~~(J/8),U=[],A=[],F={},M=z?0:[],P=0;P<H+1;P++){var C=u.apply(0,K.concat(P/H));U.push({x:C.x,y:C.y,t:P/H})}for(P=0;P<J+1;P++)C=u.apply(0,B.concat(P/J)),A.push({x:C.x,y:C.y,t:P/J});for(P=0;P<H;P++)for(K=\n",
       "0;K<J;K++){var Q=U[P],L=U[P+1],B=A[K],C=A[K+1],N=0.001>Z(L.x-Q.x)?\"y\":\"x\",S=0.001>Z(C.x-B.x)?\"y\":\"x\",R;R=Q.x;var Y=Q.y,V=L.x,ea=L.y,fa=B.x,ga=B.y,ha=C.x,ia=C.y;if(W(R,V)<X(fa,ha)||X(R,V)>W(fa,ha)||W(Y,ea)<X(ga,ia)||X(Y,ea)>W(ga,ia))R=void 0;else{var $=(R*ea-Y*V)*(fa-ha)-(R-V)*(fa*ia-ga*ha),aa=(R*ea-Y*V)*(ga-ia)-(Y-ea)*(fa*ia-ga*ha),ja=(R-V)*(ga-ia)-(Y-ea)*(fa-ha);if(ja){var $=$/ja,aa=aa/ja,ja=+$.toFixed(2),ba=+aa.toFixed(2);R=ja<+X(R,V).toFixed(2)||ja>+W(R,V).toFixed(2)||ja<+X(fa,ha).toFixed(2)||\n",
       "ja>+W(fa,ha).toFixed(2)||ba<+X(Y,ea).toFixed(2)||ba>+W(Y,ea).toFixed(2)||ba<+X(ga,ia).toFixed(2)||ba>+W(ga,ia).toFixed(2)?void 0:{x:$,y:aa}}else R=void 0}R&&F[R.x.toFixed(4)]!=R.y.toFixed(4)&&(F[R.x.toFixed(4)]=R.y.toFixed(4),Q=Q.t+Z((R[N]-Q[N])/(L[N]-Q[N]))*(L.t-Q.t),B=B.t+Z((R[S]-B[S])/(C[S]-B[S]))*(C.t-B.t),0<=Q&&1>=Q&&0<=B&&1>=B&&(z?M++:M.push({x:R.x,y:R.y,t1:Q,t2:B})))}z=M}else z=z?0:[];if(d)t+=z;else{H=0;for(J=z.length;H<J;H++)z[H].segment1=w,z[H].segment2=G,z[H].bez1=x,z[H].bez2=c;t=t.concat(z)}}}return t}\n",
       "function r(a){var b=A(a);if(b.bbox)return C(b.bbox);if(!a)return w();a=I(a);for(var d=0,e=0,h=[],f=[],l,n=0,k=a.length;n<k;n++)l=a[n],\"M\"==l[0]?(d=l[1],e=l[2],h.push(d),f.push(e)):(d=U(d,e,l[1],l[2],l[3],l[4],l[5],l[6]),h=h.concat(d.min.x,d.max.x),f=f.concat(d.min.y,d.max.y),d=l[5],e=l[6]);a=X.apply(0,h);l=X.apply(0,f);h=W.apply(0,h);f=W.apply(0,f);f=w(a,l,h-a,f-l);b.bbox=C(f);return f}function s(a,b,d,e,h){if(h)return[[\"M\",+a+ +h,b],[\"l\",d-2*h,0],[\"a\",h,h,0,0,1,h,h],[\"l\",0,e-2*h],[\"a\",h,h,0,0,1,\n",
       "-h,h],[\"l\",2*h-d,0],[\"a\",h,h,0,0,1,-h,-h],[\"l\",0,2*h-e],[\"a\",h,h,0,0,1,h,-h],[\"z\"] ];a=[[\"M\",a,b],[\"l\",d,0],[\"l\",0,e],[\"l\",-d,0],[\"z\"] ];a.toString=z;return a}function x(a,b,d,e,h){null==h&&null==e&&(e=d);a=+a;b=+b;d=+d;e=+e;if(null!=h){var f=Math.PI/180,l=a+d*Math.cos(-e*f);a+=d*Math.cos(-h*f);var n=b+d*Math.sin(-e*f);b+=d*Math.sin(-h*f);d=[[\"M\",l,n],[\"A\",d,d,0,+(180<h-e),0,a,b] ]}else d=[[\"M\",a,b],[\"m\",0,-e],[\"a\",d,e,0,1,1,0,2*e],[\"a\",d,e,0,1,1,0,-2*e],[\"z\"] ];d.toString=z;return d}function G(b){var e=\n",
       "A(b);if(e.abs)return d(e.abs);Q(b,\"array\")&&Q(b&&b[0],\"array\")||(b=a.parsePathString(b));if(!b||!b.length)return[[\"M\",0,0] ];var h=[],f=0,l=0,n=0,k=0,p=0;\"M\"==b[0][0]&&(f=+b[0][1],l=+b[0][2],n=f,k=l,p++,h[0]=[\"M\",f,l]);for(var q=3==b.length&&\"M\"==b[0][0]&&\"R\"==b[1][0].toUpperCase()&&\"Z\"==b[2][0].toUpperCase(),s,r,w=p,c=b.length;w<c;w++){h.push(s=[]);r=b[w];p=r[0];if(p!=p.toUpperCase())switch(s[0]=p.toUpperCase(),s[0]){case \"A\":s[1]=r[1];s[2]=r[2];s[3]=r[3];s[4]=r[4];s[5]=r[5];s[6]=+r[6]+f;s[7]=+r[7]+\n",
       "l;break;case \"V\":s[1]=+r[1]+l;break;case \"H\":s[1]=+r[1]+f;break;case \"R\":for(var t=[f,l].concat(r.slice(1)),u=2,v=t.length;u<v;u++)t[u]=+t[u]+f,t[++u]=+t[u]+l;h.pop();h=h.concat(P(t,q));break;case \"O\":h.pop();t=x(f,l,r[1],r[2]);t.push(t[0]);h=h.concat(t);break;case \"U\":h.pop();h=h.concat(x(f,l,r[1],r[2],r[3]));s=[\"U\"].concat(h[h.length-1].slice(-2));break;case \"M\":n=+r[1]+f,k=+r[2]+l;default:for(u=1,v=r.length;u<v;u++)s[u]=+r[u]+(u%2?f:l)}else if(\"R\"==p)t=[f,l].concat(r.slice(1)),h.pop(),h=h.concat(P(t,\n",
       "q)),s=[\"R\"].concat(r.slice(-2));else if(\"O\"==p)h.pop(),t=x(f,l,r[1],r[2]),t.push(t[0]),h=h.concat(t);else if(\"U\"==p)h.pop(),h=h.concat(x(f,l,r[1],r[2],r[3])),s=[\"U\"].concat(h[h.length-1].slice(-2));else for(t=0,u=r.length;t<u;t++)s[t]=r[t];p=p.toUpperCase();if(\"O\"!=p)switch(s[0]){case \"Z\":f=+n;l=+k;break;case \"H\":f=s[1];break;case \"V\":l=s[1];break;case \"M\":n=s[s.length-2],k=s[s.length-1];default:f=s[s.length-2],l=s[s.length-1]}}h.toString=z;e.abs=d(h);return h}function h(a,b,d,e){return[a,b,d,e,d,\n",
       "e]}function J(a,b,d,e,h,f){var l=1/3,n=2/3;return[l*a+n*d,l*b+n*e,l*h+n*d,l*f+n*e,h,f]}function K(b,d,e,h,f,l,n,k,p,s){var r=120*S/180,q=S/180*(+f||0),c=[],t,x=a._.cacher(function(a,b,c){var d=a*F.cos(c)-b*F.sin(c);a=a*F.sin(c)+b*F.cos(c);return{x:d,y:a}});if(s)v=s[0],t=s[1],l=s[2],u=s[3];else{t=x(b,d,-q);b=t.x;d=t.y;t=x(k,p,-q);k=t.x;p=t.y;F.cos(S/180*f);F.sin(S/180*f);t=(b-k)/2;v=(d-p)/2;u=t*t/(e*e)+v*v/(h*h);1<u&&(u=F.sqrt(u),e*=u,h*=u);var u=e*e,w=h*h,u=(l==n?-1:1)*F.sqrt(Z((u*w-u*v*v-w*t*t)/\n",
       "(u*v*v+w*t*t)));l=u*e*v/h+(b+k)/2;var u=u*-h*t/e+(d+p)/2,v=F.asin(((d-u)/h).toFixed(9));t=F.asin(((p-u)/h).toFixed(9));v=b<l?S-v:v;t=k<l?S-t:t;0>v&&(v=2*S+v);0>t&&(t=2*S+t);n&&v>t&&(v-=2*S);!n&&t>v&&(t-=2*S)}if(Z(t-v)>r){var c=t,w=k,G=p;t=v+r*(n&&t>v?1:-1);k=l+e*F.cos(t);p=u+h*F.sin(t);c=K(k,p,e,h,f,0,n,w,G,[t,c,l,u])}l=t-v;f=F.cos(v);r=F.sin(v);n=F.cos(t);t=F.sin(t);l=F.tan(l/4);e=4/3*e*l;l*=4/3*h;h=[b,d];b=[b+e*r,d-l*f];d=[k+e*t,p-l*n];k=[k,p];b[0]=2*h[0]-b[0];b[1]=2*h[1]-b[1];if(s)return[b,d,k].concat(c);\n",
       "c=[b,d,k].concat(c).join().split(\",\");s=[];k=0;for(p=c.length;k<p;k++)s[k]=k%2?x(c[k-1],c[k],q).y:x(c[k],c[k+1],q).x;return s}function U(a,b,d,e,h,f,l,k){for(var n=[],p=[[],[] ],s,r,c,t,q=0;2>q;++q)0==q?(r=6*a-12*d+6*h,s=-3*a+9*d-9*h+3*l,c=3*d-3*a):(r=6*b-12*e+6*f,s=-3*b+9*e-9*f+3*k,c=3*e-3*b),1E-12>Z(s)?1E-12>Z(r)||(s=-c/r,0<s&&1>s&&n.push(s)):(t=r*r-4*c*s,c=F.sqrt(t),0>t||(t=(-r+c)/(2*s),0<t&&1>t&&n.push(t),s=(-r-c)/(2*s),0<s&&1>s&&n.push(s)));for(r=q=n.length;q--;)s=n[q],c=1-s,p[0][q]=c*c*c*a+3*\n",
       "c*c*s*d+3*c*s*s*h+s*s*s*l,p[1][q]=c*c*c*b+3*c*c*s*e+3*c*s*s*f+s*s*s*k;p[0][r]=a;p[1][r]=b;p[0][r+1]=l;p[1][r+1]=k;p[0].length=p[1].length=r+2;return{min:{x:X.apply(0,p[0]),y:X.apply(0,p[1])},max:{x:W.apply(0,p[0]),y:W.apply(0,p[1])}}}function I(a,b){var e=!b&&A(a);if(!b&&e.curve)return d(e.curve);var f=G(a),l=b&&G(b),n={x:0,y:0,bx:0,by:0,X:0,Y:0,qx:null,qy:null},k={x:0,y:0,bx:0,by:0,X:0,Y:0,qx:null,qy:null},p=function(a,b,c){if(!a)return[\"C\",b.x,b.y,b.x,b.y,b.x,b.y];a[0]in{T:1,Q:1}||(b.qx=b.qy=null);\n",
       "switch(a[0]){case \"M\":b.X=a[1];b.Y=a[2];break;case \"A\":a=[\"C\"].concat(K.apply(0,[b.x,b.y].concat(a.slice(1))));break;case \"S\":\"C\"==c||\"S\"==c?(c=2*b.x-b.bx,b=2*b.y-b.by):(c=b.x,b=b.y);a=[\"C\",c,b].concat(a.slice(1));break;case \"T\":\"Q\"==c||\"T\"==c?(b.qx=2*b.x-b.qx,b.qy=2*b.y-b.qy):(b.qx=b.x,b.qy=b.y);a=[\"C\"].concat(J(b.x,b.y,b.qx,b.qy,a[1],a[2]));break;case \"Q\":b.qx=a[1];b.qy=a[2];a=[\"C\"].concat(J(b.x,b.y,a[1],a[2],a[3],a[4]));break;case \"L\":a=[\"C\"].concat(h(b.x,b.y,a[1],a[2]));break;case \"H\":a=[\"C\"].concat(h(b.x,\n",
       "b.y,a[1],b.y));break;case \"V\":a=[\"C\"].concat(h(b.x,b.y,b.x,a[1]));break;case \"Z\":a=[\"C\"].concat(h(b.x,b.y,b.X,b.Y))}return a},s=function(a,b){if(7<a[b].length){a[b].shift();for(var c=a[b];c.length;)q[b]=\"A\",l&&(u[b]=\"A\"),a.splice(b++,0,[\"C\"].concat(c.splice(0,6)));a.splice(b,1);v=W(f.length,l&&l.length||0)}},r=function(a,b,c,d,e){a&&b&&\"M\"==a[e][0]&&\"M\"!=b[e][0]&&(b.splice(e,0,[\"M\",d.x,d.y]),c.bx=0,c.by=0,c.x=a[e][1],c.y=a[e][2],v=W(f.length,l&&l.length||0))},q=[],u=[],c=\"\",t=\"\",x=0,v=W(f.length,\n",
       "l&&l.length||0);for(;x<v;x++){f[x]&&(c=f[x][0]);\"C\"!=c&&(q[x]=c,x&&(t=q[x-1]));f[x]=p(f[x],n,t);\"A\"!=q[x]&&\"C\"==c&&(q[x]=\"C\");s(f,x);l&&(l[x]&&(c=l[x][0]),\"C\"!=c&&(u[x]=c,x&&(t=u[x-1])),l[x]=p(l[x],k,t),\"A\"!=u[x]&&\"C\"==c&&(u[x]=\"C\"),s(l,x));r(f,l,n,k,x);r(l,f,k,n,x);var w=f[x],z=l&&l[x],y=w.length,U=l&&z.length;n.x=w[y-2];n.y=w[y-1];n.bx=$(w[y-4])||n.x;n.by=$(w[y-3])||n.y;k.bx=l&&($(z[U-4])||k.x);k.by=l&&($(z[U-3])||k.y);k.x=l&&z[U-2];k.y=l&&z[U-1]}l||(e.curve=d(f));return l?[f,l]:f}function P(a,\n",
       "b){for(var d=[],e=0,h=a.length;h-2*!b>e;e+=2){var f=[{x:+a[e-2],y:+a[e-1]},{x:+a[e],y:+a[e+1]},{x:+a[e+2],y:+a[e+3]},{x:+a[e+4],y:+a[e+5]}];b?e?h-4==e?f[3]={x:+a[0],y:+a[1]}:h-2==e&&(f[2]={x:+a[0],y:+a[1]},f[3]={x:+a[2],y:+a[3]}):f[0]={x:+a[h-2],y:+a[h-1]}:h-4==e?f[3]=f[2]:e||(f[0]={x:+a[e],y:+a[e+1]});d.push([\"C\",(-f[0].x+6*f[1].x+f[2].x)/6,(-f[0].y+6*f[1].y+f[2].y)/6,(f[1].x+6*f[2].x-f[3].x)/6,(f[1].y+6*f[2].y-f[3].y)/6,f[2].x,f[2].y])}return d}y=k.prototype;var Q=a.is,C=a._.clone,L=\"hasOwnProperty\",\n",
       "N=/,?([a-z]),?/gi,$=parseFloat,F=Math,S=F.PI,X=F.min,W=F.max,ma=F.pow,Z=F.abs;M=n(1);var na=n(),ba=n(0,1),V=a._unit2px;a.path=A;a.path.getTotalLength=M;a.path.getPointAtLength=na;a.path.getSubpath=function(a,b,d){if(1E-6>this.getTotalLength(a)-d)return ba(a,b).end;a=ba(a,d,1);return b?ba(a,b).end:a};y.getTotalLength=function(){if(this.node.getTotalLength)return this.node.getTotalLength()};y.getPointAtLength=function(a){return na(this.attr(\"d\"),a)};y.getSubpath=function(b,d){return a.path.getSubpath(this.attr(\"d\"),\n",
       "b,d)};a._.box=w;a.path.findDotsAtSegment=u;a.path.bezierBBox=p;a.path.isPointInsideBBox=b;a.path.isBBoxIntersect=q;a.path.intersection=function(a,b){return l(a,b)};a.path.intersectionNumber=function(a,b){return l(a,b,1)};a.path.isPointInside=function(a,d,e){var h=r(a);return b(h,d,e)&&1==l(a,[[\"M\",d,e],[\"H\",h.x2+10] ],1)%2};a.path.getBBox=r;a.path.get={path:function(a){return a.attr(\"path\")},circle:function(a){a=V(a);return x(a.cx,a.cy,a.r)},ellipse:function(a){a=V(a);return x(a.cx||0,a.cy||0,a.rx,\n",
       "a.ry)},rect:function(a){a=V(a);return s(a.x||0,a.y||0,a.width,a.height,a.rx,a.ry)},image:function(a){a=V(a);return s(a.x||0,a.y||0,a.width,a.height)},line:function(a){return\"M\"+[a.attr(\"x1\")||0,a.attr(\"y1\")||0,a.attr(\"x2\"),a.attr(\"y2\")]},polyline:function(a){return\"M\"+a.attr(\"points\")},polygon:function(a){return\"M\"+a.attr(\"points\")+\"z\"},deflt:function(a){a=a.node.getBBox();return s(a.x,a.y,a.width,a.height)}};a.path.toRelative=function(b){var e=A(b),h=String.prototype.toLowerCase;if(e.rel)return d(e.rel);\n",
       "a.is(b,\"array\")&&a.is(b&&b[0],\"array\")||(b=a.parsePathString(b));var f=[],l=0,n=0,k=0,p=0,s=0;\"M\"==b[0][0]&&(l=b[0][1],n=b[0][2],k=l,p=n,s++,f.push([\"M\",l,n]));for(var r=b.length;s<r;s++){var q=f[s]=[],x=b[s];if(x[0]!=h.call(x[0]))switch(q[0]=h.call(x[0]),q[0]){case \"a\":q[1]=x[1];q[2]=x[2];q[3]=x[3];q[4]=x[4];q[5]=x[5];q[6]=+(x[6]-l).toFixed(3);q[7]=+(x[7]-n).toFixed(3);break;case \"v\":q[1]=+(x[1]-n).toFixed(3);break;case \"m\":k=x[1],p=x[2];default:for(var c=1,t=x.length;c<t;c++)q[c]=+(x[c]-(c%2?l:\n",
       "n)).toFixed(3)}else for(f[s]=[],\"m\"==x[0]&&(k=x[1]+l,p=x[2]+n),q=0,c=x.length;q<c;q++)f[s][q]=x[q];x=f[s].length;switch(f[s][0]){case \"z\":l=k;n=p;break;case \"h\":l+=+f[s][x-1];break;case \"v\":n+=+f[s][x-1];break;default:l+=+f[s][x-2],n+=+f[s][x-1]}}f.toString=z;e.rel=d(f);return f};a.path.toAbsolute=G;a.path.toCubic=I;a.path.map=function(a,b){if(!b)return a;var d,e,h,f,l,n,k;a=I(a);h=0;for(l=a.length;h<l;h++)for(k=a[h],f=1,n=k.length;f<n;f+=2)d=b.x(k[f],k[f+1]),e=b.y(k[f],k[f+1]),k[f]=d,k[f+1]=e;return a};\n",
       "a.path.toString=z;a.path.clone=d});C.plugin(function(a,v,y,C){var A=Math.max,w=Math.min,z=function(a){this.items=[];this.bindings={};this.length=0;this.type=\"set\";if(a)for(var f=0,n=a.length;f<n;f++)a[f]&&(this[this.items.length]=this.items[this.items.length]=a[f],this.length++)};v=z.prototype;v.push=function(){for(var a,f,n=0,k=arguments.length;n<k;n++)if(a=arguments[n])f=this.items.length,this[f]=this.items[f]=a,this.length++;return this};v.pop=function(){this.length&&delete this[this.length--];\n",
       "return this.items.pop()};v.forEach=function(a,f){for(var n=0,k=this.items.length;n<k&&!1!==a.call(f,this.items[n],n);n++);return this};v.animate=function(d,f,n,u){\"function\"!=typeof n||n.length||(u=n,n=L.linear);d instanceof a._.Animation&&(u=d.callback,n=d.easing,f=n.dur,d=d.attr);var p=arguments;if(a.is(d,\"array\")&&a.is(p[p.length-1],\"array\"))var b=!0;var q,e=function(){q?this.b=q:q=this.b},l=0,r=u&&function(){l++==this.length&&u.call(this)};return this.forEach(function(a,l){k.once(\"snap.animcreated.\"+\n",
       "a.id,e);b?p[l]&&a.animate.apply(a,p[l]):a.animate(d,f,n,r)})};v.remove=function(){for(;this.length;)this.pop().remove();return this};v.bind=function(a,f,k){var u={};if(\"function\"==typeof f)this.bindings[a]=f;else{var p=k||a;this.bindings[a]=function(a){u[p]=a;f.attr(u)}}return this};v.attr=function(a){var f={},k;for(k in a)if(this.bindings[k])this.bindings[k](a[k]);else f[k]=a[k];a=0;for(k=this.items.length;a<k;a++)this.items[a].attr(f);return this};v.clear=function(){for(;this.length;)this.pop()};\n",
       "v.splice=function(a,f,k){a=0>a?A(this.length+a,0):a;f=A(0,w(this.length-a,f));var u=[],p=[],b=[],q;for(q=2;q<arguments.length;q++)b.push(arguments[q]);for(q=0;q<f;q++)p.push(this[a+q]);for(;q<this.length-a;q++)u.push(this[a+q]);var e=b.length;for(q=0;q<e+u.length;q++)this.items[a+q]=this[a+q]=q<e?b[q]:u[q-e];for(q=this.items.length=this.length-=f-e;this[q];)delete this[q++];return new z(p)};v.exclude=function(a){for(var f=0,k=this.length;f<k;f++)if(this[f]==a)return this.splice(f,1),!0;return!1};\n",
       "v.insertAfter=function(a){for(var f=this.items.length;f--;)this.items[f].insertAfter(a);return this};v.getBBox=function(){for(var a=[],f=[],k=[],u=[],p=this.items.length;p--;)if(!this.items[p].removed){var b=this.items[p].getBBox();a.push(b.x);f.push(b.y);k.push(b.x+b.width);u.push(b.y+b.height)}a=w.apply(0,a);f=w.apply(0,f);k=A.apply(0,k);u=A.apply(0,u);return{x:a,y:f,x2:k,y2:u,width:k-a,height:u-f,cx:a+(k-a)/2,cy:f+(u-f)/2}};v.clone=function(a){a=new z;for(var f=0,k=this.items.length;f<k;f++)a.push(this.items[f].clone());\n",
       "return a};v.toString=function(){return\"Snap\\u2018s set\"};v.type=\"set\";a.set=function(){var a=new z;arguments.length&&a.push.apply(a,Array.prototype.slice.call(arguments,0));return a}});C.plugin(function(a,v,y,C){function A(a){var b=a[0];switch(b.toLowerCase()){case \"t\":return[b,0,0];case \"m\":return[b,1,0,0,1,0,0];case \"r\":return 4==a.length?[b,0,a[2],a[3] ]:[b,0];case \"s\":return 5==a.length?[b,1,1,a[3],a[4] ]:3==a.length?[b,1,1]:[b,1]}}function w(b,d,f){d=q(d).replace(/\\.{3}|\\u2026/g,b);b=a.parseTransformString(b)||\n",
       "[];d=a.parseTransformString(d)||[];for(var k=Math.max(b.length,d.length),p=[],v=[],h=0,w,z,y,I;h<k;h++){y=b[h]||A(d[h]);I=d[h]||A(y);if(y[0]!=I[0]||\"r\"==y[0].toLowerCase()&&(y[2]!=I[2]||y[3]!=I[3])||\"s\"==y[0].toLowerCase()&&(y[3]!=I[3]||y[4]!=I[4])){b=a._.transform2matrix(b,f());d=a._.transform2matrix(d,f());p=[[\"m\",b.a,b.b,b.c,b.d,b.e,b.f] ];v=[[\"m\",d.a,d.b,d.c,d.d,d.e,d.f] ];break}p[h]=[];v[h]=[];w=0;for(z=Math.max(y.length,I.length);w<z;w++)w in y&&(p[h][w]=y[w]),w in I&&(v[h][w]=I[w])}return{from:u(p),\n",
       "to:u(v),f:n(p)}}function z(a){return a}function d(a){return function(b){return+b.toFixed(3)+a}}function f(b){return a.rgb(b[0],b[1],b[2])}function n(a){var b=0,d,f,k,n,h,p,q=[];d=0;for(f=a.length;d<f;d++){h=\"[\";p=['\"'+a[d][0]+'\"'];k=1;for(n=a[d].length;k<n;k++)p[k]=\"val[\"+b++ +\"]\";h+=p+\"]\";q[d]=h}return Function(\"val\",\"return Snap.path.toString.call([\"+q+\"])\")}function u(a){for(var b=[],d=0,f=a.length;d<f;d++)for(var k=1,n=a[d].length;k<n;k++)b.push(a[d][k]);return b}var p={},b=/[a-z]+$/i,q=String;\n",
       "p.stroke=p.fill=\"colour\";v.prototype.equal=function(a,b){return k(\"snap.util.equal\",this,a,b).firstDefined()};k.on(\"snap.util.equal\",function(e,k){var r,s;r=q(this.attr(e)||\"\");var x=this;if(r==+r&&k==+k)return{from:+r,to:+k,f:z};if(\"colour\"==p[e])return r=a.color(r),s=a.color(k),{from:[r.r,r.g,r.b,r.opacity],to:[s.r,s.g,s.b,s.opacity],f:f};if(\"transform\"==e||\"gradientTransform\"==e||\"patternTransform\"==e)return k instanceof a.Matrix&&(k=k.toTransformString()),a._.rgTransform.test(k)||(k=a._.svgTransform2string(k)),\n",
       "w(r,k,function(){return x.getBBox(1)});if(\"d\"==e||\"path\"==e)return r=a.path.toCubic(r,k),{from:u(r[0]),to:u(r[1]),f:n(r[0])};if(\"points\"==e)return r=q(r).split(a._.separator),s=q(k).split(a._.separator),{from:r,to:s,f:function(a){return a}};aUnit=r.match(b);s=q(k).match(b);return aUnit&&aUnit==s?{from:parseFloat(r),to:parseFloat(k),f:d(aUnit)}:{from:this.asPX(e),to:this.asPX(e,k),f:z}})});C.plugin(function(a,v,y,C){var A=v.prototype,w=\"createTouch\"in C.doc;v=\"click dblclick mousedown mousemove mouseout mouseover mouseup touchstart touchmove touchend touchcancel\".split(\" \");\n",
       "var z={mousedown:\"touchstart\",mousemove:\"touchmove\",mouseup:\"touchend\"},d=function(a,b){var d=\"y\"==a?\"scrollTop\":\"scrollLeft\",e=b&&b.node?b.node.ownerDocument:C.doc;return e[d in e.documentElement?\"documentElement\":\"body\"][d]},f=function(){this.returnValue=!1},n=function(){return this.originalEvent.preventDefault()},u=function(){this.cancelBubble=!0},p=function(){return this.originalEvent.stopPropagation()},b=function(){if(C.doc.addEventListener)return function(a,b,e,f){var k=w&&z[b]?z[b]:b,l=function(k){var l=\n",
       "d(\"y\",f),q=d(\"x\",f);if(w&&z.hasOwnProperty(b))for(var r=0,u=k.targetTouches&&k.targetTouches.length;r<u;r++)if(k.targetTouches[r].target==a||a.contains(k.targetTouches[r].target)){u=k;k=k.targetTouches[r];k.originalEvent=u;k.preventDefault=n;k.stopPropagation=p;break}return e.call(f,k,k.clientX+q,k.clientY+l)};b!==k&&a.addEventListener(b,l,!1);a.addEventListener(k,l,!1);return function(){b!==k&&a.removeEventListener(b,l,!1);a.removeEventListener(k,l,!1);return!0}};if(C.doc.attachEvent)return function(a,\n",
       "b,e,h){var k=function(a){a=a||h.node.ownerDocument.window.event;var b=d(\"y\",h),k=d(\"x\",h),k=a.clientX+k,b=a.clientY+b;a.preventDefault=a.preventDefault||f;a.stopPropagation=a.stopPropagation||u;return e.call(h,a,k,b)};a.attachEvent(\"on\"+b,k);return function(){a.detachEvent(\"on\"+b,k);return!0}}}(),q=[],e=function(a){for(var b=a.clientX,e=a.clientY,f=d(\"y\"),l=d(\"x\"),n,p=q.length;p--;){n=q[p];if(w)for(var r=a.touches&&a.touches.length,u;r--;){if(u=a.touches[r],u.identifier==n.el._drag.id||n.el.node.contains(u.target)){b=\n",
       "u.clientX;e=u.clientY;(a.originalEvent?a.originalEvent:a).preventDefault();break}}else a.preventDefault();b+=l;e+=f;k(\"snap.drag.move.\"+n.el.id,n.move_scope||n.el,b-n.el._drag.x,e-n.el._drag.y,b,e,a)}},l=function(b){a.unmousemove(e).unmouseup(l);for(var d=q.length,f;d--;)f=q[d],f.el._drag={},k(\"snap.drag.end.\"+f.el.id,f.end_scope||f.start_scope||f.move_scope||f.el,b);q=[]};for(y=v.length;y--;)(function(d){a[d]=A[d]=function(e,f){a.is(e,\"function\")&&(this.events=this.events||[],this.events.push({name:d,\n",
       "f:e,unbind:b(this.node||document,d,e,f||this)}));return this};a[\"un\"+d]=A[\"un\"+d]=function(a){for(var b=this.events||[],e=b.length;e--;)if(b[e].name==d&&(b[e].f==a||!a)){b[e].unbind();b.splice(e,1);!b.length&&delete this.events;break}return this}})(v[y]);A.hover=function(a,b,d,e){return this.mouseover(a,d).mouseout(b,e||d)};A.unhover=function(a,b){return this.unmouseover(a).unmouseout(b)};var r=[];A.drag=function(b,d,f,h,n,p){function u(r,v,w){(r.originalEvent||r).preventDefault();this._drag.x=v;\n",
       "this._drag.y=w;this._drag.id=r.identifier;!q.length&&a.mousemove(e).mouseup(l);q.push({el:this,move_scope:h,start_scope:n,end_scope:p});d&&k.on(\"snap.drag.start.\"+this.id,d);b&&k.on(\"snap.drag.move.\"+this.id,b);f&&k.on(\"snap.drag.end.\"+this.id,f);k(\"snap.drag.start.\"+this.id,n||h||this,v,w,r)}if(!arguments.length){var v;return this.drag(function(a,b){this.attr({transform:v+(v?\"T\":\"t\")+[a,b]})},function(){v=this.transform().local})}this._drag={};r.push({el:this,start:u});this.mousedown(u);return this};\n",
       "A.undrag=function(){for(var b=r.length;b--;)r[b].el==this&&(this.unmousedown(r[b].start),r.splice(b,1),k.unbind(\"snap.drag.*.\"+this.id));!r.length&&a.unmousemove(e).unmouseup(l);return this}});C.plugin(function(a,v,y,C){y=y.prototype;var A=/^\\s*url\\((.+)\\)/,w=String,z=a._.$;a.filter={};y.filter=function(d){var f=this;\"svg\"!=f.type&&(f=f.paper);d=a.parse(w(d));var k=a._.id(),u=z(\"filter\");z(u,{id:k,filterUnits:\"userSpaceOnUse\"});u.appendChild(d.node);f.defs.appendChild(u);return new v(u)};k.on(\"snap.util.getattr.filter\",\n",
       "function(){k.stop();var d=z(this.node,\"filter\");if(d)return(d=w(d).match(A))&&a.select(d[1])});k.on(\"snap.util.attr.filter\",function(d){if(d instanceof v&&\"filter\"==d.type){k.stop();var f=d.node.id;f||(z(d.node,{id:d.id}),f=d.id);z(this.node,{filter:a.url(f)})}d&&\"none\"!=d||(k.stop(),this.node.removeAttribute(\"filter\"))});a.filter.blur=function(d,f){null==d&&(d=2);return a.format('<feGaussianBlur stdDeviation=\"{def}\"/>',{def:null==f?d:[d,f]})};a.filter.blur.toString=function(){return this()};a.filter.shadow=\n",
       "function(d,f,k,u,p){\"string\"==typeof k&&(p=u=k,k=4);\"string\"!=typeof u&&(p=u,u=\"#000\");null==k&&(k=4);null==p&&(p=1);null==d&&(d=0,f=2);null==f&&(f=d);u=a.color(u||\"#000\");return a.format('<feGaussianBlur in=\"SourceAlpha\" stdDeviation=\"{blur}\"/><feOffset dx=\"{dx}\" dy=\"{dy}\" result=\"offsetblur\"/><feFlood flood-color=\"{color}\"/><feComposite in2=\"offsetblur\" operator=\"in\"/><feComponentTransfer><feFuncA type=\"linear\" slope=\"{opacity}\"/></feComponentTransfer><feMerge><feMergeNode/><feMergeNode in=\"SourceGraphic\"/></feMerge>',\n",
       "{color:u,dx:d,dy:f,blur:k,opacity:p})};a.filter.shadow.toString=function(){return this()};a.filter.grayscale=function(d){null==d&&(d=1);return a.format('<feColorMatrix type=\"matrix\" values=\"{a} {b} {c} 0 0 {d} {e} {f} 0 0 {g} {b} {h} 0 0 0 0 0 1 0\"/>',{a:0.2126+0.7874*(1-d),b:0.7152-0.7152*(1-d),c:0.0722-0.0722*(1-d),d:0.2126-0.2126*(1-d),e:0.7152+0.2848*(1-d),f:0.0722-0.0722*(1-d),g:0.2126-0.2126*(1-d),h:0.0722+0.9278*(1-d)})};a.filter.grayscale.toString=function(){return this()};a.filter.sepia=\n",
       "function(d){null==d&&(d=1);return a.format('<feColorMatrix type=\"matrix\" values=\"{a} {b} {c} 0 0 {d} {e} {f} 0 0 {g} {h} {i} 0 0 0 0 0 1 0\"/>',{a:0.393+0.607*(1-d),b:0.769-0.769*(1-d),c:0.189-0.189*(1-d),d:0.349-0.349*(1-d),e:0.686+0.314*(1-d),f:0.168-0.168*(1-d),g:0.272-0.272*(1-d),h:0.534-0.534*(1-d),i:0.131+0.869*(1-d)})};a.filter.sepia.toString=function(){return this()};a.filter.saturate=function(d){null==d&&(d=1);return a.format('<feColorMatrix type=\"saturate\" values=\"{amount}\"/>',{amount:1-\n",
       "d})};a.filter.saturate.toString=function(){return this()};a.filter.hueRotate=function(d){return a.format('<feColorMatrix type=\"hueRotate\" values=\"{angle}\"/>',{angle:d||0})};a.filter.hueRotate.toString=function(){return this()};a.filter.invert=function(d){null==d&&(d=1);return a.format('<feComponentTransfer><feFuncR type=\"table\" tableValues=\"{amount} {amount2}\"/><feFuncG type=\"table\" tableValues=\"{amount} {amount2}\"/><feFuncB type=\"table\" tableValues=\"{amount} {amount2}\"/></feComponentTransfer>',{amount:d,\n",
       "amount2:1-d})};a.filter.invert.toString=function(){return this()};a.filter.brightness=function(d){null==d&&(d=1);return a.format('<feComponentTransfer><feFuncR type=\"linear\" slope=\"{amount}\"/><feFuncG type=\"linear\" slope=\"{amount}\"/><feFuncB type=\"linear\" slope=\"{amount}\"/></feComponentTransfer>',{amount:d})};a.filter.brightness.toString=function(){return this()};a.filter.contrast=function(d){null==d&&(d=1);return a.format('<feComponentTransfer><feFuncR type=\"linear\" slope=\"{amount}\" intercept=\"{amount2}\"/><feFuncG type=\"linear\" slope=\"{amount}\" intercept=\"{amount2}\"/><feFuncB type=\"linear\" slope=\"{amount}\" intercept=\"{amount2}\"/></feComponentTransfer>',\n",
       "{amount:d,amount2:0.5-d/2})};a.filter.contrast.toString=function(){return this()}});return C});\n",
       "\n",
       "]]> </script>\n",
       "<script> <![CDATA[\n",
       "\n",
       "(function (glob, factory) {\n",
       "    // AMD support\n",
       "    if (typeof define === \"function\" && define.amd) {\n",
       "        // Define as an anonymous module\n",
       "        define(\"Gadfly\", [\"Snap.svg\"], function (Snap) {\n",
       "            return factory(Snap);\n",
       "        });\n",
       "    } else {\n",
       "        // Browser globals (glob is window)\n",
       "        // Snap adds itself to window\n",
       "        glob.Gadfly = factory(glob.Snap);\n",
       "    }\n",
       "}(this, function (Snap) {\n",
       "\n",
       "var Gadfly = {};\n",
       "\n",
       "// Get an x/y coordinate value in pixels\n",
       "var xPX = function(fig, x) {\n",
       "    var client_box = fig.node.getBoundingClientRect();\n",
       "    return x * fig.node.viewBox.baseVal.width / client_box.width;\n",
       "};\n",
       "\n",
       "var yPX = function(fig, y) {\n",
       "    var client_box = fig.node.getBoundingClientRect();\n",
       "    return y * fig.node.viewBox.baseVal.height / client_box.height;\n",
       "};\n",
       "\n",
       "\n",
       "Snap.plugin(function (Snap, Element, Paper, global) {\n",
       "    // Traverse upwards from a snap element to find and return the first\n",
       "    // note with the \"plotroot\" class.\n",
       "    Element.prototype.plotroot = function () {\n",
       "        var element = this;\n",
       "        while (!element.hasClass(\"plotroot\") && element.parent() != null) {\n",
       "            element = element.parent();\n",
       "        }\n",
       "        return element;\n",
       "    };\n",
       "\n",
       "    Element.prototype.svgroot = function () {\n",
       "        var element = this;\n",
       "        while (element.node.nodeName != \"svg\" && element.parent() != null) {\n",
       "            element = element.parent();\n",
       "        }\n",
       "        return element;\n",
       "    };\n",
       "\n",
       "    Element.prototype.plotbounds = function () {\n",
       "        var root = this.plotroot()\n",
       "        var bbox = root.select(\".guide.background\").node.getBBox();\n",
       "        return {\n",
       "            x0: bbox.x,\n",
       "            x1: bbox.x + bbox.width,\n",
       "            y0: bbox.y,\n",
       "            y1: bbox.y + bbox.height\n",
       "        };\n",
       "    };\n",
       "\n",
       "    Element.prototype.plotcenter = function () {\n",
       "        var root = this.plotroot()\n",
       "        var bbox = root.select(\".guide.background\").node.getBBox();\n",
       "        return {\n",
       "            x: bbox.x + bbox.width / 2,\n",
       "            y: bbox.y + bbox.height / 2\n",
       "        };\n",
       "    };\n",
       "\n",
       "    // Emulate IE style mouseenter/mouseleave events, since Microsoft always\n",
       "    // does everything right.\n",
       "    // See: http://www.dynamic-tools.net/toolbox/isMouseLeaveOrEnter/\n",
       "    var events = [\"mouseenter\", \"mouseleave\"];\n",
       "\n",
       "    for (i in events) {\n",
       "        (function (event_name) {\n",
       "            var event_name = events[i];\n",
       "            Element.prototype[event_name] = function (fn, scope) {\n",
       "                if (Snap.is(fn, \"function\")) {\n",
       "                    var fn2 = function (event) {\n",
       "                        if (event.type != \"mouseover\" && event.type != \"mouseout\") {\n",
       "                            return;\n",
       "                        }\n",
       "\n",
       "                        var reltg = event.relatedTarget ? event.relatedTarget :\n",
       "                            event.type == \"mouseout\" ? event.toElement : event.fromElement;\n",
       "                        while (reltg && reltg != this.node) reltg = reltg.parentNode;\n",
       "\n",
       "                        if (reltg != this.node) {\n",
       "                            return fn.apply(this, event);\n",
       "                        }\n",
       "                    };\n",
       "\n",
       "                    if (event_name == \"mouseenter\") {\n",
       "                        this.mouseover(fn2, scope);\n",
       "                    } else {\n",
       "                        this.mouseout(fn2, scope);\n",
       "                    }\n",
       "                }\n",
       "                return this;\n",
       "            };\n",
       "        })(events[i]);\n",
       "    }\n",
       "\n",
       "\n",
       "    Element.prototype.mousewheel = function (fn, scope) {\n",
       "        if (Snap.is(fn, \"function\")) {\n",
       "            var el = this;\n",
       "            var fn2 = function (event) {\n",
       "                fn.apply(el, [event]);\n",
       "            };\n",
       "        }\n",
       "\n",
       "        this.node.addEventListener(\n",
       "            /Firefox/i.test(navigator.userAgent) ? \"DOMMouseScroll\" : \"mousewheel\",\n",
       "            fn2);\n",
       "\n",
       "        return this;\n",
       "    };\n",
       "\n",
       "\n",
       "    // Snap's attr function can be too slow for things like panning/zooming.\n",
       "    // This is a function to directly update element attributes without going\n",
       "    // through eve.\n",
       "    Element.prototype.attribute = function(key, val) {\n",
       "        if (val === undefined) {\n",
       "            return this.node.getAttribute(key);\n",
       "        } else {\n",
       "            this.node.setAttribute(key, val);\n",
       "            return this;\n",
       "        }\n",
       "    };\n",
       "\n",
       "    Element.prototype.init_gadfly = function() {\n",
       "        this.mouseenter(Gadfly.plot_mouseover)\n",
       "            .mousemove(Gadfly.plot_mousemove)\n",
       "            .mouseleave(Gadfly.plot_mouseout)\n",
       "            .dblclick(Gadfly.plot_dblclick)\n",
       "            .mousewheel(Gadfly.guide_background_scroll)\n",
       "            .drag(Gadfly.guide_background_drag_onmove,\n",
       "                  Gadfly.guide_background_drag_onstart,\n",
       "                  Gadfly.guide_background_drag_onend);\n",
       "        this.mouseenter(function (event) {\n",
       "            init_pan_zoom(this.plotroot());\n",
       "        });\n",
       "        return this;\n",
       "    };\n",
       "});\n",
       "\n",
       "\n",
       "Gadfly.plot_mousemove = function(event, x_px, y_px) {\n",
       "    var root = this.plotroot();\n",
       "    if (root.data(\"crosshair\")) {\n",
       "        px_per_mm = root.data(\"px_per_mm\");\n",
       "        bB = root.select('boundingbox').node.getAttribute('value').split(' ');\n",
       "        uB = root.select('unitbox').node.getAttribute('value').split(' ');\n",
       "        xscale = root.data(\"xscale\");\n",
       "        yscale = root.data(\"yscale\");\n",
       "        xtranslate = root.data(\"tx\");\n",
       "        ytranslate = root.data(\"ty\");\n",
       "\n",
       "        xoff_mm = bB[0].substr(0,bB[0].length-2)/1;\n",
       "        yoff_mm = bB[1].substr(0,bB[1].length-2)/1;\n",
       "        xoff_unit = uB[0]/1;\n",
       "        yoff_unit = uB[1]/1;\n",
       "        mm_per_xunit = bB[2].substr(0,bB[2].length-2) / uB[2];\n",
       "        mm_per_yunit = bB[3].substr(0,bB[3].length-2) / uB[3];\n",
       "         \n",
       "        x_unit = ((x_px / px_per_mm - xtranslate) / xscale - xoff_mm) / mm_per_xunit + xoff_unit;\n",
       "        y_unit = ((y_px / px_per_mm - ytranslate) / yscale - yoff_mm) / mm_per_yunit + yoff_unit;\n",
       "\n",
       "        root.select('.crosshair').select('.primitive').select('text')\n",
       "                .node.innerHTML = x_unit.toPrecision(3)+\",\"+y_unit.toPrecision(3);\n",
       "    };\n",
       "};\n",
       "\n",
       "Gadfly.helpscreen_visible = function(event) {\n",
       "    helpscreen_visible(this.plotroot());\n",
       "};\n",
       "var helpscreen_visible = function(root) {\n",
       "    root.select(\".helpscreen\").animate({\"fill-opacity\": 1.0}, 250);\n",
       "};\n",
       "\n",
       "Gadfly.helpscreen_hidden = function(event) {\n",
       "    helpscreen_hidden(this.plotroot());\n",
       "};\n",
       "var helpscreen_hidden = function(root) {\n",
       "    root.select(\".helpscreen\").animate({\"fill-opacity\": 0.0}, 250);\n",
       "};\n",
       "\n",
       "// When the plot is moused over, emphasize the grid lines.\n",
       "Gadfly.plot_mouseover = function(event) {\n",
       "    var root = this.plotroot();\n",
       "\n",
       "    var keyboard_help = function(event) {\n",
       "        if (event.which == 191) { // ?\n",
       "            helpscreen_visible(root);\n",
       "        }\n",
       "    };\n",
       "    root.data(\"keyboard_help\", keyboard_help);\n",
       "    window.addEventListener(\"keydown\", keyboard_help);\n",
       "\n",
       "    var keyboard_pan_zoom = function(event) {\n",
       "        var bounds = root.plotbounds(),\n",
       "            width = bounds.x1 - bounds.x0;\n",
       "            height = bounds.y1 - bounds.y0;\n",
       "        if (event.which == 187 || event.which == 73) { // plus or i\n",
       "            increase_zoom_by_position(root, 0.1, true);\n",
       "        } else if (event.which == 189 || event.which == 79) { // minus or o\n",
       "            increase_zoom_by_position(root, -0.1, true);\n",
       "        } else if (event.which == 39 || event.which == 76) { // right-arrow or l\n",
       "            set_plot_pan_zoom(root, root.data(\"tx\")-width/10, root.data(\"ty\"),\n",
       "                    root.data(\"xscale\"), root.data(\"yscale\"));\n",
       "        } else if (event.which == 40 || event.which == 74) { // down-arrow or j\n",
       "            set_plot_pan_zoom(root, root.data(\"tx\"), root.data(\"ty\")-height/10,\n",
       "                    root.data(\"xscale\"), root.data(\"yscale\"));\n",
       "        } else if (event.which == 37 || event.which == 72) { // left-arrow or h\n",
       "            set_plot_pan_zoom(root, root.data(\"tx\")+width/10, root.data(\"ty\"),\n",
       "                    root.data(\"xscale\"), root.data(\"yscale\"));\n",
       "        } else if (event.which == 38 || event.which == 75) { // up-arrow or k\n",
       "            set_plot_pan_zoom(root, root.data(\"tx\"), root.data(\"ty\")+height/10,\n",
       "                    root.data(\"xscale\"), root.data(\"yscale\"));\n",
       "        } else if (event.which == 82) { // r\n",
       "            set_plot_pan_zoom(root, 0.0, 0.0, 1.0, 1.0);\n",
       "        } else if (event.which == 191) { // ?\n",
       "            helpscreen_hidden(root);\n",
       "        } else if (event.which == 67) { // c\n",
       "            root.data(\"crosshair\",!root.data(\"crosshair\"));\n",
       "            root.select(\".crosshair\")\n",
       "                .animate({\"fill-opacity\": root.data(\"crosshair\") ? 1.0 : 0.0}, 250);\n",
       "        }\n",
       "    };\n",
       "    root.data(\"keyboard_pan_zoom\", keyboard_pan_zoom);\n",
       "    window.addEventListener(\"keyup\", keyboard_pan_zoom);\n",
       "\n",
       "    var xgridlines = root.select(\".xgridlines\"),\n",
       "        ygridlines = root.select(\".ygridlines\");\n",
       "\n",
       "    if (xgridlines) {\n",
       "        xgridlines.data(\"unfocused_strokedash\",\n",
       "                        xgridlines.attribute(\"stroke-dasharray\").replace(/(\\d)(,|$)/g, \"$1mm$2\"));\n",
       "        var destcolor = root.data(\"focused_xgrid_color\");\n",
       "        xgridlines.attribute(\"stroke-dasharray\", \"none\")\n",
       "                  .selectAll(\"path\")\n",
       "                  .animate({stroke: destcolor}, 250);\n",
       "    }\n",
       "\n",
       "    if (ygridlines) {\n",
       "        ygridlines.data(\"unfocused_strokedash\",\n",
       "                        ygridlines.attribute(\"stroke-dasharray\").replace(/(\\d)(,|$)/g, \"$1mm$2\"));\n",
       "        var destcolor = root.data(\"focused_ygrid_color\");\n",
       "        ygridlines.attribute(\"stroke-dasharray\", \"none\")\n",
       "                  .selectAll(\"path\")\n",
       "                  .animate({stroke: destcolor}, 250);\n",
       "    }\n",
       "\n",
       "    root.select(\".crosshair\")\n",
       "        .animate({\"fill-opacity\": root.data(\"crosshair\") ? 1.0 : 0.0}, 250);\n",
       "    root.select(\".questionmark\").animate({\"fill-opacity\": 1.0}, 250);\n",
       "};\n",
       "\n",
       "// Reset pan and zoom on double click\n",
       "Gadfly.plot_dblclick = function(event) {\n",
       "  set_plot_pan_zoom(this.plotroot(), 0.0, 0.0, 1.0, 1.0);\n",
       "};\n",
       "\n",
       "// Unemphasize grid lines on mouse out.\n",
       "Gadfly.plot_mouseout = function(event) {\n",
       "    var root = this.plotroot();\n",
       "\n",
       "    window.removeEventListener(\"keyup\", root.data(\"keyboard_pan_zoom\"));\n",
       "    root.data(\"keyboard_pan_zoom\", undefined);\n",
       "    window.removeEventListener(\"keydown\", root.data(\"keyboard_help\"));\n",
       "    root.data(\"keyboard_help\", undefined);\n",
       "\n",
       "    var xgridlines = root.select(\".xgridlines\"),\n",
       "        ygridlines = root.select(\".ygridlines\");\n",
       "\n",
       "    if (xgridlines) {\n",
       "        var destcolor = root.data(\"unfocused_xgrid_color\");\n",
       "        xgridlines.attribute(\"stroke-dasharray\", xgridlines.data(\"unfocused_strokedash\"))\n",
       "                  .selectAll(\"path\")\n",
       "                  .animate({stroke: destcolor}, 250);\n",
       "    }\n",
       "\n",
       "    if (ygridlines) {\n",
       "        var destcolor = root.data(\"unfocused_ygrid_color\");\n",
       "        ygridlines.attribute(\"stroke-dasharray\", ygridlines.data(\"unfocused_strokedash\"))\n",
       "                  .selectAll(\"path\")\n",
       "                  .animate({stroke: destcolor}, 250);\n",
       "    }\n",
       "\n",
       "    root.select(\".crosshair\").animate({\"fill-opacity\": 0.0}, 250);\n",
       "    root.select(\".questionmark\").animate({\"fill-opacity\": 0.0}, 250);\n",
       "    helpscreen_hidden(root);\n",
       "};\n",
       "\n",
       "\n",
       "var set_geometry_transform = function(root, tx, ty, xscale, yscale) {\n",
       "    var xscalable = root.hasClass(\"xscalable\"),\n",
       "        yscalable = root.hasClass(\"yscalable\");\n",
       "\n",
       "    var old_xscale = root.data(\"xscale\"),\n",
       "        old_yscale = root.data(\"yscale\");\n",
       "\n",
       "    var xscale = xscalable ? xscale : 1.0,\n",
       "        yscale = yscalable ? yscale : 1.0;\n",
       "\n",
       "    tx = xscalable ? tx : 0.0;\n",
       "    ty = yscalable ? ty : 0.0;\n",
       "\n",
       "    var t = new Snap.Matrix().translate(tx, ty).scale(xscale, yscale);\n",
       "    root.selectAll(\".geometry, image\").forEach(function (element, i) {\n",
       "            element.transform(t);\n",
       "        });\n",
       "\n",
       "    var t = new Snap.Matrix().scale(1.0/xscale, 1.0/yscale);\n",
       "    root.selectAll('.marker').forEach(function (element, i) {\n",
       "        element.selectAll('.primitive').forEach(function (element, i) {\n",
       "            element.transform(t);\n",
       "        }) });\n",
       "\n",
       "    bounds = root.plotbounds();\n",
       "    px_per_mm = root.data(\"px_per_mm\");\n",
       "\n",
       "    if (yscalable) {\n",
       "        var xfixed_t = new Snap.Matrix().translate(0, ty).scale(1.0, yscale);\n",
       "        root.selectAll(\".xfixed\")\n",
       "            .forEach(function (element, i) {\n",
       "                element.transform(xfixed_t);\n",
       "            });\n",
       "\n",
       "        ylabels = root.select(\".ylabels\");\n",
       "        if (ylabels) {\n",
       "            ylabels.transform(xfixed_t)\n",
       "                   .selectAll(\"g\")\n",
       "                   .forEach(function (element, i) {\n",
       "                       if (element.attribute(\"gadfly:inscale\") == \"true\") {\n",
       "                           unscale_t = new Snap.Matrix();\n",
       "                           unscale_t.scale(1, 1/yscale);\n",
       "                           element.select(\"text\").transform(unscale_t);\n",
       " \n",
       "                           var y = element.attr(\"transform\").globalMatrix.f / px_per_mm;\n",
       "                           element.attr(\"visibility\",\n",
       "                               bounds.y0 <= y && y <= bounds.y1 ? \"visible\" : \"hidden\");\n",
       "                       }\n",
       "                   });\n",
       "        }\n",
       "    }\n",
       "\n",
       "    if (xscalable) {\n",
       "        var yfixed_t = new Snap.Matrix().translate(tx, 0).scale(xscale, 1.0);\n",
       "        var xtrans = new Snap.Matrix().translate(tx, 0);\n",
       "        root.selectAll(\".yfixed\")\n",
       "            .forEach(function (element, i) {\n",
       "                element.transform(yfixed_t);\n",
       "            });\n",
       "\n",
       "        xlabels = root.select(\".xlabels\");\n",
       "        if (xlabels) {\n",
       "            xlabels.transform(yfixed_t)\n",
       "                   .selectAll(\"g\")\n",
       "                   .forEach(function (element, i) {\n",
       "                       if (element.attribute(\"gadfly:inscale\") == \"true\") {\n",
       "                           unscale_t = new Snap.Matrix();\n",
       "                           unscale_t.scale(1/xscale, 1);\n",
       "                           element.select(\"text\").transform(unscale_t);\n",
       "\n",
       "                           var x = element.attr(\"transform\").globalMatrix.e / px_per_mm;\n",
       "                           element.attr(\"visibility\",\n",
       "                               bounds.x0 <= x && x <= bounds.x1 ? \"visible\" : \"hidden\");\n",
       "                           }\n",
       "                   });\n",
       "        }\n",
       "    }\n",
       "};\n",
       "\n",
       "\n",
       "// Find the most appropriate tick scale and update label visibility.\n",
       "var update_tickscale = function(root, scale, axis) {\n",
       "    if (!root.hasClass(axis + \"scalable\")) return;\n",
       "\n",
       "    var tickscales = root.data(axis + \"tickscales\");\n",
       "    var best_tickscale = 1.0;\n",
       "    var best_tickscale_dist = Infinity;\n",
       "    for (tickscale in tickscales) {\n",
       "        var dist = Math.abs(Math.log(tickscale) - Math.log(scale));\n",
       "        if (dist < best_tickscale_dist) {\n",
       "            best_tickscale_dist = dist;\n",
       "            best_tickscale = tickscale;\n",
       "        }\n",
       "    }\n",
       "\n",
       "    if (best_tickscale != root.data(axis + \"tickscale\")) {\n",
       "        root.data(axis + \"tickscale\", best_tickscale);\n",
       "        var mark_inscale_gridlines = function (element, i) {\n",
       "            if (element.attribute(\"gadfly:inscale\") == null) { return; }\n",
       "            var inscale = element.attr(\"gadfly:scale\") == best_tickscale;\n",
       "            element.attribute(\"gadfly:inscale\", inscale);\n",
       "            element.attr(\"visibility\", inscale ? \"visible\" : \"hidden\");\n",
       "        };\n",
       "\n",
       "        var mark_inscale_labels = function (element, i) {\n",
       "            if (element.attribute(\"gadfly:inscale\") == null) { return; }\n",
       "            var inscale = element.attr(\"gadfly:scale\") == best_tickscale;\n",
       "            element.attribute(\"gadfly:inscale\", inscale);\n",
       "            element.attr(\"visibility\", inscale ? \"visible\" : \"hidden\");\n",
       "        };\n",
       "\n",
       "        root.select(\".\" + axis + \"gridlines\").selectAll(\"g\").forEach(mark_inscale_gridlines);\n",
       "        root.select(\".\" + axis + \"labels\").selectAll(\"g\").forEach(mark_inscale_labels);\n",
       "    }\n",
       "};\n",
       "\n",
       "\n",
       "var set_plot_pan_zoom = function(root, tx, ty, xscale, yscale) {\n",
       "    var old_xscale = root.data(\"xscale\"),\n",
       "        old_yscale = root.data(\"yscale\");\n",
       "    var bounds = root.plotbounds();\n",
       "\n",
       "    var width = bounds.x1 - bounds.x0,\n",
       "        height = bounds.y1 - bounds.y0;\n",
       "\n",
       "    // compute the viewport derived from tx, ty, xscale, and yscale\n",
       "    var x_min = -width * xscale - (xscale * width - width),\n",
       "        x_max = width * xscale,\n",
       "        y_min = -height * yscale - (yscale * height - height),\n",
       "        y_max = height * yscale;\n",
       "\n",
       "    var x0 = bounds.x0 - xscale * bounds.x0,\n",
       "        y0 = bounds.y0 - yscale * bounds.y0;\n",
       "\n",
       "    var tx = Math.max(Math.min(tx - x0, x_max), x_min),\n",
       "        ty = Math.max(Math.min(ty - y0, y_max), y_min);\n",
       "\n",
       "    tx += x0;\n",
       "    ty += y0;\n",
       "\n",
       "    // when the scale changes, we may need to alter which set of\n",
       "    // ticks are being displayed\n",
       "    if (xscale != old_xscale) {\n",
       "        update_tickscale(root, xscale, \"x\");\n",
       "    }\n",
       "    if (yscale != old_yscale) {\n",
       "        update_tickscale(root, yscale, \"y\");\n",
       "    }\n",
       "\n",
       "    set_geometry_transform(root, tx, ty, xscale, yscale);\n",
       "\n",
       "    root.data(\"xscale\", xscale);\n",
       "    root.data(\"yscale\", yscale);\n",
       "    root.data(\"tx\", tx);\n",
       "    root.data(\"ty\", ty);\n",
       "};\n",
       "\n",
       "\n",
       "var scale_centered_translation = function(root, xscale, yscale) {\n",
       "    var bounds = root.plotbounds();\n",
       "\n",
       "    var width = bounds.x1 - bounds.x0,\n",
       "        height = bounds.y1 - bounds.y0;\n",
       "\n",
       "    var tx0 = root.data(\"tx\"),\n",
       "        ty0 = root.data(\"ty\");\n",
       "\n",
       "    var xscale0 = root.data(\"xscale\"),\n",
       "        yscale0 = root.data(\"yscale\");\n",
       "\n",
       "    // how off from center the current view is\n",
       "    var xoff = tx0 - (bounds.x0 * (1 - xscale0) + (width * (1 - xscale0)) / 2),\n",
       "        yoff = ty0 - (bounds.y0 * (1 - yscale0) + (height * (1 - yscale0)) / 2);\n",
       "\n",
       "    // rescale offsets\n",
       "    xoff = xoff * xscale / xscale0;\n",
       "    yoff = yoff * yscale / yscale0;\n",
       "\n",
       "    // adjust for the panel position being scaled\n",
       "    var x_edge_adjust = bounds.x0 * (1 - xscale),\n",
       "        y_edge_adjust = bounds.y0 * (1 - yscale);\n",
       "\n",
       "    return {\n",
       "        x: xoff + x_edge_adjust + (width - width * xscale) / 2,\n",
       "        y: yoff + y_edge_adjust + (height - height * yscale) / 2\n",
       "    };\n",
       "};\n",
       "\n",
       "\n",
       "// Initialize data for panning zooming if it isn't already.\n",
       "var init_pan_zoom = function(root) {\n",
       "    if (root.data(\"zoompan-ready\")) {\n",
       "        return;\n",
       "    }\n",
       "\n",
       "    root.data(\"crosshair\",false);\n",
       "\n",
       "    // The non-scaling-stroke trick. Rather than try to correct for the\n",
       "    // stroke-width when zooming, we force it to a fixed value.\n",
       "    var px_per_mm = root.node.getCTM().a;\n",
       "\n",
       "    // Drag events report deltas in pixels, which we'd like to convert to\n",
       "    // millimeters.\n",
       "    root.data(\"px_per_mm\", px_per_mm);\n",
       "\n",
       "    root.selectAll(\"path\")\n",
       "        .forEach(function (element, i) {\n",
       "        sw = element.asPX(\"stroke-width\") * px_per_mm;\n",
       "        if (sw > 0) {\n",
       "            element.attribute(\"stroke-width\", sw);\n",
       "            element.attribute(\"vector-effect\", \"non-scaling-stroke\");\n",
       "        }\n",
       "    });\n",
       "\n",
       "    // Store ticks labels original tranformation\n",
       "    root.selectAll(\".xlabels > g, .ylabels > g\")\n",
       "        .forEach(function (element, i) {\n",
       "            var lm = element.transform().localMatrix;\n",
       "            element.data(\"static_transform\",\n",
       "                new Snap.Matrix(lm.a, lm.b, lm.c, lm.d, lm.e, lm.f));\n",
       "        });\n",
       "\n",
       "    var xgridlines = root.select(\".xgridlines\");\n",
       "    var ygridlines = root.select(\".ygridlines\");\n",
       "    var xlabels = root.select(\".xlabels\");\n",
       "    var ylabels = root.select(\".ylabels\");\n",
       "\n",
       "    if (root.data(\"tx\") === undefined) root.data(\"tx\", 0);\n",
       "    if (root.data(\"ty\") === undefined) root.data(\"ty\", 0);\n",
       "    if (root.data(\"xscale\") === undefined) root.data(\"xscale\", 1.0);\n",
       "    if (root.data(\"yscale\") === undefined) root.data(\"yscale\", 1.0);\n",
       "    if (root.data(\"xtickscales\") === undefined) {\n",
       "\n",
       "        // index all the tick scales that are listed\n",
       "        var xtickscales = {};\n",
       "        var ytickscales = {};\n",
       "        var add_x_tick_scales = function (element, i) {\n",
       "            if (element.attribute(\"gadfly:scale\")==null) { return; }\n",
       "            xtickscales[element.attribute(\"gadfly:scale\")] = true;\n",
       "        };\n",
       "        var add_y_tick_scales = function (element, i) {\n",
       "            if (element.attribute(\"gadfly:scale\")==null) { return; }\n",
       "            ytickscales[element.attribute(\"gadfly:scale\")] = true;\n",
       "        };\n",
       "\n",
       "        if (xgridlines) xgridlines.selectAll(\"g\").forEach(add_x_tick_scales);\n",
       "        if (ygridlines) ygridlines.selectAll(\"g\").forEach(add_y_tick_scales);\n",
       "        if (xlabels) xlabels.selectAll(\"g\").forEach(add_x_tick_scales);\n",
       "        if (ylabels) ylabels.selectAll(\"g\").forEach(add_y_tick_scales);\n",
       "\n",
       "        root.data(\"xtickscales\", xtickscales);\n",
       "        root.data(\"ytickscales\", ytickscales);\n",
       "        root.data(\"xtickscale\", 1.0);\n",
       "        root.data(\"ytickscale\", 1.0);  // ???\n",
       "    }\n",
       "\n",
       "    var min_scale = 1.0, max_scale = 1.0;\n",
       "    for (scale in xtickscales) {\n",
       "        min_scale = Math.min(min_scale, scale);\n",
       "        max_scale = Math.max(max_scale, scale);\n",
       "    }\n",
       "    for (scale in ytickscales) {\n",
       "        min_scale = Math.min(min_scale, scale);\n",
       "        max_scale = Math.max(max_scale, scale);\n",
       "    }\n",
       "    root.data(\"min_scale\", min_scale);\n",
       "    root.data(\"max_scale\", max_scale);\n",
       "\n",
       "    // store the original positions of labels\n",
       "    if (xlabels) {\n",
       "        xlabels.selectAll(\"g\")\n",
       "               .forEach(function (element, i) {\n",
       "                   element.data(\"x\", element.asPX(\"x\"));\n",
       "               });\n",
       "    }\n",
       "\n",
       "    if (ylabels) {\n",
       "        ylabels.selectAll(\"g\")\n",
       "               .forEach(function (element, i) {\n",
       "                   element.data(\"y\", element.asPX(\"y\"));\n",
       "               });\n",
       "    }\n",
       "\n",
       "    // mark grid lines and ticks as in or out of scale.\n",
       "    var mark_inscale = function (element, i) {\n",
       "        if (element.attribute(\"gadfly:scale\") == null) { return; }\n",
       "        element.attribute(\"gadfly:inscale\", element.attribute(\"gadfly:scale\") == 1.0);\n",
       "    };\n",
       "\n",
       "    if (xgridlines) xgridlines.selectAll(\"g\").forEach(mark_inscale);\n",
       "    if (ygridlines) ygridlines.selectAll(\"g\").forEach(mark_inscale);\n",
       "    if (xlabels) xlabels.selectAll(\"g\").forEach(mark_inscale);\n",
       "    if (ylabels) ylabels.selectAll(\"g\").forEach(mark_inscale);\n",
       "\n",
       "    // figure out the upper ond lower bounds on panning using the maximum\n",
       "    // and minum grid lines\n",
       "    var bounds = root.plotbounds();\n",
       "    var pan_bounds = {\n",
       "        x0: 0.0,\n",
       "        y0: 0.0,\n",
       "        x1: 0.0,\n",
       "        y1: 0.0\n",
       "    };\n",
       "\n",
       "    if (xgridlines) {\n",
       "        xgridlines\n",
       "            .selectAll(\"g\")\n",
       "            .forEach(function (element, i) {\n",
       "                if (element.attribute(\"gadfly:inscale\") == \"true\") {\n",
       "                    var bbox = element.node.getBBox();\n",
       "                    if (bounds.x1 - bbox.x < pan_bounds.x0) {\n",
       "                        pan_bounds.x0 = bounds.x1 - bbox.x;\n",
       "                    }\n",
       "                    if (bounds.x0 - bbox.x > pan_bounds.x1) {\n",
       "                        pan_bounds.x1 = bounds.x0 - bbox.x;\n",
       "                    }\n",
       "                    element.attr(\"visibility\", \"visible\");\n",
       "                }\n",
       "            });\n",
       "    }\n",
       "\n",
       "    if (ygridlines) {\n",
       "        ygridlines\n",
       "            .selectAll(\"g\")\n",
       "            .forEach(function (element, i) {\n",
       "                if (element.attribute(\"gadfly:inscale\") == \"true\") {\n",
       "                    var bbox = element.node.getBBox();\n",
       "                    if (bounds.y1 - bbox.y < pan_bounds.y0) {\n",
       "                        pan_bounds.y0 = bounds.y1 - bbox.y;\n",
       "                    }\n",
       "                    if (bounds.y0 - bbox.y > pan_bounds.y1) {\n",
       "                        pan_bounds.y1 = bounds.y0 - bbox.y;\n",
       "                    }\n",
       "                    element.attr(\"visibility\", \"visible\");\n",
       "                }\n",
       "            });\n",
       "    }\n",
       "\n",
       "    // nudge these values a little\n",
       "    pan_bounds.x0 -= 5;\n",
       "    pan_bounds.x1 += 5;\n",
       "    pan_bounds.y0 -= 5;\n",
       "    pan_bounds.y1 += 5;\n",
       "    root.data(\"pan_bounds\", pan_bounds);\n",
       "\n",
       "    root.data(\"zoompan-ready\", true)\n",
       "};\n",
       "\n",
       "\n",
       "// drag actions, i.e. zooming and panning\n",
       "var pan_action = {\n",
       "    start: function(root, x, y, event) {\n",
       "        root.data(\"dx\", 0);\n",
       "        root.data(\"dy\", 0);\n",
       "        root.data(\"tx0\", root.data(\"tx\"));\n",
       "        root.data(\"ty0\", root.data(\"ty\"));\n",
       "    },\n",
       "    update: function(root, dx, dy, x, y, event) {\n",
       "        var px_per_mm = root.data(\"px_per_mm\");\n",
       "        dx /= px_per_mm;\n",
       "        dy /= px_per_mm;\n",
       "\n",
       "        var tx0 = root.data(\"tx\"),\n",
       "            ty0 = root.data(\"ty\");\n",
       "\n",
       "        var dx0 = root.data(\"dx\"),\n",
       "            dy0 = root.data(\"dy\");\n",
       "\n",
       "        root.data(\"dx\", dx);\n",
       "        root.data(\"dy\", dy);\n",
       "\n",
       "        dx = dx - dx0;\n",
       "        dy = dy - dy0;\n",
       "\n",
       "        var tx = tx0 + dx,\n",
       "            ty = ty0 + dy;\n",
       "\n",
       "        set_plot_pan_zoom(root, tx, ty, root.data(\"xscale\"), root.data(\"yscale\"));\n",
       "    },\n",
       "    end: function(root, event) {\n",
       "\n",
       "    },\n",
       "    cancel: function(root) {\n",
       "        set_plot_pan_zoom(root, root.data(\"tx0\"), root.data(\"ty0\"),\n",
       "                root.data(\"xscale\"), root.data(\"yscale\"));\n",
       "    }\n",
       "};\n",
       "\n",
       "var zoom_box;\n",
       "var zoom_action = {\n",
       "    start: function(root, x, y, event) {\n",
       "        var bounds = root.plotbounds();\n",
       "        var width = bounds.x1 - bounds.x0,\n",
       "            height = bounds.y1 - bounds.y0;\n",
       "        var xscalable = root.hasClass(\"xscalable\"),\n",
       "            yscalable = root.hasClass(\"yscalable\");\n",
       "        var px_per_mm = root.data(\"px_per_mm\");\n",
       "        x = xscalable ? x / px_per_mm : bounds.x0;\n",
       "        y = yscalable ? y / px_per_mm : bounds.y0;\n",
       "        var w = xscalable ? 0 : width;\n",
       "        var h = yscalable ? 0 : height;\n",
       "        zoom_box = root.rect(x, y, w, h).attr({\n",
       "            \"fill\": \"#000\",\n",
       "            \"fill-opacity\": 0.25\n",
       "        });\n",
       "    },\n",
       "    update: function(root, dx, dy, x, y, event) {\n",
       "        var xscalable = root.hasClass(\"xscalable\"),\n",
       "            yscalable = root.hasClass(\"yscalable\");\n",
       "        var px_per_mm = root.data(\"px_per_mm\");\n",
       "        var bounds = root.plotbounds();\n",
       "        if (yscalable) {\n",
       "            y /= px_per_mm;\n",
       "            y = Math.max(bounds.y0, y);\n",
       "            y = Math.min(bounds.y1, y);\n",
       "        } else {\n",
       "            y = bounds.y1;\n",
       "        }\n",
       "        if (xscalable) {\n",
       "            x /= px_per_mm;\n",
       "            x = Math.max(bounds.x0, x);\n",
       "            x = Math.min(bounds.x1, x);\n",
       "        } else {\n",
       "            x = bounds.x1;\n",
       "        }\n",
       "\n",
       "        dx = x - zoom_box.attr(\"x\");\n",
       "        dy = y - zoom_box.attr(\"y\");\n",
       "        var xoffset = 0,\n",
       "            yoffset = 0;\n",
       "        if (dx < 0) {\n",
       "            xoffset = dx;\n",
       "            dx = -1 * dx;\n",
       "        }\n",
       "        if (dy < 0) {\n",
       "            yoffset = dy;\n",
       "            dy = -1 * dy;\n",
       "        }\n",
       "        if (isNaN(dy)) {\n",
       "            dy = 0.0;\n",
       "        }\n",
       "        if (isNaN(dx)) {\n",
       "            dx = 0.0;\n",
       "        }\n",
       "        zoom_box.transform(\"T\" + xoffset + \",\" + yoffset);\n",
       "        zoom_box.attr(\"width\", dx);\n",
       "        zoom_box.attr(\"height\", dy);\n",
       "    },\n",
       "    end: function(root, event) {\n",
       "        var xscalable = root.hasClass(\"xscalable\"),\n",
       "            yscalable = root.hasClass(\"yscalable\");\n",
       "        var zoom_bounds = zoom_box.getBBox();\n",
       "        if (zoom_bounds.width * zoom_bounds.height <= 0) {\n",
       "            return;\n",
       "        }\n",
       "        var plot_bounds = root.plotbounds();\n",
       "        var xzoom_factor = 1.0,\n",
       "            yzoom_factor = 1.0;\n",
       "        if (xscalable) {\n",
       "            xzoom_factor = (plot_bounds.x1 - plot_bounds.x0) / zoom_bounds.width;\n",
       "        }\n",
       "        if (yscalable) {\n",
       "            yzoom_factor = (plot_bounds.y1 - plot_bounds.y0) / zoom_bounds.height;\n",
       "        }\n",
       "        var tx = (root.data(\"tx\") - zoom_bounds.x) * xzoom_factor + plot_bounds.x0,\n",
       "            ty = (root.data(\"ty\") - zoom_bounds.y) * yzoom_factor + plot_bounds.y0;\n",
       "        set_plot_pan_zoom(root, tx, ty,\n",
       "                root.data(\"xscale\") * xzoom_factor, root.data(\"yscale\") * yzoom_factor);\n",
       "        zoom_box.remove();\n",
       "    },\n",
       "    cancel: function(root) {\n",
       "        zoom_box.remove();\n",
       "    }\n",
       "};\n",
       "\n",
       "\n",
       "Gadfly.guide_background_drag_onstart = function(x, y, event) {\n",
       "    var root = this.plotroot();\n",
       "    var scalable = root.hasClass(\"xscalable\") || root.hasClass(\"yscalable\");\n",
       "    var zoomable = !event.altKey && !event.ctrlKey && event.shiftKey && scalable;\n",
       "    var panable = !event.altKey && !event.ctrlKey && !event.shiftKey && scalable;\n",
       "    var drag_action = zoomable ? zoom_action :\n",
       "                      panable  ? pan_action :\n",
       "                                 undefined;\n",
       "    root.data(\"drag_action\", drag_action);\n",
       "    if (drag_action) {\n",
       "        var cancel_drag_action = function(event) {\n",
       "            if (event.which == 27) { // esc key\n",
       "                drag_action.cancel(root);\n",
       "                root.data(\"drag_action\", undefined);\n",
       "            }\n",
       "        };\n",
       "        window.addEventListener(\"keyup\", cancel_drag_action);\n",
       "        root.data(\"cancel_drag_action\", cancel_drag_action);\n",
       "        drag_action.start(root, x, y, event);\n",
       "    }\n",
       "};\n",
       "\n",
       "\n",
       "Gadfly.guide_background_drag_onmove = function(dx, dy, x, y, event) {\n",
       "    var root = this.plotroot();\n",
       "    var drag_action = root.data(\"drag_action\");\n",
       "    if (drag_action) {\n",
       "        drag_action.update(root, dx, dy, x, y, event);\n",
       "    }\n",
       "};\n",
       "\n",
       "\n",
       "Gadfly.guide_background_drag_onend = function(event) {\n",
       "    var root = this.plotroot();\n",
       "    window.removeEventListener(\"keyup\", root.data(\"cancel_drag_action\"));\n",
       "    root.data(\"cancel_drag_action\", undefined);\n",
       "    var drag_action = root.data(\"drag_action\");\n",
       "    if (drag_action) {\n",
       "        drag_action.end(root, event);\n",
       "    }\n",
       "    root.data(\"drag_action\", undefined);\n",
       "};\n",
       "\n",
       "\n",
       "Gadfly.guide_background_scroll = function(event) {\n",
       "    if (event.shiftKey) {\n",
       "        increase_zoom_by_position(this.plotroot(), 0.001 * event.wheelDelta);\n",
       "        event.preventDefault();\n",
       "    }\n",
       "};\n",
       "\n",
       "// Map slider position x to scale y using the function y = a*exp(b*x)+c.\n",
       "// The constants a, b, and c are solved using the constraint that the function\n",
       "// should go through the points (0; min_scale), (0.5; 1), and (1; max_scale).\n",
       "var scale_from_slider_position = function(position, min_scale, max_scale) {\n",
       "    if (min_scale==max_scale) { return 1; }\n",
       "    var a = (1 - 2 * min_scale + min_scale * min_scale) / (min_scale + max_scale - 2),\n",
       "        b = 2 * Math.log((max_scale - 1) / (1 - min_scale)),\n",
       "        c = (min_scale * max_scale - 1) / (min_scale + max_scale - 2);\n",
       "    return a * Math.exp(b * position) + c;\n",
       "}\n",
       "\n",
       "// inverse of scale_from_slider_position\n",
       "var slider_position_from_scale = function(scale, min_scale, max_scale) {\n",
       "    if (min_scale==max_scale) { return min_scale; }\n",
       "    var a = (1 - 2 * min_scale + min_scale * min_scale) / (min_scale + max_scale - 2),\n",
       "        b = 2 * Math.log((max_scale - 1) / (1 - min_scale)),\n",
       "        c = (min_scale * max_scale - 1) / (min_scale + max_scale - 2);\n",
       "    return 1 / b * Math.log((scale - c) / a);\n",
       "}\n",
       "\n",
       "var increase_zoom_by_position = function(root, delta_position, animate) {\n",
       "    var old_xscale = root.data(\"xscale\"),\n",
       "        old_yscale = root.data(\"yscale\"),\n",
       "        min_scale = root.data(\"min_scale\"),\n",
       "        max_scale = root.data(\"max_scale\");\n",
       "    var xposition = slider_position_from_scale(old_xscale, min_scale, max_scale),\n",
       "        yposition = slider_position_from_scale(old_yscale, min_scale, max_scale);\n",
       "    xposition += (root.hasClass(\"xscalable\") ? delta_position : 0.0);\n",
       "    yposition += (root.hasClass(\"yscalable\") ? delta_position : 0.0);\n",
       "    old_xscale = scale_from_slider_position(xposition, min_scale, max_scale);\n",
       "    old_yscale = scale_from_slider_position(yposition, min_scale, max_scale);\n",
       "    var new_xscale = Math.max(min_scale, Math.min(old_xscale, max_scale)),\n",
       "        new_yscale = Math.max(min_scale, Math.min(old_yscale, max_scale));\n",
       "    if (animate) {\n",
       "        Snap.animate(\n",
       "            [old_xscale, old_yscale],\n",
       "            [new_xscale, new_yscale],\n",
       "            function (new_scale) {\n",
       "                update_plot_scale(root, new_scale[0], new_scale[1]);\n",
       "            },\n",
       "            200);\n",
       "    } else {\n",
       "        update_plot_scale(root, new_xscale, new_yscale);\n",
       "    }\n",
       "}\n",
       "\n",
       "\n",
       "var update_plot_scale = function(root, new_xscale, new_yscale) {\n",
       "    var trans = scale_centered_translation(root, new_xscale, new_yscale);\n",
       "    set_plot_pan_zoom(root, trans.x, trans.y, new_xscale, new_yscale);\n",
       "};\n",
       "\n",
       "\n",
       "var toggle_color_class = function(root, color_class, ison) {\n",
       "    var escaped_color_class = color_class.replace(/([^0-9a-zA-z])/g,\"\\\\$1\");\n",
       "    var guides = root.selectAll(\".guide.\" + escaped_color_class + \",.guide .\" + escaped_color_class);\n",
       "    var geoms = root.selectAll(\".geometry.\" + escaped_color_class + \",.geometry .\" + escaped_color_class);\n",
       "    if (ison) {\n",
       "        guides.animate({opacity: 0.5}, 250);\n",
       "        geoms.animate({opacity: 0.0}, 250);\n",
       "    } else {\n",
       "        guides.animate({opacity: 1.0}, 250);\n",
       "        geoms.animate({opacity: 1.0}, 250);\n",
       "    }\n",
       "};\n",
       "\n",
       "\n",
       "Gadfly.colorkey_swatch_click = function(event) {\n",
       "    var root = this.plotroot();\n",
       "    var color_class = this.data(\"color_class\");\n",
       "\n",
       "    if (event.shiftKey) {\n",
       "        root.selectAll(\".colorkey g\")\n",
       "            .forEach(function (element) {\n",
       "                var other_color_class = element.data(\"color_class\");\n",
       "                if (typeof other_color_class !== 'undefined' && other_color_class != color_class) {\n",
       "                    toggle_color_class(root, other_color_class,\n",
       "                                       element.attr(\"opacity\") == 1.0);\n",
       "                }\n",
       "            });\n",
       "    } else {\n",
       "        toggle_color_class(root, color_class, this.attr(\"opacity\") == 1.0);\n",
       "    }\n",
       "};\n",
       "\n",
       "\n",
       "return Gadfly;\n",
       "\n",
       "}));\n",
       "\n",
       "\n",
       "//@ sourceURL=gadfly.js\n",
       "\n",
       "(function (glob, factory) {\n",
       "    // AMD support\n",
       "      if (typeof require === \"function\" && typeof define === \"function\" && define.amd) {\n",
       "        require([\"Snap.svg\", \"Gadfly\"], function (Snap, Gadfly) {\n",
       "            factory(Snap, Gadfly);\n",
       "        });\n",
       "      } else {\n",
       "          factory(glob.Snap, glob.Gadfly);\n",
       "      }\n",
       "})(window, function (Snap, Gadfly) {\n",
       "    var fig = Snap(\"#img-2f6089ae\");\n",
       "fig.select(\"#img-2f6089ae-5\")\n",
       "   .init_gadfly();\n",
       "fig.select(\"#img-2f6089ae-8\")\n",
       "   .plotroot().data(\"unfocused_ygrid_color\", \"#D0D0E0\")\n",
       ";\n",
       "fig.select(\"#img-2f6089ae-8\")\n",
       "   .plotroot().data(\"focused_ygrid_color\", \"#A0A0A0\")\n",
       ";\n",
       "fig.select(\"#img-2f6089ae-162\")\n",
       "   .plotroot().data(\"unfocused_xgrid_color\", \"#D0D0E0\")\n",
       ";\n",
       "fig.select(\"#img-2f6089ae-162\")\n",
       "   .plotroot().data(\"focused_xgrid_color\", \"#A0A0A0\")\n",
       ";\n",
       "fig.select(\"#img-2f6089ae-267\")\n",
       "   .mouseenter(Gadfly.helpscreen_visible)\n",
       ".mouseleave(Gadfly.helpscreen_hidden)\n",
       ";\n",
       "    });\n",
       "]]> </script>\n",
       "</svg>\n"
      ],
      "text/plain": [
       "Plot(...)"
      ]
     },
     "execution_count": 189,
     "metadata": {
      "tags": []
     },
     "output_type": "execute_result"
    }
   ],
   "source": [
    "Gadfly.plot(x = text8_words[text8_vec_idx_1], y = text8_dists)"
   ]
  },
  {
   "cell_type": "markdown",
   "metadata": {
    "id": "a53734oAwKsd"
   },
   "source": [
    "**Tests for closest words to a given word**"
   ]
  },
  {
   "cell_type": "code",
   "execution_count": null,
   "metadata": {
    "colab": {
     "base_uri": "https://localhost:8080/"
    },
    "id": "7AZ6PBZSDQAF",
    "outputId": "8530499c-e08b-4182-ad3d-ee267035c01a"
   },
   "outputs": [
    {
     "data": {
      "text/plain": [
       "11-element Array{String,1}:\n",
       " \"wine\"\n",
       " \"wines\"\n",
       " \"tasting\"\n",
       " \"coffee\"\n",
       " \"beer\"\n",
       " \"champagne\"\n",
       " \"drink\"\n",
       " \"taste\"\n",
       " \"grape\"\n",
       " \"drinks\"\n",
       " \"beers\""
      ]
     },
     "execution_count": 162,
     "metadata": {
      "tags": []
     },
     "output_type": "execute_result"
    }
   ],
   "source": [
    "closest(vec(\"wine\"))"
   ]
  },
  {
   "cell_type": "code",
   "execution_count": null,
   "metadata": {
    "colab": {
     "base_uri": "https://localhost:8080/"
    },
    "id": "_htG2esZb42V",
    "outputId": "7db4ace9-a969-487a-af2e-547a735ad3dd"
   },
   "outputs": [
    {
     "data": {
      "text/plain": [
       "11-element Array{String,1}:\n",
       " \"water\"\n",
       " \"frozen\"\n",
       " \"dry\"\n",
       " \"dried\"\n",
       " \"salt\"\n",
       " \"milk\"\n",
       " \"oil\"\n",
       " \"waste\"\n",
       " \"liquid\"\n",
       " \"ice\"\n",
       " \"freezing\""
      ]
     },
     "execution_count": 163,
     "metadata": {
      "tags": []
     },
     "output_type": "execute_result"
    }
   ],
   "source": [
    "closest(vec(\"water\") + vec(\"frozen\"))"
   ]
  },
  {
   "cell_type": "code",
   "execution_count": null,
   "metadata": {
    "colab": {
     "base_uri": "https://localhost:8080/"
    },
    "id": "wDmgkcS6b8lZ",
    "outputId": "9bf6b8d2-3dc9-448c-8705-6d71568914c2"
   },
   "outputs": [
    {
     "data": {
      "text/plain": [
       "11-element Array{String,1}:\n",
       " \"night\"\n",
       " \"day\"\n",
       " \"days\"\n",
       " \"weekend\"\n",
       " \"morning\"\n",
       " \"sunday\"\n",
       " \"afternoon\"\n",
       " \"saturday\"\n",
       " \"came\"\n",
       " \"week\"\n",
       " \"evening\""
      ]
     },
     "execution_count": 164,
     "metadata": {
      "tags": []
     },
     "output_type": "execute_result"
    }
   ],
   "source": [
    "closest(mean([vec(\"day\"), vec(\"night\")]))"
   ]
  },
  {
   "cell_type": "code",
   "execution_count": null,
   "metadata": {
    "colab": {
     "base_uri": "https://localhost:8080/"
    },
    "id": "bGZHaHrKb-uD",
    "outputId": "b41510ad-811b-4c53-cf9b-15be3a3e7cbd"
   },
   "outputs": [
    {
     "data": {
      "text/plain": [
       "11-element Array{String,1}:\n",
       " \"grass\"\n",
       " \"green\"\n",
       " \"leaf\"\n",
       " \"cane\"\n",
       " \"bamboo\"\n",
       " \"trees\"\n",
       " \"grasses\"\n",
       " \"tree\"\n",
       " \"yellow\"\n",
       " \"lawn\"\n",
       " \"cotton\""
      ]
     },
     "execution_count": 165,
     "metadata": {
      "tags": []
     },
     "output_type": "execute_result"
    }
   ],
   "source": [
    "blue_to_sky = vec(\"blue\") - vec(\"sky\")\n",
    "closest(blue_to_sky + vec(\"grass\"))"
   ]
  },
  {
   "cell_type": "code",
   "execution_count": null,
   "metadata": {
    "colab": {
     "base_uri": "https://localhost:8080/"
    },
    "id": "Ra6MR3VsmIuN",
    "outputId": "fc3196df-6cac-48b4-a4c6-a80379f6e83e"
   },
   "outputs": [
    {
     "data": {
      "text/plain": [
       "11-element Array{String,1}:\n",
       " \"queen\"\n",
       " \"king\"\n",
       " \"prince\"\n",
       " \"crown\"\n",
       " \"coronation\"\n",
       " \"royal\"\n",
       " \"knight\"\n",
       " \"lord\"\n",
       " \"lady\"\n",
       " \"ii\"\n",
       " \"great\""
      ]
     },
     "execution_count": 166,
     "metadata": {
      "tags": []
     },
     "output_type": "execute_result"
    }
   ],
   "source": [
    "closest(vec(\"man\") - vec(\"woman\") + vec(\"queen\"))\n"
   ]
  },
  {
   "cell_type": "code",
   "execution_count": null,
   "metadata": {
    "colab": {
     "base_uri": "https://localhost:8080/"
    },
    "id": "Ocd4KcMA1wsv",
    "outputId": "cbab99c1-e650-42de-ad38-4401943326d9"
   },
   "outputs": [
    {
     "data": {
      "text/plain": [
       "11-element Array{String,1}:\n",
       " \"man\"\n",
       " \"father\"\n",
       " \"who\"\n",
       " \"woman\"\n",
       " \"death\"\n",
       " \"another\"\n",
       " \"whose\"\n",
       " \"old\"\n",
       " \"victim\"\n",
       " \"him\"\n",
       " \"boy\""
      ]
     },
     "execution_count": 167,
     "metadata": {
      "tags": []
     },
     "output_type": "execute_result"
    }
   ],
   "source": [
    "closest(vec(\"king\") - vec(\"queen\") + vec(\"woman\"))\n"
   ]
  },
  {
   "cell_type": "markdown",
   "metadata": {
    "id": "tPy8q9F6DBK8"
   },
   "source": [
    "**Check to show similar words between given words**"
   ]
  },
  {
   "cell_type": "code",
   "execution_count": null,
   "metadata": {
    "colab": {
     "base_uri": "https://localhost:8080/"
    },
    "id": "n5VHdYD8fEZx",
    "outputId": "212d30d3-af5a-4b65-f193-a4814429df51"
   },
   "outputs": [
    {
     "data": {
      "text/plain": [
       "10-element Array{String,1}:\n",
       " \"denmark\"\n",
       " \"norway\"\n",
       " \"portugal\"\n",
       " \"austria\"\n",
       " \"sweden\"\n",
       " \"romania\"\n",
       " \"poland\"\n",
       " \"belgium\"\n",
       " \"luxembourg\"\n",
       " \"bohemia\""
      ]
     },
     "execution_count": 168,
     "metadata": {
      "tags": []
     },
     "output_type": "execute_result"
    }
   ],
   "source": [
    "analogy_words(text8_model, [\"hungary\", \"estonia\"], [\"belarus\"], 10)"
   ]
  },
  {
   "cell_type": "code",
   "execution_count": null,
   "metadata": {
    "colab": {
     "base_uri": "https://localhost:8080/"
    },
    "id": "rC8yaNp4frLk",
    "outputId": "b70d84c3-1331-4a87-cd43-4ff077769868"
   },
   "outputs": [
    {
     "data": {
      "text/plain": [
       "10-element Array{String,1}:\n",
       " \"cluster\"\n",
       " \"chromosome\"\n",
       " \"trees\"\n",
       " \"avl\"\n",
       " \"flower\"\n",
       " \"node\"\n",
       " \"bird\"\n",
       " \"heap\"\n",
       " \"triangle\"\n",
       " \"vertex\""
      ]
     },
     "execution_count": 169,
     "metadata": {
      "tags": []
     },
     "output_type": "execute_result"
    }
   ],
   "source": [
    "analogy_words(text8_model, [\"tree\", \"leaf\"], [\"bark\"], 10)"
   ]
  },
  {
   "cell_type": "code",
   "execution_count": null,
   "metadata": {
    "colab": {
     "base_uri": "https://localhost:8080/"
    },
    "id": "0aYs3_0Dgbk0",
    "outputId": "0ed11cd9-7dc3-4a8d-991a-1977c2ac1832"
   },
   "outputs": [
    {
     "data": {
      "text/plain": [
       "5-element Array{String,1}:\n",
       " \"new_jersey\"\n",
       " \"pennsylvania\"\n",
       " \"north_carolina\"\n",
       " \"oklahoma\"\n",
       " \"massachusetts\""
      ]
     },
     "execution_count": 170,
     "metadata": {
      "tags": []
     },
     "output_type": "execute_result"
    }
   ],
   "source": [
    "cosine_similar_words(text8_model_phrases, \"new_jersey\", 5)"
   ]
  },
  {
   "cell_type": "markdown",
   "metadata": {
    "id": "u1COLpcTOZjQ"
   },
   "source": [
    "**Scaling up to full sentences in the book macbeth**"
   ]
  },
  {
   "cell_type": "code",
   "execution_count": null,
   "metadata": {
    "colab": {
     "base_uri": "https://localhost:8080/"
    },
    "id": "wqYyoDr64e8m",
    "outputId": "0ab2183a-325e-447a-ab45-f7121faf530f"
   },
   "outputs": [
    {
     "name": "stdout",
     "output_type": "stream",
     "text": [
      "Loaded Macbeth, length = 119886 characters\n"
     ]
    }
   ],
   "source": [
    "txt = open(\"macbeth.txt\") do file\n",
    "    read(file, String)\n",
    "end\n",
    "println(\"Loaded Macbeth, length = $(length(txt)) characters\")"
   ]
  },
  {
   "cell_type": "code",
   "execution_count": null,
   "metadata": {
    "colab": {
     "base_uri": "https://localhost:8080/"
    },
    "id": "EhajsbZL4n1X",
    "outputId": "37a1ddfa-9b76-4f0b-cade-0a0f0c3aa5ce"
   },
   "outputs": [
    {
     "data": {
      "text/plain": [
       "11-element Array{SubString{String},1}:\n",
       " \"Some holy angel Fly to the court of England and unfold His message ere he come that a swift blessing May soon return to this our suffering country Under a hand accurs'd LORD.\"\n",
       " \"I'll send my prayers with him.\"\n",
       " \"[Exeunt.] ACT IV.\"\n",
       " \"SCENE I.\"\n",
       " \"A dark Cave.\"\n",
       " \"In the middle a Caldron Boiling.\"\n",
       " \"[Thunder. Enter the three Witches.] FIRST WITCH.\"\n",
       " \"Thrice the brinded cat hath mew'd.\"\n",
       " \"SECOND WITCH.\"\n",
       " \"Thrice and once the hedge-pig whin'd.\"\n",
       " \"THIRD WITCH.\""
      ]
     },
     "execution_count": 190,
     "metadata": {
      "tags": []
     },
     "output_type": "execute_result"
    }
   ],
   "source": [
    "txt = replace(txt, r\"\\n|\\r|_|,\" => \" \")\n",
    "txt = replace(txt, r\"[\\\"*();!]\" => \"\")\n",
    "sd=StringDocument(txt)\n",
    "prepare!(sd, strip_whitespace)\n",
    "sentences = split_sentences(sd.text)\n",
    "i=1\n",
    "for s in 1:length(sentences)\n",
    "    if length(split(sentences[s]))>3\n",
    "        sentences[i]=lowercase(replace(sentences[s], \".\"=>\"\"))\n",
    "        i+=1\n",
    "    end\n",
    "end\n",
    "sentences[1000:1010]"
   ]
  },
  {
   "cell_type": "code",
   "execution_count": null,
   "metadata": {
    "colab": {
     "base_uri": "https://localhost:8080/"
    },
    "id": "zYE_yjDs5S7J",
    "outputId": "e5257ab0-5260-4886-a0aa-d0b291ca24e1"
   },
   "outputs": [
    {
     "data": {
      "text/plain": [
       "\"we need your donations more than ever all donations should be made to project gutenberg/cmu: and are tax deductible to the extent allowable by law\""
      ]
     },
     "execution_count": 191,
     "metadata": {
      "tags": []
     },
     "output_type": "execute_result"
    }
   ],
   "source": [
    "sentences[22]"
   ]
  },
  {
   "cell_type": "code",
   "execution_count": null,
   "metadata": {
    "colab": {
     "base_uri": "https://localhost:8080/"
    },
    "id": "_WAdtNlO4x3r",
    "outputId": "64df2096-180e-48b0-d0f6-ce3488e7c542"
   },
   "outputs": [
    {
     "data": {
      "text/plain": [
       "50-element Array{Float32,1}:\n",
       "  0.37784204\n",
       "  0.114053465\n",
       "  0.18923575\n",
       " -0.3815774\n",
       "  0.26328376\n",
       "  0.28519785\n",
       " -0.25182453\n",
       " -0.2837967\n",
       "  0.10584256\n",
       "  0.05207872\n",
       " -0.09566488\n",
       "  0.23670004\n",
       "  0.014222746\n",
       "  ⋮\n",
       "  0.01329596\n",
       " -0.20304763\n",
       " -0.259647\n",
       "  0.011060621\n",
       "  0.21583354\n",
       "  0.47177097\n",
       " -0.2735853\n",
       " -0.18427198\n",
       " -0.38094747\n",
       "  0.2206186\n",
       " -0.1340036\n",
       "  0.070441045"
      ]
     },
     "execution_count": 192,
     "metadata": {
      "tags": []
     },
     "output_type": "execute_result"
    }
   ],
   "source": [
    "sentvec(22)"
   ]
  },
  {
   "cell_type": "code",
   "execution_count": null,
   "metadata": {
    "colab": {
     "base_uri": "https://localhost:8080/"
    },
    "id": "1TZI5u4K5oZ7",
    "outputId": "84ae7193-924d-4118-bf9b-29db567fd198"
   },
   "outputs": [
    {
     "data": {
      "text/plain": [
       "20-element Array{SubString{String},1}:\n",
       " \"Dispute it like a man.\"\n",
       " \"cool it with a baboon's blood then the charm is firm and good\"\n",
       " \"fillet of a fenny snake in the caldron boil and bake eye of newt and toe of frog wool of bat and tongue of dog adder's fork and blind-worm's sting lizard's leg and howlet's wing -- for a charm of powerful trouble like a hell-broth boil and bubble\"\n",
       " \"How now you secret black and midnight hags What is't you do?\"\n",
       " \"what three things does drink especially provoke?\"\n",
       " \"where is your husband?\"\n",
       " \"my hands are of your color but i shame to wear a heart so white\"\n",
       " \"there if i grow the harvest is your own\"\n",
       " \"Thou are too like the spirit of Banquo down Thy crown does sear mine eyeballs:--and thy hair Thou other gold-bound brow is like the first-- A third is like the former.--Filthy hags Why do you show me this?--A fourth--Start eyes What will the line stretch out to the crack of doom?\"\n",
       " \"sweet remembrancer-- now good digestion wait on appetite and health on both lennox\"\n",
       " \"What you egg [Stabbing him.] Young fry of treachery SON.\"\n",
       " \"faith here's an english tailor come hither for stealing out of a french hose: come in tailor here you may roast your goose-- [knocking] knock knock: never at quiet what are you?--but this place is too cold for hell\"\n",
       " \"her husband's to aleppo gone master o' the tiger: but in a sieve i'll thither sail and like a rat without a tail i'll do i'll do and i'll do\"\n",
       " \"round about the caldron go in the poison'd entrails throw-- toad that under cold stone days and nights has thirty-one swelter'd venom sleeping got boil thou first i' the charmed pot all\"\n",
       " \"ha they pluck out mine eyes will all great neptune's ocean wash this blood clean from my hand?\"\n",
       " \"Where is your husband?\"\n",
       " \"Fillet of a fenny snake In the caldron boil and bake Eye of newt and toe of frog Wool of bat and tongue of dog Adder's fork and blind-worm's sting Lizard's leg and howlet's wing -- For a charm of powerful trouble Like a hell-broth boil and bubble.\"\n",
       " \"how now you secret black and midnight hags what is't you do?\"\n",
       " \"o never shall sun that morrow see your face my thane is as a book where men may read strange matters:--to beguile the time look like the time bear welcome in your eye your hand your tongue: look like the innocent flower but be the serpent under't\"\n",
       " \"thou are too like the spirit of banquo down thy crown does sear mine eyeballs:--and thy hair thou other gold-bound brow is like the first-- a third is like the former--filthy hags why do you show me this?--a fourth--start eyes what will the line stretch out to the crack of doom?\""
      ]
     },
     "execution_count": 193,
     "metadata": {
      "tags": []
     },
     "output_type": "execute_result"
    }
   ],
   "source": [
    "closest_sent(\"my favorite food is strawberry ice cream\")"
   ]
  },
  {
   "cell_type": "code",
   "execution_count": null,
   "metadata": {
    "colab": {
     "background_save": true
    },
    "id": "45XjzoNw6cVa"
   },
   "outputs": [],
   "source": [
    "macbeth_sent_vecs=[]\n",
    "for s in 1:length(sentences)\n",
    "    i==1 ? macbeth_sent_vecs=sentvec(s) : push!(macbeth_sent_vecs,sentvec(s))\n",
    "end"
   ]
  },
  {
   "cell_type": "code",
   "execution_count": null,
   "metadata": {
    "colab": {
     "background_save": true
    },
    "id": "KVpLWl0C7DLc"
   },
   "outputs": [],
   "source": [
    "writedlm( \"macbeth_sent_vec.csv\",  macbeth_sent_vecs, ',')\n"
   ]
  },
  {
   "cell_type": "code",
   "execution_count": null,
   "metadata": {
    "colab": {
     "background_save": true
    },
    "id": "QVwrMO5C7J5q"
   },
   "outputs": [],
   "source": [
    "writedlm( \"macbeth_sentences.csv\",  sentences, ',')\n"
   ]
  },
  {
   "cell_type": "code",
   "execution_count": null,
   "metadata": {
    "colab": {
     "background_save": true
    },
    "id": "Bx4RuLAK7mcC",
    "outputId": "d12e75b8-de2e-4de1-8385-db95671ba0a9"
   },
   "outputs": [
    {
     "data": {
      "text/plain": [
       "1649×50 Array{Float32,2}:\n",
       "   0.218204    0.15257     -0.0881015   …   -0.00134969    -0.125002\n",
       "   0.217248    0.170891     0.277308        -0.00419656     0.0283584\n",
       "   0.418575   -0.0769       0.0130888        0.0883818      0.224493\n",
       "   0.350422    0.0837956    0.117248        -0.128123      -0.34731\n",
       "   0.460269    0.2135       0.3541          -0.106532       0.398037\n",
       "   0.37649     0.117803    -0.197311    …   -0.0742857     -0.0264935\n",
       "   0.329592    0.214679    -0.113543        -0.126887      -0.251263\n",
       "   0.209353    0.0975065   -0.115255        -0.0484852      0.041582\n",
       "   0.302883    0.127629     0.0802725       -0.15581       -0.108064\n",
       "   0.375961    0.25363     -0.122392        -0.0311806     -0.174761\n",
       "   0.358873    0.311653    -0.108573    …   -0.0476981     -0.282434\n",
       "   0.329278   -0.0517918   -0.00524605      -0.000999476    0.154879\n",
       "   0.267911    0.210859     0.144728        -0.0236636     -0.0472872\n",
       "   ⋮                                    ⋱                 \n",
       "   0.40329    -0.0863931   -0.105161        -0.143583      -0.0102727\n",
       " 999.0       999.0        999.0            999.0          999.0\n",
       "   0.597933    0.331675     0.178475        -0.362054       0.111828\n",
       " 999.0       999.0        999.0         …  999.0          999.0\n",
       "   0.359083    0.109138     0.015894        -0.218824       0.0229731\n",
       "   0.25616     0.43694     -0.11889         -0.25868       -0.39339\n",
       "   0.21239     0.41196     -0.118266        -0.161181      -0.201973\n",
       "   0.70853     0.57088     -0.4716          -0.093918      -0.80375\n",
       "   0.360793    0.1343       0.0811129   …   -0.151225       0.123721\n",
       "   0.29675     0.144567    -0.273706        -0.124568      -0.363868\n",
       "   0.345414    0.120864    -0.0354816       -0.113231      -0.143002\n",
       "   0.509761    0.365235    -0.109047        -0.194948      -0.552566"
      ]
     },
     "execution_count": 0,
     "metadata": {
      "tags": []
     },
     "output_type": "execute_result"
    }
   ],
   "source": [
    "sentences=readdlm(\"macbeth_sentences.csv\", '!', String, header=false)\n",
    "macbeth_sent_vecs=readdlm(\"macbeth_sent_vec.csv\", ',', Float32, header=false)"
   ]
  },
  {
   "cell_type": "code",
   "execution_count": null,
   "metadata": {
    "colab": {
     "background_save": true
    },
    "id": "ZK8F59bF7qGJ",
    "outputId": "36040369-ab17-4ecc-bba5-1f070b2528b7"
   },
   "outputs": [
    {
     "data": {
      "text/plain": [
       "20-element Array{String,1}:\n",
       " \"your son my lord has paid a soldier's debt: he only liv'd but till he was a man the which no sooner had his prowess confirm'd in the unshrinking station where he fought but like a man he died\"\n",
       " \"Your son my lord has paid a soldier's debt: He only liv'd but till he was a man The which no sooner had his prowess confirm'd In the unshrinking station where he fought But like a man he died.\"\n",
       " \"he's here in double trust: first as i am his kinsman and his subject strong both against the deed: then as his host who should against his murderer shut the door not bear the knife myself\"\n",
       " \"out damned spot out i say-- one two why then 'tis time to do't --hell is murky--fie my lord fie a soldier and afeard?\"\n",
       " \"he has kill'd me mother: run away i pray you [dies exit lady macduff crying murder and pursued by the murderers] scene iii\"\n",
       " \"but i have spoke with one that saw him die: who did report that very frankly he confess'd his treasons implor'd your highness' pardon and set forth a deep repentance: nothing in his life became him like the leaving it he died as one that had been studied in his death to throw away the dearest thing he ow'd as 'twere a careless trifle\"\n",
       " \"he chid the sisters when first they put the name of king upon me and bade them speak to him then prophet-like they hail'd him father to a line of kings: upon my head they plac'd a fruitless crown and put a barren sceptre in my gripe thence to be wrench'd with an unlineal hand no son of mine succeeding\"\n",
       " \"Wisdom to leave his wife to leave his babes His mansion and his titles in a place From whence himself does fly?\"\n",
       " \"here i have a pilot's thumb wreck'd as homeward he did come\"\n",
       " \"when was it she last walked?\"\n",
       " \"now does he feel his secret murders sticking on his hands now minutely revolts upbraid his faith-breach those he commands move only in command nothing in love: now does he feel his title hang loose about him like a giant's robe upon a dwarfish thief\"\n",
       " \"Out damned spot out I say-- One two why then 'tis time to do't --Hell is murky--Fie my lord fie a soldier and afeard?\"\n",
       " \"wisdom to leave his wife to leave his babes his mansion and his titles in a place from whence himself does fly?\"\n",
       " \"Now does he feel His secret murders sticking on his hands Now minutely revolts upbraid his faith-breach Those he commands move only in command Nothing in love: now does he feel his title Hang loose about him like a giant's robe Upon a dwarfish thief.\"\n",
       " \"and when goes hence?\"\n",
       " \"we cours'd him at the heels and had a purpose to be his purveyor: but he rides well and his great love sharp as his spur hath holp him to his home before us\"\n",
       " \"but all's too weak for brave macbeth --well he deserves that name -- disdaining fortune with his brandish'd steel which smok'd with bloody execution like valor's minion carv'd out his passag ttill he fac'd the slave and ne'er shook hands nor bade farewell to him till he unseam'd him from the nave to the chaps and fix'd his head upon our battlements\"\n",
       " \"alack i am afraid they have awak'd and 'tis not done: the attempt and not the deed confounds us--hark--i laid their daggers ready he could not miss 'em--had he not resembled my father as he slept i had done't--my husband [re-enter macbeth] macbeth\"\n",
       " \"that it did sir i' the very throat o' me but i requited him for his lie and i think being too strong for him though he took up my legs sometime yet i made a shift to cast him\"\n",
       " \"he has almost supp'd: why have you left the chamber?\""
      ]
     },
     "execution_count": 0,
     "metadata": {
      "tags": []
     },
     "output_type": "execute_result"
    }
   ],
   "source": [
    "closest_sent_pretrained(macbeth_sent_vecs, \"i stabbed him in the back\")"
   ]
  }
 ],
 "metadata": {
  "accelerator": "GPU",
  "colab": {
   "collapsed_sections": [],
   "name": "Comp 4475 - Project 2 - 0871347",
   "provenance": []
  },
  "kernelspec": {
   "display_name": "Julia 1.5.3",
   "language": "julia",
   "name": "julia-1.5"
  },
  "language_info": {
   "file_extension": ".jl",
   "mimetype": "application/julia",
   "name": "julia",
   "version": "1.5.3"
  }
 },
 "nbformat": 4,
 "nbformat_minor": 1
}
